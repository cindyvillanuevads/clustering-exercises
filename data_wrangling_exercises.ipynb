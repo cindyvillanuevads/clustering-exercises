{
 "cells": [
  {
   "cell_type": "code",
   "execution_count": 1,
   "metadata": {},
   "outputs": [],
   "source": [
    "import numpy as np\n",
    "import pandas as pd\n",
    "import acquire as a \n",
    "import prepare as p\n",
    "import wrangle_zillow as wz\n",
    "import matplotlib.pyplot as plt\n",
    "import seaborn as sns\n",
    "import scipy.stats as stats\n",
    "from sklearn.impute import SimpleImputer"
   ]
  },
  {
   "cell_type": "markdown",
   "metadata": {},
   "source": [
    "# Zillow"
   ]
  },
  {
   "cell_type": "markdown",
   "metadata": {},
   "source": [
    "For the following, iterate through the steps you would take to create functions: Write the code to do the following in a jupyter notebook, test it, convert to functions, then create the file to house those functions.\n",
    "\n",
    "You will have a zillow.ipynb file and a helper file for each section in the pipeline."
   ]
  },
  {
   "cell_type": "markdown",
   "metadata": {},
   "source": [
    "### acquire & summarize"
   ]
  },
  {
   "cell_type": "markdown",
   "metadata": {},
   "source": [
    "1. Acquire data from mySQL using the python module to connect and query. You will want to end with a single dataframe. Make sure to include: the logerror, all fields related to the properties that are available. You will end up using all the tables in the database.\n",
    "\n",
    "- Be sure to do the correct join (inner, outer, etc.). We do not want to eliminate properties purely because they may have a null value for airconditioningtypeid.\n",
    "- Only include properties with a transaction in 2017, and include only the last transaction for each property (so no duplicate property ID's), along with zestimate error and date of transaction.\n",
    "- Only include properties that include a latitude and longitude value."
   ]
  },
  {
   "cell_type": "code",
   "execution_count": 2,
   "metadata": {},
   "outputs": [],
   "source": [
    "#write a query (this is from sql)"
   ]
  },
  {
   "cell_type": "code",
   "execution_count": 3,
   "metadata": {},
   "outputs": [],
   "source": [
    "sql_query = '''\n",
    "SELECT prop.parcelid,  prop.basementsqft, bathroomcnt, bedroomcnt, decktypeid, calculatedfinishedsquarefeet,\n",
    "fips, fireplacecnt, garagecarcnt, hashottuborspa, latitude, longitude, lotsizesquarefeet, poolcnt,\n",
    "yearbuilt, numberofstories, prop.airconditioningtypeid, airconditioningdesc, prop.architecturalstyletypeid,\n",
    "architecturalstyledesc, prop.buildingclasstypeid, buildingclassdesc, prop.heatingorsystemtypeid,\n",
    "heatingorsystemdesc, prop.storytypeid, storydesc, prop.propertylandusetypeid, propertylandusedesc, \n",
    "prop.typeconstructiontypeid, typeconstructiondesc, unitcnt, taxvaluedollarcnt, taxamount, logerror, transactiondate \n",
    "from properties_2017 as prop\n",
    "join predictions_2017 as pred USING (parcelid)\n",
    "LEFT JOIN airconditioningtype USING (airconditioningtypeid)\n",
    "LEFT JOIN architecturalstyletype USING (architecturalstyletypeid)\n",
    "LEFT JOIN buildingclasstype USING (buildingclasstypeid)\n",
    "LEFT JOIN heatingorsystemtype USING (heatingorsystemtypeid)\n",
    "LEFT JOIN propertylandusetype USING (propertylandusetypeid)\n",
    "LEFT JOIN storytype USING(storytypeid)\n",
    "LEFT JOIN typeconstructiontype USING (typeconstructiontypeid)\n",
    "WHERE transactiondate like '2017%' \n",
    "AND latitude >= 0 AND longitude <= 0;\n",
    "'''"
   ]
  },
  {
   "cell_type": "code",
   "execution_count": 4,
   "metadata": {},
   "outputs": [],
   "source": [
    "sql_query2 ='''\n",
    "SELECT prop.parcelid,  prop.basementsqft, bathroomcnt, bedroomcnt, decktypeid, calculatedfinishedsquarefeet,\n",
    "fips, fireplacecnt, garagecarcnt, hashottuborspa, latitude, longitude, lotsizesquarefeet, poolcnt,\n",
    "yearbuilt, numberofstories, prop.airconditioningtypeid, airconditioningdesc, prop.architecturalstyletypeid,\n",
    "architecturalstyledesc, prop.buildingclasstypeid, buildingclassdesc, prop.heatingorsystemtypeid,\n",
    "heatingorsystemdesc, prop.storytypeid, storydesc, prop.propertylandusetypeid, propertylandusedesc, \n",
    "prop.typeconstructiontypeid, typeconstructiondesc, unitcnt, taxvaluedollarcnt, taxamount, logerror, transactiondate \n",
    "from properties_2017 as prop\n",
    "right join predictions_2017 as pred USING (parcelid)\n",
    "LEFT JOIN airconditioningtype USING (airconditioningtypeid)\n",
    "LEFT JOIN architecturalstyletype USING (architecturalstyletypeid)\n",
    "LEFT JOIN buildingclasstype USING (buildingclasstypeid)\n",
    "LEFT JOIN heatingorsystemtype USING (heatingorsystemtypeid)\n",
    "LEFT JOIN propertylandusetype USING (propertylandusetypeid)\n",
    "LEFT JOIN storytype USING(storytypeid)\n",
    "LEFT JOIN typeconstructiontype USING (typeconstructiontypeid)\n",
    "WHERE transactiondate like '2017%'  \n",
    "AND latitude != 'NULL' AND longitude != 'NULL';\n",
    "'''"
   ]
  },
  {
   "cell_type": "code",
   "execution_count": 5,
   "metadata": {},
   "outputs": [],
   "source": [
    "#acquire my df\n",
    "df= a.get_data_from_sql('zillow',sql_query2)"
   ]
  },
  {
   "cell_type": "code",
   "execution_count": 6,
   "metadata": {},
   "outputs": [
    {
     "data": {
      "text/html": [
       "<div>\n",
       "<style scoped>\n",
       "    .dataframe tbody tr th:only-of-type {\n",
       "        vertical-align: middle;\n",
       "    }\n",
       "\n",
       "    .dataframe tbody tr th {\n",
       "        vertical-align: top;\n",
       "    }\n",
       "\n",
       "    .dataframe thead th {\n",
       "        text-align: right;\n",
       "    }\n",
       "</style>\n",
       "<table border=\"1\" class=\"dataframe\">\n",
       "  <thead>\n",
       "    <tr style=\"text-align: right;\">\n",
       "      <th></th>\n",
       "      <th>parcelid</th>\n",
       "      <th>basementsqft</th>\n",
       "      <th>bathroomcnt</th>\n",
       "      <th>bedroomcnt</th>\n",
       "      <th>decktypeid</th>\n",
       "      <th>calculatedfinishedsquarefeet</th>\n",
       "      <th>fips</th>\n",
       "      <th>fireplacecnt</th>\n",
       "      <th>garagecarcnt</th>\n",
       "      <th>hashottuborspa</th>\n",
       "      <th>...</th>\n",
       "      <th>storydesc</th>\n",
       "      <th>propertylandusetypeid</th>\n",
       "      <th>propertylandusedesc</th>\n",
       "      <th>typeconstructiontypeid</th>\n",
       "      <th>typeconstructiondesc</th>\n",
       "      <th>unitcnt</th>\n",
       "      <th>taxvaluedollarcnt</th>\n",
       "      <th>taxamount</th>\n",
       "      <th>logerror</th>\n",
       "      <th>transactiondate</th>\n",
       "    </tr>\n",
       "  </thead>\n",
       "  <tbody>\n",
       "    <tr>\n",
       "      <th>0</th>\n",
       "      <td>14297519</td>\n",
       "      <td>NaN</td>\n",
       "      <td>3.5</td>\n",
       "      <td>4.0</td>\n",
       "      <td>NaN</td>\n",
       "      <td>3100.0</td>\n",
       "      <td>6059.0</td>\n",
       "      <td>NaN</td>\n",
       "      <td>2.0</td>\n",
       "      <td>NaN</td>\n",
       "      <td>...</td>\n",
       "      <td>None</td>\n",
       "      <td>261.0</td>\n",
       "      <td>Single Family Residential</td>\n",
       "      <td>NaN</td>\n",
       "      <td>None</td>\n",
       "      <td>NaN</td>\n",
       "      <td>1023282.0</td>\n",
       "      <td>11013.72</td>\n",
       "      <td>0.025595</td>\n",
       "      <td>2017-01-01</td>\n",
       "    </tr>\n",
       "    <tr>\n",
       "      <th>1</th>\n",
       "      <td>17052889</td>\n",
       "      <td>NaN</td>\n",
       "      <td>1.0</td>\n",
       "      <td>2.0</td>\n",
       "      <td>NaN</td>\n",
       "      <td>1465.0</td>\n",
       "      <td>6111.0</td>\n",
       "      <td>1.0</td>\n",
       "      <td>1.0</td>\n",
       "      <td>NaN</td>\n",
       "      <td>...</td>\n",
       "      <td>None</td>\n",
       "      <td>261.0</td>\n",
       "      <td>Single Family Residential</td>\n",
       "      <td>NaN</td>\n",
       "      <td>None</td>\n",
       "      <td>NaN</td>\n",
       "      <td>464000.0</td>\n",
       "      <td>5672.48</td>\n",
       "      <td>0.055619</td>\n",
       "      <td>2017-01-01</td>\n",
       "    </tr>\n",
       "    <tr>\n",
       "      <th>2</th>\n",
       "      <td>14186244</td>\n",
       "      <td>NaN</td>\n",
       "      <td>2.0</td>\n",
       "      <td>3.0</td>\n",
       "      <td>NaN</td>\n",
       "      <td>1243.0</td>\n",
       "      <td>6059.0</td>\n",
       "      <td>NaN</td>\n",
       "      <td>2.0</td>\n",
       "      <td>NaN</td>\n",
       "      <td>...</td>\n",
       "      <td>None</td>\n",
       "      <td>261.0</td>\n",
       "      <td>Single Family Residential</td>\n",
       "      <td>NaN</td>\n",
       "      <td>None</td>\n",
       "      <td>NaN</td>\n",
       "      <td>564778.0</td>\n",
       "      <td>6488.30</td>\n",
       "      <td>0.005383</td>\n",
       "      <td>2017-01-01</td>\n",
       "    </tr>\n",
       "    <tr>\n",
       "      <th>3</th>\n",
       "      <td>12177905</td>\n",
       "      <td>NaN</td>\n",
       "      <td>3.0</td>\n",
       "      <td>4.0</td>\n",
       "      <td>NaN</td>\n",
       "      <td>2376.0</td>\n",
       "      <td>6037.0</td>\n",
       "      <td>NaN</td>\n",
       "      <td>NaN</td>\n",
       "      <td>NaN</td>\n",
       "      <td>...</td>\n",
       "      <td>None</td>\n",
       "      <td>261.0</td>\n",
       "      <td>Single Family Residential</td>\n",
       "      <td>NaN</td>\n",
       "      <td>None</td>\n",
       "      <td>1.0</td>\n",
       "      <td>145143.0</td>\n",
       "      <td>1777.51</td>\n",
       "      <td>-0.103410</td>\n",
       "      <td>2017-01-01</td>\n",
       "    </tr>\n",
       "    <tr>\n",
       "      <th>4</th>\n",
       "      <td>10887214</td>\n",
       "      <td>NaN</td>\n",
       "      <td>3.0</td>\n",
       "      <td>3.0</td>\n",
       "      <td>NaN</td>\n",
       "      <td>1312.0</td>\n",
       "      <td>6037.0</td>\n",
       "      <td>NaN</td>\n",
       "      <td>NaN</td>\n",
       "      <td>NaN</td>\n",
       "      <td>...</td>\n",
       "      <td>None</td>\n",
       "      <td>266.0</td>\n",
       "      <td>Condominium</td>\n",
       "      <td>NaN</td>\n",
       "      <td>None</td>\n",
       "      <td>1.0</td>\n",
       "      <td>119407.0</td>\n",
       "      <td>1533.89</td>\n",
       "      <td>0.006940</td>\n",
       "      <td>2017-01-01</td>\n",
       "    </tr>\n",
       "  </tbody>\n",
       "</table>\n",
       "<p>5 rows × 35 columns</p>\n",
       "</div>"
      ],
      "text/plain": [
       "   parcelid  basementsqft  bathroomcnt  bedroomcnt  decktypeid  \\\n",
       "0  14297519           NaN          3.5         4.0         NaN   \n",
       "1  17052889           NaN          1.0         2.0         NaN   \n",
       "2  14186244           NaN          2.0         3.0         NaN   \n",
       "3  12177905           NaN          3.0         4.0         NaN   \n",
       "4  10887214           NaN          3.0         3.0         NaN   \n",
       "\n",
       "   calculatedfinishedsquarefeet    fips  fireplacecnt  garagecarcnt  \\\n",
       "0                        3100.0  6059.0           NaN           2.0   \n",
       "1                        1465.0  6111.0           1.0           1.0   \n",
       "2                        1243.0  6059.0           NaN           2.0   \n",
       "3                        2376.0  6037.0           NaN           NaN   \n",
       "4                        1312.0  6037.0           NaN           NaN   \n",
       "\n",
       "   hashottuborspa  ...  storydesc  propertylandusetypeid  \\\n",
       "0             NaN  ...       None                  261.0   \n",
       "1             NaN  ...       None                  261.0   \n",
       "2             NaN  ...       None                  261.0   \n",
       "3             NaN  ...       None                  261.0   \n",
       "4             NaN  ...       None                  266.0   \n",
       "\n",
       "         propertylandusedesc  typeconstructiontypeid  typeconstructiondesc  \\\n",
       "0  Single Family Residential                     NaN                  None   \n",
       "1  Single Family Residential                     NaN                  None   \n",
       "2  Single Family Residential                     NaN                  None   \n",
       "3  Single Family Residential                     NaN                  None   \n",
       "4                Condominium                     NaN                  None   \n",
       "\n",
       "   unitcnt  taxvaluedollarcnt taxamount  logerror transactiondate  \n",
       "0      NaN          1023282.0  11013.72  0.025595      2017-01-01  \n",
       "1      NaN           464000.0   5672.48  0.055619      2017-01-01  \n",
       "2      NaN           564778.0   6488.30  0.005383      2017-01-01  \n",
       "3      1.0           145143.0   1777.51 -0.103410      2017-01-01  \n",
       "4      1.0           119407.0   1533.89  0.006940      2017-01-01  \n",
       "\n",
       "[5 rows x 35 columns]"
      ]
     },
     "execution_count": 6,
     "metadata": {},
     "output_type": "execute_result"
    }
   ],
   "source": [
    "df.head()"
   ]
  },
  {
   "cell_type": "code",
   "execution_count": 7,
   "metadata": {},
   "outputs": [
    {
     "data": {
      "text/plain": [
       "(77579, 35)"
      ]
     },
     "execution_count": 7,
     "metadata": {},
     "output_type": "execute_result"
    }
   ],
   "source": [
    "df.shape"
   ]
  },
  {
   "cell_type": "code",
   "execution_count": 8,
   "metadata": {},
   "outputs": [
    {
     "data": {
      "text/plain": [
       "77381"
      ]
     },
     "execution_count": 8,
     "metadata": {},
     "output_type": "execute_result"
    }
   ],
   "source": [
    "#checking the unique values\n",
    "df['parcelid'].nunique()"
   ]
  },
  {
   "cell_type": "code",
   "execution_count": 9,
   "metadata": {},
   "outputs": [],
   "source": [
    "#getting the latest transaction . fist we need to sort the transaction dates and then drop duplicates and keep last\n",
    "df1 = df.sort_values(by ='transactiondate', ascending=True).drop_duplicates( subset = 'parcelid' ,keep= 'last')"
   ]
  },
  {
   "cell_type": "code",
   "execution_count": 10,
   "metadata": {},
   "outputs": [
    {
     "data": {
      "text/html": [
       "<div>\n",
       "<style scoped>\n",
       "    .dataframe tbody tr th:only-of-type {\n",
       "        vertical-align: middle;\n",
       "    }\n",
       "\n",
       "    .dataframe tbody tr th {\n",
       "        vertical-align: top;\n",
       "    }\n",
       "\n",
       "    .dataframe thead th {\n",
       "        text-align: right;\n",
       "    }\n",
       "</style>\n",
       "<table border=\"1\" class=\"dataframe\">\n",
       "  <thead>\n",
       "    <tr style=\"text-align: right;\">\n",
       "      <th></th>\n",
       "      <th>parcelid</th>\n",
       "      <th>basementsqft</th>\n",
       "      <th>bathroomcnt</th>\n",
       "      <th>bedroomcnt</th>\n",
       "      <th>decktypeid</th>\n",
       "      <th>calculatedfinishedsquarefeet</th>\n",
       "      <th>fips</th>\n",
       "      <th>fireplacecnt</th>\n",
       "      <th>garagecarcnt</th>\n",
       "      <th>hashottuborspa</th>\n",
       "      <th>...</th>\n",
       "      <th>storydesc</th>\n",
       "      <th>propertylandusetypeid</th>\n",
       "      <th>propertylandusedesc</th>\n",
       "      <th>typeconstructiontypeid</th>\n",
       "      <th>typeconstructiondesc</th>\n",
       "      <th>unitcnt</th>\n",
       "      <th>taxvaluedollarcnt</th>\n",
       "      <th>taxamount</th>\n",
       "      <th>logerror</th>\n",
       "      <th>transactiondate</th>\n",
       "    </tr>\n",
       "  </thead>\n",
       "  <tbody>\n",
       "    <tr>\n",
       "      <th>44944</th>\n",
       "      <td>10857130</td>\n",
       "      <td>NaN</td>\n",
       "      <td>0.0</td>\n",
       "      <td>0.0</td>\n",
       "      <td>NaN</td>\n",
       "      <td>NaN</td>\n",
       "      <td>6037.0</td>\n",
       "      <td>NaN</td>\n",
       "      <td>NaN</td>\n",
       "      <td>NaN</td>\n",
       "      <td>...</td>\n",
       "      <td>None</td>\n",
       "      <td>260.0</td>\n",
       "      <td>Residential General</td>\n",
       "      <td>NaN</td>\n",
       "      <td>None</td>\n",
       "      <td>NaN</td>\n",
       "      <td>1523182.0</td>\n",
       "      <td>18177.58</td>\n",
       "      <td>0.290908</td>\n",
       "      <td>2017-08-25</td>\n",
       "    </tr>\n",
       "  </tbody>\n",
       "</table>\n",
       "<p>1 rows × 35 columns</p>\n",
       "</div>"
      ],
      "text/plain": [
       "       parcelid  basementsqft  bathroomcnt  bedroomcnt  decktypeid  \\\n",
       "44944  10857130           NaN          0.0         0.0         NaN   \n",
       "\n",
       "       calculatedfinishedsquarefeet    fips  fireplacecnt  garagecarcnt  \\\n",
       "44944                           NaN  6037.0           NaN           NaN   \n",
       "\n",
       "       hashottuborspa  ...  storydesc  propertylandusetypeid  \\\n",
       "44944             NaN  ...       None                  260.0   \n",
       "\n",
       "       propertylandusedesc  typeconstructiontypeid  typeconstructiondesc  \\\n",
       "44944  Residential General                     NaN                  None   \n",
       "\n",
       "       unitcnt  taxvaluedollarcnt taxamount  logerror transactiondate  \n",
       "44944      NaN          1523182.0  18177.58  0.290908      2017-08-25  \n",
       "\n",
       "[1 rows x 35 columns]"
      ]
     },
     "execution_count": 10,
     "metadata": {},
     "output_type": "execute_result"
    }
   ],
   "source": [
    "#just checking if the df1 has the latest transactiondate\n",
    "df1[df1['parcelid'] == 10857130]"
   ]
  },
  {
   "cell_type": "code",
   "execution_count": 11,
   "metadata": {},
   "outputs": [
    {
     "data": {
      "text/plain": [
       "(77381, 35)"
      ]
     },
     "execution_count": 11,
     "metadata": {},
     "output_type": "execute_result"
    }
   ],
   "source": [
    "#we have the same number as nunique\n",
    "df1.shape"
   ]
  },
  {
   "cell_type": "code",
   "execution_count": 12,
   "metadata": {},
   "outputs": [
    {
     "name": "stdout",
     "output_type": "stream",
     "text": [
      "<class 'pandas.core.frame.DataFrame'>\n",
      "Int64Index: 77381 entries, 0 to 77578\n",
      "Data columns (total 35 columns):\n",
      " #   Column                        Non-Null Count  Dtype  \n",
      "---  ------                        --------------  -----  \n",
      " 0   parcelid                      77381 non-null  int64  \n",
      " 1   basementsqft                  50 non-null     float64\n",
      " 2   bathroomcnt                   77381 non-null  float64\n",
      " 3   bedroomcnt                    77381 non-null  float64\n",
      " 4   decktypeid                    614 non-null    float64\n",
      " 5   calculatedfinishedsquarefeet  77185 non-null  float64\n",
      " 6   fips                          77381 non-null  float64\n",
      " 7   fireplacecnt                  8276 non-null   float64\n",
      " 8   garagecarcnt                  25474 non-null  float64\n",
      " 9   hashottuborspa                1538 non-null   float64\n",
      " 10  latitude                      77381 non-null  float64\n",
      " 11  longitude                     77381 non-null  float64\n",
      " 12  lotsizesquarefeet             69142 non-null  float64\n",
      " 13  poolcnt                       16137 non-null  float64\n",
      " 14  yearbuilt                     77118 non-null  float64\n",
      " 15  numberofstories               17560 non-null  float64\n",
      " 16  airconditioningtypeid         24953 non-null  float64\n",
      " 17  airconditioningdesc           24953 non-null  object \n",
      " 18  architecturalstyletypeid      206 non-null    float64\n",
      " 19  architecturalstyledesc        206 non-null    object \n",
      " 20  buildingclasstypeid           15 non-null     float64\n",
      " 21  buildingclassdesc             15 non-null     object \n",
      " 22  heatingorsystemtypeid         49440 non-null  float64\n",
      " 23  heatingorsystemdesc           49440 non-null  object \n",
      " 24  storytypeid                   50 non-null     float64\n",
      " 25  storydesc                     50 non-null     object \n",
      " 26  propertylandusetypeid         77381 non-null  float64\n",
      " 27  propertylandusedesc           77381 non-null  object \n",
      " 28  typeconstructiontypeid        222 non-null    float64\n",
      " 29  typeconstructiondesc          222 non-null    object \n",
      " 30  unitcnt                       50563 non-null  float64\n",
      " 31  taxvaluedollarcnt             77380 non-null  float64\n",
      " 32  taxamount                     77376 non-null  float64\n",
      " 33  logerror                      77381 non-null  float64\n",
      " 34  transactiondate               77381 non-null  object \n",
      "dtypes: float64(26), int64(1), object(8)\n",
      "memory usage: 21.3+ MB\n"
     ]
    }
   ],
   "source": [
    "df1.info()"
   ]
  },
  {
   "cell_type": "markdown",
   "metadata": {},
   "source": [
    "**2. Summarize your data (summary stats, info, dtypes, shape, distributions, value_counts, etc.)**"
   ]
  },
  {
   "cell_type": "code",
   "execution_count": 13,
   "metadata": {
    "scrolled": true
   },
   "outputs": [
    {
     "data": {
      "text/html": [
       "<div>\n",
       "<style scoped>\n",
       "    .dataframe tbody tr th:only-of-type {\n",
       "        vertical-align: middle;\n",
       "    }\n",
       "\n",
       "    .dataframe tbody tr th {\n",
       "        vertical-align: top;\n",
       "    }\n",
       "\n",
       "    .dataframe thead th {\n",
       "        text-align: right;\n",
       "    }\n",
       "</style>\n",
       "<table border=\"1\" class=\"dataframe\">\n",
       "  <thead>\n",
       "    <tr style=\"text-align: right;\">\n",
       "      <th></th>\n",
       "      <th>parcelid</th>\n",
       "      <th>basementsqft</th>\n",
       "      <th>bathroomcnt</th>\n",
       "      <th>bedroomcnt</th>\n",
       "      <th>decktypeid</th>\n",
       "      <th>calculatedfinishedsquarefeet</th>\n",
       "      <th>fips</th>\n",
       "      <th>fireplacecnt</th>\n",
       "      <th>garagecarcnt</th>\n",
       "      <th>hashottuborspa</th>\n",
       "      <th>...</th>\n",
       "      <th>storydesc</th>\n",
       "      <th>propertylandusetypeid</th>\n",
       "      <th>propertylandusedesc</th>\n",
       "      <th>typeconstructiontypeid</th>\n",
       "      <th>typeconstructiondesc</th>\n",
       "      <th>unitcnt</th>\n",
       "      <th>taxvaluedollarcnt</th>\n",
       "      <th>taxamount</th>\n",
       "      <th>logerror</th>\n",
       "      <th>transactiondate</th>\n",
       "    </tr>\n",
       "  </thead>\n",
       "  <tbody>\n",
       "    <tr>\n",
       "      <th>0</th>\n",
       "      <td>14297519</td>\n",
       "      <td>NaN</td>\n",
       "      <td>3.5</td>\n",
       "      <td>4.0</td>\n",
       "      <td>NaN</td>\n",
       "      <td>3100.0</td>\n",
       "      <td>6059.0</td>\n",
       "      <td>NaN</td>\n",
       "      <td>2.0</td>\n",
       "      <td>NaN</td>\n",
       "      <td>...</td>\n",
       "      <td>None</td>\n",
       "      <td>261.0</td>\n",
       "      <td>Single Family Residential</td>\n",
       "      <td>NaN</td>\n",
       "      <td>None</td>\n",
       "      <td>NaN</td>\n",
       "      <td>1023282.0</td>\n",
       "      <td>11013.72</td>\n",
       "      <td>0.025595</td>\n",
       "      <td>2017-01-01</td>\n",
       "    </tr>\n",
       "    <tr>\n",
       "      <th>1</th>\n",
       "      <td>17052889</td>\n",
       "      <td>NaN</td>\n",
       "      <td>1.0</td>\n",
       "      <td>2.0</td>\n",
       "      <td>NaN</td>\n",
       "      <td>1465.0</td>\n",
       "      <td>6111.0</td>\n",
       "      <td>1.0</td>\n",
       "      <td>1.0</td>\n",
       "      <td>NaN</td>\n",
       "      <td>...</td>\n",
       "      <td>None</td>\n",
       "      <td>261.0</td>\n",
       "      <td>Single Family Residential</td>\n",
       "      <td>NaN</td>\n",
       "      <td>None</td>\n",
       "      <td>NaN</td>\n",
       "      <td>464000.0</td>\n",
       "      <td>5672.48</td>\n",
       "      <td>0.055619</td>\n",
       "      <td>2017-01-01</td>\n",
       "    </tr>\n",
       "    <tr>\n",
       "      <th>2</th>\n",
       "      <td>14186244</td>\n",
       "      <td>NaN</td>\n",
       "      <td>2.0</td>\n",
       "      <td>3.0</td>\n",
       "      <td>NaN</td>\n",
       "      <td>1243.0</td>\n",
       "      <td>6059.0</td>\n",
       "      <td>NaN</td>\n",
       "      <td>2.0</td>\n",
       "      <td>NaN</td>\n",
       "      <td>...</td>\n",
       "      <td>None</td>\n",
       "      <td>261.0</td>\n",
       "      <td>Single Family Residential</td>\n",
       "      <td>NaN</td>\n",
       "      <td>None</td>\n",
       "      <td>NaN</td>\n",
       "      <td>564778.0</td>\n",
       "      <td>6488.30</td>\n",
       "      <td>0.005383</td>\n",
       "      <td>2017-01-01</td>\n",
       "    </tr>\n",
       "  </tbody>\n",
       "</table>\n",
       "<p>3 rows × 35 columns</p>\n",
       "</div>"
      ],
      "text/plain": [
       "   parcelid  basementsqft  bathroomcnt  bedroomcnt  decktypeid  \\\n",
       "0  14297519           NaN          3.5         4.0         NaN   \n",
       "1  17052889           NaN          1.0         2.0         NaN   \n",
       "2  14186244           NaN          2.0         3.0         NaN   \n",
       "\n",
       "   calculatedfinishedsquarefeet    fips  fireplacecnt  garagecarcnt  \\\n",
       "0                        3100.0  6059.0           NaN           2.0   \n",
       "1                        1465.0  6111.0           1.0           1.0   \n",
       "2                        1243.0  6059.0           NaN           2.0   \n",
       "\n",
       "   hashottuborspa  ...  storydesc  propertylandusetypeid  \\\n",
       "0             NaN  ...       None                  261.0   \n",
       "1             NaN  ...       None                  261.0   \n",
       "2             NaN  ...       None                  261.0   \n",
       "\n",
       "         propertylandusedesc  typeconstructiontypeid  typeconstructiondesc  \\\n",
       "0  Single Family Residential                     NaN                  None   \n",
       "1  Single Family Residential                     NaN                  None   \n",
       "2  Single Family Residential                     NaN                  None   \n",
       "\n",
       "   unitcnt  taxvaluedollarcnt taxamount  logerror transactiondate  \n",
       "0      NaN          1023282.0  11013.72  0.025595      2017-01-01  \n",
       "1      NaN           464000.0   5672.48  0.055619      2017-01-01  \n",
       "2      NaN           564778.0   6488.30  0.005383      2017-01-01  \n",
       "\n",
       "[3 rows x 35 columns]"
      ]
     },
     "execution_count": 13,
     "metadata": {},
     "output_type": "execute_result"
    }
   ],
   "source": [
    "df1.head(3)"
   ]
  },
  {
   "cell_type": "code",
   "execution_count": 14,
   "metadata": {
    "scrolled": false
   },
   "outputs": [
    {
     "name": "stdout",
     "output_type": "stream",
     "text": [
      "<class 'pandas.core.frame.DataFrame'>\n",
      "Int64Index: 77381 entries, 0 to 77578\n",
      "Data columns (total 35 columns):\n",
      " #   Column                        Non-Null Count  Dtype  \n",
      "---  ------                        --------------  -----  \n",
      " 0   parcelid                      77381 non-null  int64  \n",
      " 1   basementsqft                  50 non-null     float64\n",
      " 2   bathroomcnt                   77381 non-null  float64\n",
      " 3   bedroomcnt                    77381 non-null  float64\n",
      " 4   decktypeid                    614 non-null    float64\n",
      " 5   calculatedfinishedsquarefeet  77185 non-null  float64\n",
      " 6   fips                          77381 non-null  float64\n",
      " 7   fireplacecnt                  8276 non-null   float64\n",
      " 8   garagecarcnt                  25474 non-null  float64\n",
      " 9   hashottuborspa                1538 non-null   float64\n",
      " 10  latitude                      77381 non-null  float64\n",
      " 11  longitude                     77381 non-null  float64\n",
      " 12  lotsizesquarefeet             69142 non-null  float64\n",
      " 13  poolcnt                       16137 non-null  float64\n",
      " 14  yearbuilt                     77118 non-null  float64\n",
      " 15  numberofstories               17560 non-null  float64\n",
      " 16  airconditioningtypeid         24953 non-null  float64\n",
      " 17  airconditioningdesc           24953 non-null  object \n",
      " 18  architecturalstyletypeid      206 non-null    float64\n",
      " 19  architecturalstyledesc        206 non-null    object \n",
      " 20  buildingclasstypeid           15 non-null     float64\n",
      " 21  buildingclassdesc             15 non-null     object \n",
      " 22  heatingorsystemtypeid         49440 non-null  float64\n",
      " 23  heatingorsystemdesc           49440 non-null  object \n",
      " 24  storytypeid                   50 non-null     float64\n",
      " 25  storydesc                     50 non-null     object \n",
      " 26  propertylandusetypeid         77381 non-null  float64\n",
      " 27  propertylandusedesc           77381 non-null  object \n",
      " 28  typeconstructiontypeid        222 non-null    float64\n",
      " 29  typeconstructiondesc          222 non-null    object \n",
      " 30  unitcnt                       50563 non-null  float64\n",
      " 31  taxvaluedollarcnt             77380 non-null  float64\n",
      " 32  taxamount                     77376 non-null  float64\n",
      " 33  logerror                      77381 non-null  float64\n",
      " 34  transactiondate               77381 non-null  object \n",
      "dtypes: float64(26), int64(1), object(8)\n",
      "memory usage: 21.3+ MB\n"
     ]
    }
   ],
   "source": [
    "df1.info()"
   ]
  },
  {
   "cell_type": "code",
   "execution_count": 15,
   "metadata": {
    "scrolled": true
   },
   "outputs": [
    {
     "data": {
      "text/plain": [
       "parcelid                          int64\n",
       "basementsqft                    float64\n",
       "bathroomcnt                     float64\n",
       "bedroomcnt                      float64\n",
       "decktypeid                      float64\n",
       "calculatedfinishedsquarefeet    float64\n",
       "fips                            float64\n",
       "fireplacecnt                    float64\n",
       "garagecarcnt                    float64\n",
       "hashottuborspa                  float64\n",
       "latitude                        float64\n",
       "longitude                       float64\n",
       "lotsizesquarefeet               float64\n",
       "poolcnt                         float64\n",
       "yearbuilt                       float64\n",
       "numberofstories                 float64\n",
       "airconditioningtypeid           float64\n",
       "airconditioningdesc              object\n",
       "architecturalstyletypeid        float64\n",
       "architecturalstyledesc           object\n",
       "buildingclasstypeid             float64\n",
       "buildingclassdesc                object\n",
       "heatingorsystemtypeid           float64\n",
       "heatingorsystemdesc              object\n",
       "storytypeid                     float64\n",
       "storydesc                        object\n",
       "propertylandusetypeid           float64\n",
       "propertylandusedesc              object\n",
       "typeconstructiontypeid          float64\n",
       "typeconstructiondesc             object\n",
       "unitcnt                         float64\n",
       "taxvaluedollarcnt               float64\n",
       "taxamount                       float64\n",
       "logerror                        float64\n",
       "transactiondate                  object\n",
       "dtype: object"
      ]
     },
     "execution_count": 15,
     "metadata": {},
     "output_type": "execute_result"
    }
   ],
   "source": [
    "df1.dtypes"
   ]
  },
  {
   "cell_type": "code",
   "execution_count": 16,
   "metadata": {},
   "outputs": [
    {
     "data": {
      "text/html": [
       "<div>\n",
       "<style scoped>\n",
       "    .dataframe tbody tr th:only-of-type {\n",
       "        vertical-align: middle;\n",
       "    }\n",
       "\n",
       "    .dataframe tbody tr th {\n",
       "        vertical-align: top;\n",
       "    }\n",
       "\n",
       "    .dataframe thead th {\n",
       "        text-align: right;\n",
       "    }\n",
       "</style>\n",
       "<table border=\"1\" class=\"dataframe\">\n",
       "  <thead>\n",
       "    <tr style=\"text-align: right;\">\n",
       "      <th></th>\n",
       "      <th>parcelid</th>\n",
       "      <th>basementsqft</th>\n",
       "      <th>bathroomcnt</th>\n",
       "      <th>bedroomcnt</th>\n",
       "      <th>decktypeid</th>\n",
       "      <th>calculatedfinishedsquarefeet</th>\n",
       "      <th>fips</th>\n",
       "      <th>fireplacecnt</th>\n",
       "      <th>garagecarcnt</th>\n",
       "      <th>hashottuborspa</th>\n",
       "      <th>...</th>\n",
       "      <th>architecturalstyletypeid</th>\n",
       "      <th>buildingclasstypeid</th>\n",
       "      <th>heatingorsystemtypeid</th>\n",
       "      <th>storytypeid</th>\n",
       "      <th>propertylandusetypeid</th>\n",
       "      <th>typeconstructiontypeid</th>\n",
       "      <th>unitcnt</th>\n",
       "      <th>taxvaluedollarcnt</th>\n",
       "      <th>taxamount</th>\n",
       "      <th>logerror</th>\n",
       "    </tr>\n",
       "  </thead>\n",
       "  <tbody>\n",
       "    <tr>\n",
       "      <th>count</th>\n",
       "      <td>7.738100e+04</td>\n",
       "      <td>50.000000</td>\n",
       "      <td>77381.000000</td>\n",
       "      <td>77381.000000</td>\n",
       "      <td>614.0</td>\n",
       "      <td>77185.000000</td>\n",
       "      <td>77381.000000</td>\n",
       "      <td>8276.000000</td>\n",
       "      <td>25474.000000</td>\n",
       "      <td>1538.0</td>\n",
       "      <td>...</td>\n",
       "      <td>206.000000</td>\n",
       "      <td>15.000000</td>\n",
       "      <td>49440.000000</td>\n",
       "      <td>50.0</td>\n",
       "      <td>77381.000000</td>\n",
       "      <td>222.000000</td>\n",
       "      <td>50563.000000</td>\n",
       "      <td>7.738000e+04</td>\n",
       "      <td>77376.000000</td>\n",
       "      <td>77381.000000</td>\n",
       "    </tr>\n",
       "    <tr>\n",
       "      <th>mean</th>\n",
       "      <td>1.300715e+07</td>\n",
       "      <td>679.720000</td>\n",
       "      <td>2.299130</td>\n",
       "      <td>3.053489</td>\n",
       "      <td>66.0</td>\n",
       "      <td>1785.219939</td>\n",
       "      <td>6048.819232</td>\n",
       "      <td>1.191155</td>\n",
       "      <td>1.815459</td>\n",
       "      <td>1.0</td>\n",
       "      <td>...</td>\n",
       "      <td>7.388350</td>\n",
       "      <td>3.933333</td>\n",
       "      <td>3.920510</td>\n",
       "      <td>7.0</td>\n",
       "      <td>261.826340</td>\n",
       "      <td>6.040541</td>\n",
       "      <td>1.110021</td>\n",
       "      <td>4.901345e+05</td>\n",
       "      <td>5995.532346</td>\n",
       "      <td>0.016625</td>\n",
       "    </tr>\n",
       "    <tr>\n",
       "      <th>std</th>\n",
       "      <td>3.481346e+06</td>\n",
       "      <td>689.703546</td>\n",
       "      <td>0.996651</td>\n",
       "      <td>1.139096</td>\n",
       "      <td>0.0</td>\n",
       "      <td>954.049286</td>\n",
       "      <td>20.748199</td>\n",
       "      <td>0.491080</td>\n",
       "      <td>0.588345</td>\n",
       "      <td>0.0</td>\n",
       "      <td>...</td>\n",
       "      <td>2.734542</td>\n",
       "      <td>0.258199</td>\n",
       "      <td>3.592779</td>\n",
       "      <td>0.0</td>\n",
       "      <td>5.141199</td>\n",
       "      <td>0.557285</td>\n",
       "      <td>1.171154</td>\n",
       "      <td>6.534440e+05</td>\n",
       "      <td>7622.844153</td>\n",
       "      <td>0.170191</td>\n",
       "    </tr>\n",
       "    <tr>\n",
       "      <th>min</th>\n",
       "      <td>1.071186e+07</td>\n",
       "      <td>38.000000</td>\n",
       "      <td>0.000000</td>\n",
       "      <td>0.000000</td>\n",
       "      <td>66.0</td>\n",
       "      <td>128.000000</td>\n",
       "      <td>6037.000000</td>\n",
       "      <td>1.000000</td>\n",
       "      <td>0.000000</td>\n",
       "      <td>1.0</td>\n",
       "      <td>...</td>\n",
       "      <td>2.000000</td>\n",
       "      <td>3.000000</td>\n",
       "      <td>1.000000</td>\n",
       "      <td>7.0</td>\n",
       "      <td>31.000000</td>\n",
       "      <td>4.000000</td>\n",
       "      <td>1.000000</td>\n",
       "      <td>1.000000e+03</td>\n",
       "      <td>19.920000</td>\n",
       "      <td>-4.655420</td>\n",
       "    </tr>\n",
       "    <tr>\n",
       "      <th>25%</th>\n",
       "      <td>1.153830e+07</td>\n",
       "      <td>273.000000</td>\n",
       "      <td>2.000000</td>\n",
       "      <td>2.000000</td>\n",
       "      <td>66.0</td>\n",
       "      <td>1182.000000</td>\n",
       "      <td>6037.000000</td>\n",
       "      <td>1.000000</td>\n",
       "      <td>2.000000</td>\n",
       "      <td>1.0</td>\n",
       "      <td>...</td>\n",
       "      <td>7.000000</td>\n",
       "      <td>4.000000</td>\n",
       "      <td>2.000000</td>\n",
       "      <td>7.0</td>\n",
       "      <td>261.000000</td>\n",
       "      <td>6.000000</td>\n",
       "      <td>1.000000</td>\n",
       "      <td>2.070000e+05</td>\n",
       "      <td>2715.632500</td>\n",
       "      <td>-0.024377</td>\n",
       "    </tr>\n",
       "    <tr>\n",
       "      <th>50%</th>\n",
       "      <td>1.253157e+07</td>\n",
       "      <td>515.000000</td>\n",
       "      <td>2.000000</td>\n",
       "      <td>3.000000</td>\n",
       "      <td>66.0</td>\n",
       "      <td>1543.000000</td>\n",
       "      <td>6037.000000</td>\n",
       "      <td>1.000000</td>\n",
       "      <td>2.000000</td>\n",
       "      <td>1.0</td>\n",
       "      <td>...</td>\n",
       "      <td>7.000000</td>\n",
       "      <td>4.000000</td>\n",
       "      <td>2.000000</td>\n",
       "      <td>7.0</td>\n",
       "      <td>261.000000</td>\n",
       "      <td>6.000000</td>\n",
       "      <td>1.000000</td>\n",
       "      <td>3.589755e+05</td>\n",
       "      <td>4450.695000</td>\n",
       "      <td>0.006627</td>\n",
       "    </tr>\n",
       "    <tr>\n",
       "      <th>75%</th>\n",
       "      <td>1.421183e+07</td>\n",
       "      <td>796.500000</td>\n",
       "      <td>3.000000</td>\n",
       "      <td>4.000000</td>\n",
       "      <td>66.0</td>\n",
       "      <td>2113.000000</td>\n",
       "      <td>6059.000000</td>\n",
       "      <td>1.000000</td>\n",
       "      <td>2.000000</td>\n",
       "      <td>1.0</td>\n",
       "      <td>...</td>\n",
       "      <td>7.000000</td>\n",
       "      <td>4.000000</td>\n",
       "      <td>7.000000</td>\n",
       "      <td>7.0</td>\n",
       "      <td>266.000000</td>\n",
       "      <td>6.000000</td>\n",
       "      <td>1.000000</td>\n",
       "      <td>5.690015e+05</td>\n",
       "      <td>6927.790000</td>\n",
       "      <td>0.039203</td>\n",
       "    </tr>\n",
       "    <tr>\n",
       "      <th>max</th>\n",
       "      <td>1.676893e+08</td>\n",
       "      <td>3560.000000</td>\n",
       "      <td>18.000000</td>\n",
       "      <td>16.000000</td>\n",
       "      <td>66.0</td>\n",
       "      <td>35640.000000</td>\n",
       "      <td>6111.000000</td>\n",
       "      <td>5.000000</td>\n",
       "      <td>14.000000</td>\n",
       "      <td>1.0</td>\n",
       "      <td>...</td>\n",
       "      <td>21.000000</td>\n",
       "      <td>4.000000</td>\n",
       "      <td>24.000000</td>\n",
       "      <td>7.0</td>\n",
       "      <td>275.000000</td>\n",
       "      <td>13.000000</td>\n",
       "      <td>237.000000</td>\n",
       "      <td>4.906124e+07</td>\n",
       "      <td>586639.300000</td>\n",
       "      <td>5.262999</td>\n",
       "    </tr>\n",
       "  </tbody>\n",
       "</table>\n",
       "<p>8 rows × 27 columns</p>\n",
       "</div>"
      ],
      "text/plain": [
       "           parcelid  basementsqft   bathroomcnt    bedroomcnt  decktypeid  \\\n",
       "count  7.738100e+04     50.000000  77381.000000  77381.000000       614.0   \n",
       "mean   1.300715e+07    679.720000      2.299130      3.053489        66.0   \n",
       "std    3.481346e+06    689.703546      0.996651      1.139096         0.0   \n",
       "min    1.071186e+07     38.000000      0.000000      0.000000        66.0   \n",
       "25%    1.153830e+07    273.000000      2.000000      2.000000        66.0   \n",
       "50%    1.253157e+07    515.000000      2.000000      3.000000        66.0   \n",
       "75%    1.421183e+07    796.500000      3.000000      4.000000        66.0   \n",
       "max    1.676893e+08   3560.000000     18.000000     16.000000        66.0   \n",
       "\n",
       "       calculatedfinishedsquarefeet          fips  fireplacecnt  garagecarcnt  \\\n",
       "count                  77185.000000  77381.000000   8276.000000  25474.000000   \n",
       "mean                    1785.219939   6048.819232      1.191155      1.815459   \n",
       "std                      954.049286     20.748199      0.491080      0.588345   \n",
       "min                      128.000000   6037.000000      1.000000      0.000000   \n",
       "25%                     1182.000000   6037.000000      1.000000      2.000000   \n",
       "50%                     1543.000000   6037.000000      1.000000      2.000000   \n",
       "75%                     2113.000000   6059.000000      1.000000      2.000000   \n",
       "max                    35640.000000   6111.000000      5.000000     14.000000   \n",
       "\n",
       "       hashottuborspa  ...  architecturalstyletypeid  buildingclasstypeid  \\\n",
       "count          1538.0  ...                206.000000            15.000000   \n",
       "mean              1.0  ...                  7.388350             3.933333   \n",
       "std               0.0  ...                  2.734542             0.258199   \n",
       "min               1.0  ...                  2.000000             3.000000   \n",
       "25%               1.0  ...                  7.000000             4.000000   \n",
       "50%               1.0  ...                  7.000000             4.000000   \n",
       "75%               1.0  ...                  7.000000             4.000000   \n",
       "max               1.0  ...                 21.000000             4.000000   \n",
       "\n",
       "       heatingorsystemtypeid  storytypeid  propertylandusetypeid  \\\n",
       "count           49440.000000         50.0           77381.000000   \n",
       "mean                3.920510          7.0             261.826340   \n",
       "std                 3.592779          0.0               5.141199   \n",
       "min                 1.000000          7.0              31.000000   \n",
       "25%                 2.000000          7.0             261.000000   \n",
       "50%                 2.000000          7.0             261.000000   \n",
       "75%                 7.000000          7.0             266.000000   \n",
       "max                24.000000          7.0             275.000000   \n",
       "\n",
       "       typeconstructiontypeid       unitcnt  taxvaluedollarcnt      taxamount  \\\n",
       "count              222.000000  50563.000000       7.738000e+04   77376.000000   \n",
       "mean                 6.040541      1.110021       4.901345e+05    5995.532346   \n",
       "std                  0.557285      1.171154       6.534440e+05    7622.844153   \n",
       "min                  4.000000      1.000000       1.000000e+03      19.920000   \n",
       "25%                  6.000000      1.000000       2.070000e+05    2715.632500   \n",
       "50%                  6.000000      1.000000       3.589755e+05    4450.695000   \n",
       "75%                  6.000000      1.000000       5.690015e+05    6927.790000   \n",
       "max                 13.000000    237.000000       4.906124e+07  586639.300000   \n",
       "\n",
       "           logerror  \n",
       "count  77381.000000  \n",
       "mean       0.016625  \n",
       "std        0.170191  \n",
       "min       -4.655420  \n",
       "25%       -0.024377  \n",
       "50%        0.006627  \n",
       "75%        0.039203  \n",
       "max        5.262999  \n",
       "\n",
       "[8 rows x 27 columns]"
      ]
     },
     "execution_count": 16,
     "metadata": {},
     "output_type": "execute_result"
    }
   ],
   "source": [
    "df1.describe()"
   ]
  },
  {
   "cell_type": "code",
   "execution_count": 17,
   "metadata": {
    "scrolled": false
   },
   "outputs": [
    {
     "data": {
      "text/plain": [
       "77381"
      ]
     },
     "execution_count": 17,
     "metadata": {},
     "output_type": "execute_result"
    }
   ],
   "source": [
    "df1['parcelid'].nunique()"
   ]
  },
  {
   "cell_type": "code",
   "execution_count": 18,
   "metadata": {},
   "outputs": [
    {
     "data": {
      "text/plain": [
       "77381"
      ]
     },
     "execution_count": 18,
     "metadata": {},
     "output_type": "execute_result"
    }
   ],
   "source": [
    "len(df1.parcelid)"
   ]
  },
  {
   "cell_type": "code",
   "execution_count": 19,
   "metadata": {
    "scrolled": true
   },
   "outputs": [
    {
     "data": {
      "text/plain": [
       "['airconditioningdesc',\n",
       " 'architecturalstyledesc',\n",
       " 'buildingclassdesc',\n",
       " 'heatingorsystemdesc',\n",
       " 'storydesc',\n",
       " 'propertylandusedesc',\n",
       " 'typeconstructiondesc',\n",
       " 'transactiondate']"
      ]
     },
     "execution_count": 19,
     "metadata": {},
     "output_type": "execute_result"
    }
   ],
   "source": [
    "df1.select_dtypes(include = 'O').columns.to_list()"
   ]
  },
  {
   "cell_type": "code",
   "execution_count": 20,
   "metadata": {
    "scrolled": false
   },
   "outputs": [
    {
     "name": "stdout",
     "output_type": "stream",
     "text": [
      "**parcelid**\n",
      "Unique Values :  77381\n",
      " \n",
      "=====================================================\n",
      "**basementsqft**\n",
      "Unique Values :  43\n",
      " \n",
      "(34.477000000000004, 390.2]    20\n",
      "(390.2, 742.4]                 16\n",
      "(742.4, 1094.6]                 7\n",
      "(1094.6, 1446.8]                3\n",
      "(1446.8, 1799.0]                0\n",
      "(1799.0, 2151.2]                2\n",
      "(2151.2, 2503.4]                0\n",
      "(2503.4, 2855.6]                0\n",
      "(2855.6, 3207.8]                1\n",
      "(3207.8, 3560.0]                1\n",
      "Name: basementsqft, dtype: int64\n",
      "=====================================================\n",
      "**bathroomcnt**\n",
      "Unique Values :  22\n",
      " \n",
      "0.0       592\n",
      "1.0     12902\n",
      "1.5      1415\n",
      "2.0     31485\n",
      "2.5      6604\n",
      "3.0     17313\n",
      "3.5      1034\n",
      "4.0      3352\n",
      "4.5       695\n",
      "5.0      1026\n",
      "5.5       224\n",
      "6.0       417\n",
      "6.5        47\n",
      "7.0       113\n",
      "7.5        16\n",
      "8.0       108\n",
      "8.5         3\n",
      "9.0        23\n",
      "10.0        7\n",
      "11.0        3\n",
      "13.0        1\n",
      "18.0        1\n",
      "Name: bathroomcnt, dtype: int64\n",
      "=====================================================\n",
      "**bedroomcnt**\n",
      "Unique Values :  16\n",
      " \n",
      "0.0       830\n",
      "1.0      3379\n",
      "2.0     19169\n",
      "3.0     30362\n",
      "4.0     17513\n",
      "5.0      4543\n",
      "6.0       998\n",
      "7.0       208\n",
      "8.0       252\n",
      "9.0        70\n",
      "10.0       31\n",
      "11.0        8\n",
      "12.0       14\n",
      "13.0        2\n",
      "14.0        1\n",
      "16.0        1\n",
      "Name: bedroomcnt, dtype: int64\n",
      "=====================================================\n",
      "**decktypeid**\n",
      "Unique Values :  1\n",
      " \n",
      "66.0    614\n",
      "Name: decktypeid, dtype: int64\n",
      "=====================================================\n",
      "**calculatedfinishedsquarefeet**\n",
      "Unique Values :  4972\n",
      " \n",
      "=====================================================\n",
      "**fips**\n",
      "Unique Values :  3\n",
      " \n",
      "6037.0    50551\n",
      "6059.0    20593\n",
      "6111.0     6237\n",
      "Name: fips, dtype: int64\n",
      "=====================================================\n",
      "**fireplacecnt**\n",
      "Unique Values :  5\n",
      " \n",
      "1.0    7008\n",
      "2.0     995\n",
      "3.0     235\n",
      "4.0      35\n",
      "5.0       3\n",
      "Name: fireplacecnt, dtype: int64\n",
      "=====================================================\n",
      "**garagecarcnt**\n",
      "Unique Values :  14\n",
      " \n",
      "0.0       230\n",
      "1.0      5676\n",
      "2.0     18608\n",
      "3.0       632\n",
      "4.0       255\n",
      "5.0        45\n",
      "6.0        14\n",
      "7.0         4\n",
      "8.0         2\n",
      "9.0         2\n",
      "10.0        3\n",
      "11.0        1\n",
      "13.0        1\n",
      "14.0        1\n",
      "Name: garagecarcnt, dtype: int64\n",
      "=====================================================\n",
      "**hashottuborspa**\n",
      "Unique Values :  1\n",
      " \n",
      "1.0    1538\n",
      "Name: hashottuborspa, dtype: int64\n",
      "=====================================================\n",
      "**latitude**\n",
      "Unique Values :  64038\n",
      " \n",
      "=====================================================\n",
      "**longitude**\n",
      "Unique Values :  62461\n",
      " \n",
      "=====================================================\n",
      "**lotsizesquarefeet**\n",
      "Unique Values :  18848\n",
      " \n",
      "=====================================================\n",
      "**poolcnt**\n",
      "Unique Values :  1\n",
      " \n",
      "1.0    16137\n",
      "Name: poolcnt, dtype: int64\n",
      "=====================================================\n",
      "**yearbuilt**\n",
      "Unique Values :  136\n",
      " \n",
      "(1823.807, 1843.2]        1\n",
      "(1843.2, 1862.4]          0\n",
      "(1862.4, 1881.6]          3\n",
      "(1881.6, 1900.8]         90\n",
      "(1900.8, 1920.0]       1743\n",
      "(1920.0, 1939.2]       6688\n",
      "(1939.2, 1958.4]      18463\n",
      "(1958.4, 1977.6]      20355\n",
      "(1977.6, 1996.8]      19097\n",
      "(1996.8, 2016.0]      10678\n",
      "Name: yearbuilt, dtype: int64\n",
      "=====================================================\n",
      "**numberofstories**\n",
      "Unique Values :  4\n",
      " \n",
      "1.0    10366\n",
      "2.0     6757\n",
      "3.0      436\n",
      "6.0        1\n",
      "Name: numberofstories, dtype: int64\n",
      "=====================================================\n",
      "**airconditioningtypeid**\n",
      "Unique Values :  5\n",
      " \n",
      "1.0     23133\n",
      "5.0       167\n",
      "9.0        26\n",
      "11.0       53\n",
      "13.0     1574\n",
      "Name: airconditioningtypeid, dtype: int64\n",
      "=====================================================\n",
      "**airconditioningdesc**\n",
      "Unique Values :  5\n",
      " \n",
      "Central          23133\n",
      "Yes               1574\n",
      "None               167\n",
      "Wall Unit           53\n",
      "Refrigeration       26\n",
      "Name: airconditioningdesc, dtype: int64\n",
      "=====================================================\n",
      "**architecturalstyletypeid**\n",
      "Unique Values :  5\n",
      " \n",
      "2.0       5\n",
      "3.0       3\n",
      "7.0     172\n",
      "8.0      19\n",
      "21.0      7\n",
      "Name: architecturalstyletypeid, dtype: int64\n",
      "=====================================================\n",
      "**architecturalstyledesc**\n",
      "Unique Values :  5\n",
      " \n",
      "Contemporary     172\n",
      "Conventional      19\n",
      "Ranch/Rambler      7\n",
      "Bungalow           5\n",
      "Cape Cod           3\n",
      "Name: architecturalstyledesc, dtype: int64\n",
      "=====================================================\n",
      "**buildingclasstypeid**\n",
      "Unique Values :  2\n",
      " \n",
      "3.0     1\n",
      "4.0    14\n",
      "Name: buildingclasstypeid, dtype: int64\n",
      "=====================================================\n",
      "**buildingclassdesc**\n",
      "Unique Values :  2\n",
      " \n",
      "Buildings having wood or wood and steel frames                                                                                                                                                                                             14\n",
      "Buildings having exterior walls built of a non-combustible material such as brick, concrete, block or poured concrete. Interior partitions and roof structures are built of combustible materials. Floor may be concrete or wood frame.     1\n",
      "Name: buildingclassdesc, dtype: int64\n",
      "=====================================================\n",
      "**heatingorsystemtypeid**\n",
      "Unique Values :  10\n",
      " \n",
      "1.0        13\n",
      "2.0     33550\n",
      "6.0       776\n",
      "7.0     14065\n",
      "10.0        3\n",
      "11.0        1\n",
      "13.0       59\n",
      "18.0       23\n",
      "20.0      104\n",
      "24.0      846\n",
      "Name: heatingorsystemtypeid, dtype: int64\n",
      "=====================================================\n",
      "**heatingorsystemdesc**\n",
      "Unique Values :  10\n",
      " \n",
      "Central       33550\n",
      "Floor/Wall    14065\n",
      "Yes             846\n",
      "Forced air      776\n",
      "Solar           104\n",
      "None             59\n",
      "Radiant          23\n",
      "Baseboard        13\n",
      "Gravity           3\n",
      "Heat Pump         1\n",
      "Name: heatingorsystemdesc, dtype: int64\n",
      "=====================================================\n",
      "**storytypeid**\n",
      "Unique Values :  1\n",
      " \n",
      "7.0    50\n",
      "Name: storytypeid, dtype: int64\n",
      "=====================================================\n",
      "**storydesc**\n",
      "Unique Values :  1\n",
      " \n",
      "Basement    50\n",
      "Name: storydesc, dtype: int64\n",
      "=====================================================\n",
      "**propertylandusetypeid**\n",
      "Unique Values :  13\n",
      " \n",
      "31.0        15\n",
      "246.0     2009\n",
      "247.0      535\n",
      "248.0      727\n",
      "260.0       37\n",
      "261.0    52320\n",
      "263.0       74\n",
      "264.0        6\n",
      "265.0      333\n",
      "266.0    19294\n",
      "267.0       29\n",
      "269.0     1944\n",
      "275.0       58\n",
      "Name: propertylandusetypeid, dtype: int64\n",
      "=====================================================\n",
      "**propertylandusedesc**\n",
      "Unique Values :  13\n",
      " \n",
      "=====================================================\n",
      "**typeconstructiontypeid**\n",
      "Unique Values :  4\n",
      " \n",
      "4.0       1\n",
      "6.0     219\n",
      "10.0      1\n",
      "13.0      1\n",
      "Name: typeconstructiontypeid, dtype: int64\n",
      "=====================================================\n",
      "**typeconstructiondesc**\n",
      "Unique Values :  4\n",
      " \n",
      "Frame       219\n",
      "Concrete      1\n",
      "Metal         1\n",
      "Masonry       1\n",
      "Name: typeconstructiondesc, dtype: int64\n",
      "=====================================================\n",
      "**unitcnt**\n",
      "Unique Values :  8\n",
      " \n",
      "1.0      47293\n",
      "2.0       2018\n",
      "3.0        525\n",
      "4.0        723\n",
      "6.0          1\n",
      "42.0         1\n",
      "45.0         1\n",
      "237.0        1\n",
      "Name: unitcnt, dtype: int64\n",
      "=====================================================\n",
      "**taxvaluedollarcnt**\n",
      "Unique Values :  50949\n",
      " \n",
      "=====================================================\n",
      "**taxamount**\n",
      "Unique Values :  73825\n",
      " \n",
      "=====================================================\n",
      "**logerror**\n",
      "Unique Values :  76837\n",
      " \n",
      "=====================================================\n",
      "**transactiondate**\n",
      "Unique Values :  264\n",
      " \n",
      "=====================================================\n"
     ]
    }
   ],
   "source": [
    "num_cols = df1.select_dtypes(exclude = 'O').columns.to_list()\n",
    "cat_cols = df1.select_dtypes(include = 'O').columns.to_list()\n",
    "for col in df.columns:\n",
    "        print(f'**{col}**')\n",
    "        le = df1[col].nunique()\n",
    "        print ('Unique Values : ', df1[col].nunique())\n",
    "        print(' ')\n",
    "        if col in cat_cols and le < 13:\n",
    "            print(df1[col].value_counts())\n",
    "        if col in num_cols and  le < 23:\n",
    "             print(df1[col].value_counts().sort_index(ascending=True)) \n",
    "        elif col in num_cols and le <150:\n",
    "            print(df1[col].value_counts(bins=10, sort=False).sort_index(ascending=True))\n",
    "        elif col in num_cols and le <1001:\n",
    "            print(df1[col].value_counts(bins=100, sort=False).sort_index(ascending=True))\n",
    "\n",
    "        print('=====================================================')"
   ]
  },
  {
   "cell_type": "code",
   "execution_count": 21,
   "metadata": {},
   "outputs": [],
   "source": [
    "def report_unique_val (df):\n",
    "    num_cols = df.select_dtypes(exclude = 'O').columns.to_list()\n",
    "    cat_cols = df.select_dtypes(include = 'O').columns.to_list()\n",
    "    for col in df.columns:\n",
    "            print(f'**{col}**')\n",
    "            le = df[col].nunique()\n",
    "            print ('Unique Values : ', df[col].nunique())\n",
    "            print(' ')\n",
    "            if col in cat_cols and le < 15:\n",
    "                print(df[col].value_counts())\n",
    "            if col in num_cols and  le < 23:\n",
    "                 print(df[col].value_counts().sort_index(ascending=True)) \n",
    "            elif col in num_cols and le <150:\n",
    "                print(df[col].value_counts(bins=10, sort=False).sort_index(ascending=True))\n",
    "            elif col in num_cols and le <1001:\n",
    "                print(df[col].value_counts(bins=100, sort=False).sort_index(ascending=True))\n",
    "\n",
    "            print('=====================================================')"
   ]
  },
  {
   "cell_type": "code",
   "execution_count": 22,
   "metadata": {
    "scrolled": false
   },
   "outputs": [
    {
     "name": "stdout",
     "output_type": "stream",
     "text": [
      "**parcelid**\n",
      "Unique Values :  77381\n",
      " \n",
      "=====================================================\n",
      "**basementsqft**\n",
      "Unique Values :  43\n",
      " \n",
      "(34.477000000000004, 390.2]    20\n",
      "(390.2, 742.4]                 16\n",
      "(742.4, 1094.6]                 7\n",
      "(1094.6, 1446.8]                3\n",
      "(1446.8, 1799.0]                0\n",
      "(1799.0, 2151.2]                2\n",
      "(2151.2, 2503.4]                0\n",
      "(2503.4, 2855.6]                0\n",
      "(2855.6, 3207.8]                1\n",
      "(3207.8, 3560.0]                1\n",
      "Name: basementsqft, dtype: int64\n",
      "=====================================================\n",
      "**bathroomcnt**\n",
      "Unique Values :  22\n",
      " \n",
      "0.0       592\n",
      "1.0     12902\n",
      "1.5      1415\n",
      "2.0     31485\n",
      "2.5      6604\n",
      "3.0     17313\n",
      "3.5      1034\n",
      "4.0      3352\n",
      "4.5       695\n",
      "5.0      1026\n",
      "5.5       224\n",
      "6.0       417\n",
      "6.5        47\n",
      "7.0       113\n",
      "7.5        16\n",
      "8.0       108\n",
      "8.5         3\n",
      "9.0        23\n",
      "10.0        7\n",
      "11.0        3\n",
      "13.0        1\n",
      "18.0        1\n",
      "Name: bathroomcnt, dtype: int64\n",
      "=====================================================\n",
      "**bedroomcnt**\n",
      "Unique Values :  16\n",
      " \n",
      "0.0       830\n",
      "1.0      3379\n",
      "2.0     19169\n",
      "3.0     30362\n",
      "4.0     17513\n",
      "5.0      4543\n",
      "6.0       998\n",
      "7.0       208\n",
      "8.0       252\n",
      "9.0        70\n",
      "10.0       31\n",
      "11.0        8\n",
      "12.0       14\n",
      "13.0        2\n",
      "14.0        1\n",
      "16.0        1\n",
      "Name: bedroomcnt, dtype: int64\n",
      "=====================================================\n",
      "**decktypeid**\n",
      "Unique Values :  1\n",
      " \n",
      "66.0    614\n",
      "Name: decktypeid, dtype: int64\n",
      "=====================================================\n",
      "**calculatedfinishedsquarefeet**\n",
      "Unique Values :  4972\n",
      " \n",
      "=====================================================\n",
      "**fips**\n",
      "Unique Values :  3\n",
      " \n",
      "6037.0    50551\n",
      "6059.0    20593\n",
      "6111.0     6237\n",
      "Name: fips, dtype: int64\n",
      "=====================================================\n",
      "**fireplacecnt**\n",
      "Unique Values :  5\n",
      " \n",
      "1.0    7008\n",
      "2.0     995\n",
      "3.0     235\n",
      "4.0      35\n",
      "5.0       3\n",
      "Name: fireplacecnt, dtype: int64\n",
      "=====================================================\n",
      "**garagecarcnt**\n",
      "Unique Values :  14\n",
      " \n",
      "0.0       230\n",
      "1.0      5676\n",
      "2.0     18608\n",
      "3.0       632\n",
      "4.0       255\n",
      "5.0        45\n",
      "6.0        14\n",
      "7.0         4\n",
      "8.0         2\n",
      "9.0         2\n",
      "10.0        3\n",
      "11.0        1\n",
      "13.0        1\n",
      "14.0        1\n",
      "Name: garagecarcnt, dtype: int64\n",
      "=====================================================\n",
      "**hashottuborspa**\n",
      "Unique Values :  1\n",
      " \n",
      "1.0    1538\n",
      "Name: hashottuborspa, dtype: int64\n",
      "=====================================================\n",
      "**latitude**\n",
      "Unique Values :  64038\n",
      " \n",
      "=====================================================\n",
      "**longitude**\n",
      "Unique Values :  62461\n",
      " \n",
      "=====================================================\n",
      "**lotsizesquarefeet**\n",
      "Unique Values :  18848\n",
      " \n",
      "=====================================================\n",
      "**poolcnt**\n",
      "Unique Values :  1\n",
      " \n",
      "1.0    16137\n",
      "Name: poolcnt, dtype: int64\n",
      "=====================================================\n",
      "**yearbuilt**\n",
      "Unique Values :  136\n",
      " \n",
      "(1823.807, 1843.2]        1\n",
      "(1843.2, 1862.4]          0\n",
      "(1862.4, 1881.6]          3\n",
      "(1881.6, 1900.8]         90\n",
      "(1900.8, 1920.0]       1743\n",
      "(1920.0, 1939.2]       6688\n",
      "(1939.2, 1958.4]      18463\n",
      "(1958.4, 1977.6]      20355\n",
      "(1977.6, 1996.8]      19097\n",
      "(1996.8, 2016.0]      10678\n",
      "Name: yearbuilt, dtype: int64\n",
      "=====================================================\n",
      "**numberofstories**\n",
      "Unique Values :  4\n",
      " \n",
      "1.0    10366\n",
      "2.0     6757\n",
      "3.0      436\n",
      "6.0        1\n",
      "Name: numberofstories, dtype: int64\n",
      "=====================================================\n",
      "**airconditioningtypeid**\n",
      "Unique Values :  5\n",
      " \n",
      "1.0     23133\n",
      "5.0       167\n",
      "9.0        26\n",
      "11.0       53\n",
      "13.0     1574\n",
      "Name: airconditioningtypeid, dtype: int64\n",
      "=====================================================\n",
      "**airconditioningdesc**\n",
      "Unique Values :  5\n",
      " \n",
      "Central          23133\n",
      "Yes               1574\n",
      "None               167\n",
      "Wall Unit           53\n",
      "Refrigeration       26\n",
      "Name: airconditioningdesc, dtype: int64\n",
      "=====================================================\n",
      "**architecturalstyletypeid**\n",
      "Unique Values :  5\n",
      " \n",
      "2.0       5\n",
      "3.0       3\n",
      "7.0     172\n",
      "8.0      19\n",
      "21.0      7\n",
      "Name: architecturalstyletypeid, dtype: int64\n",
      "=====================================================\n",
      "**architecturalstyledesc**\n",
      "Unique Values :  5\n",
      " \n",
      "Contemporary     172\n",
      "Conventional      19\n",
      "Ranch/Rambler      7\n",
      "Bungalow           5\n",
      "Cape Cod           3\n",
      "Name: architecturalstyledesc, dtype: int64\n",
      "=====================================================\n",
      "**buildingclasstypeid**\n",
      "Unique Values :  2\n",
      " \n",
      "3.0     1\n",
      "4.0    14\n",
      "Name: buildingclasstypeid, dtype: int64\n",
      "=====================================================\n",
      "**buildingclassdesc**\n",
      "Unique Values :  2\n",
      " \n",
      "Buildings having wood or wood and steel frames                                                                                                                                                                                             14\n",
      "Buildings having exterior walls built of a non-combustible material such as brick, concrete, block or poured concrete. Interior partitions and roof structures are built of combustible materials. Floor may be concrete or wood frame.     1\n",
      "Name: buildingclassdesc, dtype: int64\n",
      "=====================================================\n",
      "**heatingorsystemtypeid**\n",
      "Unique Values :  10\n",
      " \n",
      "1.0        13\n",
      "2.0     33550\n",
      "6.0       776\n",
      "7.0     14065\n",
      "10.0        3\n",
      "11.0        1\n",
      "13.0       59\n",
      "18.0       23\n",
      "20.0      104\n",
      "24.0      846\n",
      "Name: heatingorsystemtypeid, dtype: int64\n",
      "=====================================================\n",
      "**heatingorsystemdesc**\n",
      "Unique Values :  10\n",
      " \n",
      "Central       33550\n",
      "Floor/Wall    14065\n",
      "Yes             846\n",
      "Forced air      776\n",
      "Solar           104\n",
      "None             59\n",
      "Radiant          23\n",
      "Baseboard        13\n",
      "Gravity           3\n",
      "Heat Pump         1\n",
      "Name: heatingorsystemdesc, dtype: int64\n",
      "=====================================================\n",
      "**storytypeid**\n",
      "Unique Values :  1\n",
      " \n",
      "7.0    50\n",
      "Name: storytypeid, dtype: int64\n",
      "=====================================================\n",
      "**storydesc**\n",
      "Unique Values :  1\n",
      " \n",
      "Basement    50\n",
      "Name: storydesc, dtype: int64\n",
      "=====================================================\n",
      "**propertylandusetypeid**\n",
      "Unique Values :  13\n",
      " \n",
      "31.0        15\n",
      "246.0     2009\n",
      "247.0      535\n",
      "248.0      727\n",
      "260.0       37\n",
      "261.0    52320\n",
      "263.0       74\n",
      "264.0        6\n",
      "265.0      333\n",
      "266.0    19294\n",
      "267.0       29\n",
      "269.0     1944\n",
      "275.0       58\n",
      "Name: propertylandusetypeid, dtype: int64\n",
      "=====================================================\n",
      "**propertylandusedesc**\n",
      "Unique Values :  13\n",
      " \n",
      "Single Family Residential                     52320\n",
      "Condominium                                   19294\n",
      "Duplex (2 Units, Any Combination)              2009\n",
      "Planned Unit Development                       1944\n",
      "Quadruplex (4 Units, Any Combination)           727\n",
      "Triplex (3 Units, Any Combination)              535\n",
      "Cluster Home                                    333\n",
      "Mobile Home                                      74\n",
      "Manufactured, Modular, Prefabricated Homes       58\n",
      "Residential General                              37\n",
      "Cooperative                                      29\n",
      "Commercial/Office/Residential Mixed Used         15\n",
      "Townhouse                                         6\n",
      "Name: propertylandusedesc, dtype: int64\n",
      "=====================================================\n",
      "**typeconstructiontypeid**\n",
      "Unique Values :  4\n",
      " \n",
      "4.0       1\n",
      "6.0     219\n",
      "10.0      1\n",
      "13.0      1\n",
      "Name: typeconstructiontypeid, dtype: int64\n",
      "=====================================================\n",
      "**typeconstructiondesc**\n",
      "Unique Values :  4\n",
      " \n",
      "Frame       219\n",
      "Concrete      1\n",
      "Metal         1\n",
      "Masonry       1\n",
      "Name: typeconstructiondesc, dtype: int64\n",
      "=====================================================\n",
      "**unitcnt**\n",
      "Unique Values :  8\n",
      " \n",
      "1.0      47293\n",
      "2.0       2018\n",
      "3.0        525\n",
      "4.0        723\n",
      "6.0          1\n",
      "42.0         1\n",
      "45.0         1\n",
      "237.0        1\n",
      "Name: unitcnt, dtype: int64\n",
      "=====================================================\n",
      "**taxvaluedollarcnt**\n",
      "Unique Values :  50949\n",
      " \n",
      "=====================================================\n",
      "**taxamount**\n",
      "Unique Values :  73825\n",
      " \n",
      "=====================================================\n",
      "**logerror**\n",
      "Unique Values :  76837\n",
      " \n",
      "=====================================================\n",
      "**transactiondate**\n",
      "Unique Values :  264\n",
      " \n",
      "=====================================================\n"
     ]
    }
   ],
   "source": [
    "report_unique_val(df1)"
   ]
  },
  {
   "cell_type": "code",
   "execution_count": 23,
   "metadata": {
    "scrolled": false
   },
   "outputs": [
    {
     "data": {
      "image/png": "[encoded data removed]",
      "text/plain": [
       "<Figure size 432x288 with 1 Axes>"
      ]
     },
     "metadata": {
      "needs_background": "light"
     },
     "output_type": "display_data"
    },
    {
     "data": {
      "image/png": "[encoded data removed]",
      "text/plain": [
       "<Figure size 432x288 with 1 Axes>"
      ]
     },
     "metadata": {
      "needs_background": "light"
     },
     "output_type": "display_data"
    },
    {
     "data": {
      "image/png": "[encoded data removed]",
      "text/plain": [
       "<Figure size 432x288 with 1 Axes>"
      ]
     },
     "metadata": {
      "needs_background": "light"
     },
     "output_type": "display_data"
    },
    {
     "data": {
      "image/png": "[encoded data removed]",
      "text/plain": [
       "<Figure size 432x288 with 1 Axes>"
      ]
     },
     "metadata": {
      "needs_background": "light"
     },
     "output_type": "display_data"
    },
    {
     "data": {
      "image/png": "[encoded data removed]",
      "text/plain": [
       "<Figure size 432x288 with 1 Axes>"
      ]
     },
     "metadata": {
      "needs_background": "light"
     },
     "output_type": "display_data"
    },
    {
     "data": {
      "image/png": "[encoded data removed]",
      "text/plain": [
       "<Figure size 432x288 with 1 Axes>"
      ]
     },
     "metadata": {
      "needs_background": "light"
     },
     "output_type": "display_data"
    },
    {
     "data": {
      "image/png": "[encoded data removed]",
      "text/plain": [
       "<Figure size 432x288 with 1 Axes>"
      ]
     },
     "metadata": {
      "needs_background": "light"
     },
     "output_type": "display_data"
    },
    {
     "data": {
      "image/png": "[encoded data removed]",
      "text/plain": [
       "<Figure size 432x288 with 1 Axes>"
      ]
     },
     "metadata": {
      "needs_background": "light"
     },
     "output_type": "display_data"
    },
    {
     "data": {
      "image/png": "[encoded data removed]",
      "text/plain": [
       "<Figure size 432x288 with 1 Axes>"
      ]
     },
     "metadata": {
      "needs_background": "light"
     },
     "output_type": "display_data"
    },
    {
     "data": {
      "image/png": "[encoded data removed]",
      "text/plain": [
       "<Figure size 432x288 with 1 Axes>"
      ]
     },
     "metadata": {
      "needs_background": "light"
     },
     "output_type": "display_data"
    },
    {
     "data": {
      "image/png": "[encoded data removed]",
      "text/plain": [
       "<Figure size 432x288 with 1 Axes>"
      ]
     },
     "metadata": {
      "needs_background": "light"
     },
     "output_type": "display_data"
    },
    {
     "data": {
      "image/png": "[encoded data removed]",
      "text/plain": [
       "<Figure size 432x288 with 1 Axes>"
      ]
     },
     "metadata": {
      "needs_background": "light"
     },
     "output_type": "display_data"
    },
    {
     "data": {
      "image/png": "[encoded data removed]",
      "text/plain": [
       "<Figure size 432x288 with 1 Axes>"
      ]
     },
     "metadata": {
      "needs_background": "light"
     },
     "output_type": "display_data"
    },
    {
     "data": {
      "image/png": "[encoded data removed]",
      "text/plain": [
       "<Figure size 432x288 with 1 Axes>"
      ]
     },
     "metadata": {
      "needs_background": "light"
     },
     "output_type": "display_data"
    },
    {
     "data": {
      "image/png": "[encoded data removed]",
      "text/plain": [
       "<Figure size 432x288 with 1 Axes>"
      ]
     },
     "metadata": {
      "needs_background": "light"
     },
     "output_type": "display_data"
    },
    {
     "data": {
      "image/png": "[encoded data removed]",
      "text/plain": [
       "<Figure size 432x288 with 1 Axes>"
      ]
     },
     "metadata": {
      "needs_background": "light"
     },
     "output_type": "display_data"
    },
    {
     "data": {
      "image/png": "[encoded data removed]",
      "text/plain": [
       "<Figure size 432x288 with 1 Axes>"
      ]
     },
     "metadata": {
      "needs_background": "light"
     },
     "output_type": "display_data"
    },
    {
     "data": {
      "image/png": "[encoded data removed]",
      "text/plain": [
       "<Figure size 432x288 with 1 Axes>"
      ]
     },
     "metadata": {
      "needs_background": "light"
     },
     "output_type": "display_data"
    },
    {
     "data": {
      "image/png": "[encoded data removed]",
      "text/plain": [
       "<Figure size 432x288 with 1 Axes>"
      ]
     },
     "metadata": {
      "needs_background": "light"
     },
     "output_type": "display_data"
    },
    {
     "data": {
      "image/png": "[encoded data removed]",
      "text/plain": [
       "<Figure size 432x288 with 1 Axes>"
      ]
     },
     "metadata": {
      "needs_background": "light"
     },
     "output_type": "display_data"
    },
    {
     "data": {
      "image/png": "[encoded data removed]",
      "text/plain": [
       "<Figure size 432x288 with 1 Axes>"
      ]
     },
     "metadata": {
      "needs_background": "light"
     },
     "output_type": "display_data"
    },
    {
     "data": {
      "image/png": "[encoded data removed]",
      "text/plain": [
       "<Figure size 432x288 with 1 Axes>"
      ]
     },
     "metadata": {
      "needs_background": "light"
     },
     "output_type": "display_data"
    },
    {
     "data": {
      "image/png": "[encoded data removed]",
      "text/plain": [
       "<Figure size 432x288 with 1 Axes>"
      ]
     },
     "metadata": {
      "needs_background": "light"
     },
     "output_type": "display_data"
    },
    {
     "data": {
      "image/png": "[encoded data removed]",
      "text/plain": [
       "<Figure size 432x288 with 1 Axes>"
      ]
     },
     "metadata": {
      "needs_background": "light"
     },
     "output_type": "display_data"
    },
    {
     "data": {
      "image/png": "[encoded data removed]",
      "text/plain": [
       "<Figure size 432x288 with 1 Axes>"
      ]
     },
     "metadata": {
      "needs_background": "light"
     },
     "output_type": "display_data"
    },
    {
     "data": {
      "image/png": "[encoded data removed]",
      "text/plain": [
       "<Figure size 432x288 with 1 Axes>"
      ]
     },
     "metadata": {
      "needs_background": "light"
     },
     "output_type": "display_data"
    },
    {
     "data": {
      "image/png": "[encoded data removed]",
      "text/plain": [
       "<Figure size 432x288 with 1 Axes>"
      ]
     },
     "metadata": {
      "needs_background": "light"
     },
     "output_type": "display_data"
    }
   ],
   "source": [
    "#distrubution of data\n",
    "p.distribution(df1)"
   ]
  },
  {
   "cell_type": "markdown",
   "metadata": {},
   "source": [
    "**3. Write a function that takes in a dataframe of observations and attributes and returns a dataframe where each row is an atttribute name, the first column is the number of rows with missing values for that attribute, and the second column is percent of total rows that have missing values for that attribute. Run the function and document takeaways from this on how you want to handle missing values.**"
   ]
  },
  {
   "cell_type": "code",
   "execution_count": 24,
   "metadata": {},
   "outputs": [
    {
     "name": "stdout",
     "output_type": "stream",
     "text": [
      "Your selected dataframe has 35 columns.\n",
      "There are 25 columns that have missing values.\n",
      "  \n",
      "** There are 0 duplicate rows that represents 0.0% of total Values**\n"
     ]
    },
    {
     "data": {
      "text/html": [
       "<div>\n",
       "<style scoped>\n",
       "    .dataframe tbody tr th:only-of-type {\n",
       "        vertical-align: middle;\n",
       "    }\n",
       "\n",
       "    .dataframe tbody tr th {\n",
       "        vertical-align: top;\n",
       "    }\n",
       "\n",
       "    .dataframe thead th {\n",
       "        text-align: right;\n",
       "    }\n",
       "</style>\n",
       "<table border=\"1\" class=\"dataframe\">\n",
       "  <thead>\n",
       "    <tr style=\"text-align: right;\">\n",
       "      <th></th>\n",
       "      <th>Missing Values</th>\n",
       "      <th>% of Total Values</th>\n",
       "    </tr>\n",
       "  </thead>\n",
       "  <tbody>\n",
       "    <tr>\n",
       "      <th>buildingclassdesc</th>\n",
       "      <td>77366</td>\n",
       "      <td>100.0</td>\n",
       "    </tr>\n",
       "    <tr>\n",
       "      <th>buildingclasstypeid</th>\n",
       "      <td>77366</td>\n",
       "      <td>100.0</td>\n",
       "    </tr>\n",
       "    <tr>\n",
       "      <th>basementsqft</th>\n",
       "      <td>77331</td>\n",
       "      <td>99.9</td>\n",
       "    </tr>\n",
       "    <tr>\n",
       "      <th>storydesc</th>\n",
       "      <td>77331</td>\n",
       "      <td>99.9</td>\n",
       "    </tr>\n",
       "    <tr>\n",
       "      <th>storytypeid</th>\n",
       "      <td>77331</td>\n",
       "      <td>99.9</td>\n",
       "    </tr>\n",
       "    <tr>\n",
       "      <th>architecturalstyledesc</th>\n",
       "      <td>77175</td>\n",
       "      <td>99.7</td>\n",
       "    </tr>\n",
       "    <tr>\n",
       "      <th>architecturalstyletypeid</th>\n",
       "      <td>77175</td>\n",
       "      <td>99.7</td>\n",
       "    </tr>\n",
       "    <tr>\n",
       "      <th>typeconstructiondesc</th>\n",
       "      <td>77159</td>\n",
       "      <td>99.7</td>\n",
       "    </tr>\n",
       "    <tr>\n",
       "      <th>typeconstructiontypeid</th>\n",
       "      <td>77159</td>\n",
       "      <td>99.7</td>\n",
       "    </tr>\n",
       "    <tr>\n",
       "      <th>decktypeid</th>\n",
       "      <td>76767</td>\n",
       "      <td>99.2</td>\n",
       "    </tr>\n",
       "    <tr>\n",
       "      <th>hashottuborspa</th>\n",
       "      <td>75843</td>\n",
       "      <td>98.0</td>\n",
       "    </tr>\n",
       "    <tr>\n",
       "      <th>fireplacecnt</th>\n",
       "      <td>69105</td>\n",
       "      <td>89.3</td>\n",
       "    </tr>\n",
       "    <tr>\n",
       "      <th>poolcnt</th>\n",
       "      <td>61244</td>\n",
       "      <td>79.1</td>\n",
       "    </tr>\n",
       "    <tr>\n",
       "      <th>numberofstories</th>\n",
       "      <td>59821</td>\n",
       "      <td>77.3</td>\n",
       "    </tr>\n",
       "    <tr>\n",
       "      <th>airconditioningtypeid</th>\n",
       "      <td>52428</td>\n",
       "      <td>67.8</td>\n",
       "    </tr>\n",
       "    <tr>\n",
       "      <th>airconditioningdesc</th>\n",
       "      <td>52428</td>\n",
       "      <td>67.8</td>\n",
       "    </tr>\n",
       "    <tr>\n",
       "      <th>garagecarcnt</th>\n",
       "      <td>51907</td>\n",
       "      <td>67.1</td>\n",
       "    </tr>\n",
       "    <tr>\n",
       "      <th>heatingorsystemtypeid</th>\n",
       "      <td>27941</td>\n",
       "      <td>36.1</td>\n",
       "    </tr>\n",
       "    <tr>\n",
       "      <th>heatingorsystemdesc</th>\n",
       "      <td>27941</td>\n",
       "      <td>36.1</td>\n",
       "    </tr>\n",
       "    <tr>\n",
       "      <th>unitcnt</th>\n",
       "      <td>26818</td>\n",
       "      <td>34.7</td>\n",
       "    </tr>\n",
       "    <tr>\n",
       "      <th>lotsizesquarefeet</th>\n",
       "      <td>8239</td>\n",
       "      <td>10.6</td>\n",
       "    </tr>\n",
       "    <tr>\n",
       "      <th>yearbuilt</th>\n",
       "      <td>263</td>\n",
       "      <td>0.3</td>\n",
       "    </tr>\n",
       "    <tr>\n",
       "      <th>calculatedfinishedsquarefeet</th>\n",
       "      <td>196</td>\n",
       "      <td>0.3</td>\n",
       "    </tr>\n",
       "    <tr>\n",
       "      <th>taxamount</th>\n",
       "      <td>5</td>\n",
       "      <td>0.0</td>\n",
       "    </tr>\n",
       "    <tr>\n",
       "      <th>taxvaluedollarcnt</th>\n",
       "      <td>1</td>\n",
       "      <td>0.0</td>\n",
       "    </tr>\n",
       "  </tbody>\n",
       "</table>\n",
       "</div>"
      ],
      "text/plain": [
       "                              Missing Values  % of Total Values\n",
       "buildingclassdesc                      77366              100.0\n",
       "buildingclasstypeid                    77366              100.0\n",
       "basementsqft                           77331               99.9\n",
       "storydesc                              77331               99.9\n",
       "storytypeid                            77331               99.9\n",
       "architecturalstyledesc                 77175               99.7\n",
       "architecturalstyletypeid               77175               99.7\n",
       "typeconstructiondesc                   77159               99.7\n",
       "typeconstructiontypeid                 77159               99.7\n",
       "decktypeid                             76767               99.2\n",
       "hashottuborspa                         75843               98.0\n",
       "fireplacecnt                           69105               89.3\n",
       "poolcnt                                61244               79.1\n",
       "numberofstories                        59821               77.3\n",
       "airconditioningtypeid                  52428               67.8\n",
       "airconditioningdesc                    52428               67.8\n",
       "garagecarcnt                           51907               67.1\n",
       "heatingorsystemtypeid                  27941               36.1\n",
       "heatingorsystemdesc                    27941               36.1\n",
       "unitcnt                                26818               34.7\n",
       "lotsizesquarefeet                       8239               10.6\n",
       "yearbuilt                                263                0.3\n",
       "calculatedfinishedsquarefeet             196                0.3\n",
       "taxamount                                  5                0.0\n",
       "taxvaluedollarcnt                          1                0.0"
      ]
     },
     "execution_count": 24,
     "metadata": {},
     "output_type": "execute_result"
    }
   ],
   "source": [
    "a.miss_dup_values(df1)"
   ]
  },
  {
   "cell_type": "markdown",
   "metadata": {},
   "source": [
    "**4. Write a function that takes in a dataframe and returns a dataframe with 3 columns: the number of columns missing, percent of columns missing, and number of rows with n columns missing. Run the function and document takeaways from this on how you want to handle missing values.**"
   ]
  },
  {
   "cell_type": "code",
   "execution_count": 25,
   "metadata": {},
   "outputs": [],
   "source": [
    "def nulls_by_row(df):\n",
    "    '''\n",
    "    akes in a dataframe and returns a dataframe with 3 columns: \n",
    "    the number of columns missing, percent of columns missing, and number of rows with n columns missing\n",
    "    '''\n",
    "    num_missing = df.isnull().sum(axis=1)\n",
    "    prcnt_miss = num_missing / df.shape[1] * 100\n",
    "    rows_missing = pd.DataFrame({'num_cols_missing': num_missing, 'percent_cols_missing': prcnt_miss})\\\n",
    "    .reset_index()\\\n",
    "    .groupby(['num_cols_missing', 'percent_cols_missing']).count()\\\n",
    "    .rename(index=str, columns={'index': 'num_rows'}).reset_index()\n",
    "    return rows_missing"
   ]
  },
  {
   "cell_type": "code",
   "execution_count": 26,
   "metadata": {},
   "outputs": [
    {
     "data": {
      "text/html": [
       "<div>\n",
       "<style scoped>\n",
       "    .dataframe tbody tr th:only-of-type {\n",
       "        vertical-align: middle;\n",
       "    }\n",
       "\n",
       "    .dataframe tbody tr th {\n",
       "        vertical-align: top;\n",
       "    }\n",
       "\n",
       "    .dataframe thead th {\n",
       "        text-align: right;\n",
       "    }\n",
       "</style>\n",
       "<table border=\"1\" class=\"dataframe\">\n",
       "  <thead>\n",
       "    <tr style=\"text-align: right;\">\n",
       "      <th></th>\n",
       "      <th>num_cols_missing</th>\n",
       "      <th>percent_cols_missing</th>\n",
       "      <th>num_rows</th>\n",
       "    </tr>\n",
       "  </thead>\n",
       "  <tbody>\n",
       "    <tr>\n",
       "      <th>0</th>\n",
       "      <td>8</td>\n",
       "      <td>22.857142857142858</td>\n",
       "      <td>1</td>\n",
       "    </tr>\n",
       "    <tr>\n",
       "      <th>1</th>\n",
       "      <td>9</td>\n",
       "      <td>25.71428571428571</td>\n",
       "      <td>24</td>\n",
       "    </tr>\n",
       "    <tr>\n",
       "      <th>2</th>\n",
       "      <td>10</td>\n",
       "      <td>28.57142857142857</td>\n",
       "      <td>75</td>\n",
       "    </tr>\n",
       "    <tr>\n",
       "      <th>3</th>\n",
       "      <td>11</td>\n",
       "      <td>31.428571428571427</td>\n",
       "      <td>56</td>\n",
       "    </tr>\n",
       "    <tr>\n",
       "      <th>4</th>\n",
       "      <td>12</td>\n",
       "      <td>34.285714285714285</td>\n",
       "      <td>188</td>\n",
       "    </tr>\n",
       "    <tr>\n",
       "      <th>5</th>\n",
       "      <td>13</td>\n",
       "      <td>37.142857142857146</td>\n",
       "      <td>250</td>\n",
       "    </tr>\n",
       "    <tr>\n",
       "      <th>6</th>\n",
       "      <td>14</td>\n",
       "      <td>40.0</td>\n",
       "      <td>7836</td>\n",
       "    </tr>\n",
       "    <tr>\n",
       "      <th>7</th>\n",
       "      <td>15</td>\n",
       "      <td>42.857142857142854</td>\n",
       "      <td>15061</td>\n",
       "    </tr>\n",
       "    <tr>\n",
       "      <th>8</th>\n",
       "      <td>16</td>\n",
       "      <td>45.714285714285715</td>\n",
       "      <td>7615</td>\n",
       "    </tr>\n",
       "    <tr>\n",
       "      <th>9</th>\n",
       "      <td>17</td>\n",
       "      <td>48.57142857142857</td>\n",
       "      <td>28234</td>\n",
       "    </tr>\n",
       "    <tr>\n",
       "      <th>10</th>\n",
       "      <td>18</td>\n",
       "      <td>51.42857142857142</td>\n",
       "      <td>6732</td>\n",
       "    </tr>\n",
       "    <tr>\n",
       "      <th>11</th>\n",
       "      <td>19</td>\n",
       "      <td>54.285714285714285</td>\n",
       "      <td>6347</td>\n",
       "    </tr>\n",
       "    <tr>\n",
       "      <th>12</th>\n",
       "      <td>20</td>\n",
       "      <td>57.14285714285714</td>\n",
       "      <td>4427</td>\n",
       "    </tr>\n",
       "    <tr>\n",
       "      <th>13</th>\n",
       "      <td>21</td>\n",
       "      <td>60.0</td>\n",
       "      <td>354</td>\n",
       "    </tr>\n",
       "    <tr>\n",
       "      <th>14</th>\n",
       "      <td>22</td>\n",
       "      <td>62.857142857142854</td>\n",
       "      <td>99</td>\n",
       "    </tr>\n",
       "    <tr>\n",
       "      <th>15</th>\n",
       "      <td>23</td>\n",
       "      <td>65.71428571428571</td>\n",
       "      <td>82</td>\n",
       "    </tr>\n",
       "  </tbody>\n",
       "</table>\n",
       "</div>"
      ],
      "text/plain": [
       "   num_cols_missing percent_cols_missing  num_rows\n",
       "0                 8   22.857142857142858         1\n",
       "1                 9    25.71428571428571        24\n",
       "2                10    28.57142857142857        75\n",
       "3                11   31.428571428571427        56\n",
       "4                12   34.285714285714285       188\n",
       "5                13   37.142857142857146       250\n",
       "6                14                 40.0      7836\n",
       "7                15   42.857142857142854     15061\n",
       "8                16   45.714285714285715      7615\n",
       "9                17    48.57142857142857     28234\n",
       "10               18    51.42857142857142      6732\n",
       "11               19   54.285714285714285      6347\n",
       "12               20    57.14285714285714      4427\n",
       "13               21                 60.0       354\n",
       "14               22   62.857142857142854        99\n",
       "15               23    65.71428571428571        82"
      ]
     },
     "execution_count": 26,
     "metadata": {},
     "output_type": "execute_result"
    }
   ],
   "source": [
    "nulls_by_row (df1)"
   ]
  },
  {
   "cell_type": "markdown",
   "metadata": {},
   "source": [
    "## Prepare "
   ]
  },
  {
   "cell_type": "markdown",
   "metadata": {},
   "source": [
    "**1. Remove any properties that are likely to be something other than single unit properties. (e.g. no duplexes, no land/lot, ...). There are multiple ways to estimate that a property is a single unit, and there is not a single \"right\" answer. But for this exercise, do not purely filter by unitcnt as we did previously. Add some new logic that will reduce the number of properties that are falsely removed. You might want to use # bedrooms, square feet, unit type or the like to then identify those with unitcnt not defined.**"
   ]
  },
  {
   "cell_type": "code",
   "execution_count": 27,
   "metadata": {
    "scrolled": true
   },
   "outputs": [
    {
     "data": {
      "text/html": [
       "<div>\n",
       "<style scoped>\n",
       "    .dataframe tbody tr th:only-of-type {\n",
       "        vertical-align: middle;\n",
       "    }\n",
       "\n",
       "    .dataframe tbody tr th {\n",
       "        vertical-align: top;\n",
       "    }\n",
       "\n",
       "    .dataframe thead th {\n",
       "        text-align: right;\n",
       "    }\n",
       "</style>\n",
       "<table border=\"1\" class=\"dataframe\">\n",
       "  <thead>\n",
       "    <tr style=\"text-align: right;\">\n",
       "      <th></th>\n",
       "      <th>parcelid</th>\n",
       "      <th>bedroomcnt</th>\n",
       "      <th>bathroomcnt</th>\n",
       "      <th>propertylandusedesc</th>\n",
       "      <th>calculatedfinishedsquarefeet</th>\n",
       "      <th>unitcnt</th>\n",
       "    </tr>\n",
       "  </thead>\n",
       "  <tbody>\n",
       "    <tr>\n",
       "      <th>0</th>\n",
       "      <td>14297519</td>\n",
       "      <td>4.0</td>\n",
       "      <td>3.5</td>\n",
       "      <td>Single Family Residential</td>\n",
       "      <td>3100.0</td>\n",
       "      <td>NaN</td>\n",
       "    </tr>\n",
       "    <tr>\n",
       "      <th>1</th>\n",
       "      <td>17052889</td>\n",
       "      <td>2.0</td>\n",
       "      <td>1.0</td>\n",
       "      <td>Single Family Residential</td>\n",
       "      <td>1465.0</td>\n",
       "      <td>NaN</td>\n",
       "    </tr>\n",
       "    <tr>\n",
       "      <th>2</th>\n",
       "      <td>14186244</td>\n",
       "      <td>3.0</td>\n",
       "      <td>2.0</td>\n",
       "      <td>Single Family Residential</td>\n",
       "      <td>1243.0</td>\n",
       "      <td>NaN</td>\n",
       "    </tr>\n",
       "    <tr>\n",
       "      <th>3</th>\n",
       "      <td>12177905</td>\n",
       "      <td>4.0</td>\n",
       "      <td>3.0</td>\n",
       "      <td>Single Family Residential</td>\n",
       "      <td>2376.0</td>\n",
       "      <td>1.0</td>\n",
       "    </tr>\n",
       "    <tr>\n",
       "      <th>4</th>\n",
       "      <td>10887214</td>\n",
       "      <td>3.0</td>\n",
       "      <td>3.0</td>\n",
       "      <td>Condominium</td>\n",
       "      <td>1312.0</td>\n",
       "      <td>1.0</td>\n",
       "    </tr>\n",
       "  </tbody>\n",
       "</table>\n",
       "</div>"
      ],
      "text/plain": [
       "   parcelid  bedroomcnt  bathroomcnt        propertylandusedesc  \\\n",
       "0  14297519         4.0          3.5  Single Family Residential   \n",
       "1  17052889         2.0          1.0  Single Family Residential   \n",
       "2  14186244         3.0          2.0  Single Family Residential   \n",
       "3  12177905         4.0          3.0  Single Family Residential   \n",
       "4  10887214         3.0          3.0                Condominium   \n",
       "\n",
       "   calculatedfinishedsquarefeet  unitcnt  \n",
       "0                        3100.0      NaN  \n",
       "1                        1465.0      NaN  \n",
       "2                        1243.0      NaN  \n",
       "3                        2376.0      1.0  \n",
       "4                        1312.0      1.0  "
      ]
     },
     "execution_count": 27,
     "metadata": {},
     "output_type": "execute_result"
    }
   ],
   "source": [
    "#lest see the columns that help me to identify single unit properties\n",
    "df1[['parcelid', 'bedroomcnt', 'bathroomcnt', 'propertylandusedesc', 'calculatedfinishedsquarefeet','unitcnt']].head()\n"
   ]
  },
  {
   "cell_type": "code",
   "execution_count": 28,
   "metadata": {},
   "outputs": [
    {
     "data": {
      "text/plain": [
       "Single Family Residential                     52320\n",
       "Condominium                                   19294\n",
       "Duplex (2 Units, Any Combination)              2009\n",
       "Planned Unit Development                       1944\n",
       "Quadruplex (4 Units, Any Combination)           727\n",
       "Triplex (3 Units, Any Combination)              535\n",
       "Cluster Home                                    333\n",
       "Mobile Home                                      74\n",
       "Manufactured, Modular, Prefabricated Homes       58\n",
       "Residential General                              37\n",
       "Cooperative                                      29\n",
       "Commercial/Office/Residential Mixed Used         15\n",
       "Townhouse                                         6\n",
       "Name: propertylandusedesc, dtype: int64"
      ]
     },
     "execution_count": 28,
     "metadata": {},
     "output_type": "execute_result"
    }
   ],
   "source": [
    "#check the values for propertylanduse\n",
    "df1.propertylandusedesc.value_counts()"
   ]
  },
  {
   "cell_type": "code",
   "execution_count": 29,
   "metadata": {},
   "outputs": [],
   "source": [
    "#this list has all types of single unit properties that I want to use\n",
    "single= ['Single Family Residential',' Mobile Home' , 'Townhouse ', 'Manufactured, Modular, Prefabricated Homes'  ]\n"
   ]
  },
  {
   "cell_type": "code",
   "execution_count": 30,
   "metadata": {
    "scrolled": true
   },
   "outputs": [
    {
     "data": {
      "text/plain": [
       "0     True\n",
       "1     True\n",
       "2     True\n",
       "3     True\n",
       "4    False\n",
       "Name: propertylandusedesc, dtype: bool"
      ]
     },
     "execution_count": 30,
     "metadata": {},
     "output_type": "execute_result"
    }
   ],
   "source": [
    "#use isin() to  get the all the properties of this type\n",
    "df1['propertylandusedesc'].isin(single).head()"
   ]
  },
  {
   "cell_type": "code",
   "execution_count": 31,
   "metadata": {
    "scrolled": true
   },
   "outputs": [
    {
     "data": {
      "text/plain": [
       "unitcnt\n",
       "1.0        47293\n",
       "dtype: int64"
      ]
     },
     "execution_count": 31,
     "metadata": {},
     "output_type": "execute_result"
    }
   ],
   "source": [
    "#checking the condition\n",
    "df1[['unitcnt']][(df1['unitcnt'] == 1) | (df1['unitcnt'] == 'NaN')].value_counts()"
   ]
  },
  {
   "cell_type": "code",
   "execution_count": 32,
   "metadata": {},
   "outputs": [
    {
     "data": {
      "text/plain": [
       "unitcnt    26818\n",
       "dtype: int64"
      ]
     },
     "execution_count": 32,
     "metadata": {},
     "output_type": "execute_result"
    }
   ],
   "source": [
    "#checking if we get nulls\n",
    "df1[['unitcnt']][(df1['unitcnt'] == 1) | (df1['unitcnt'].isnull())].isnull().sum()"
   ]
  },
  {
   "cell_type": "code",
   "execution_count": 33,
   "metadata": {},
   "outputs": [],
   "source": [
    "#create a mask\n",
    "single_mask = df1['propertylandusedesc'].isin(single)"
   ]
  },
  {
   "cell_type": "code",
   "execution_count": 34,
   "metadata": {},
   "outputs": [
    {
     "data": {
      "text/plain": [
       "(65937, 35)"
      ]
     },
     "execution_count": 34,
     "metadata": {},
     "output_type": "execute_result"
    }
   ],
   "source": [
    "#using that mask and also addind a condition\n",
    "df1[single_mask | (df1['unitcnt'] == 1)].shape"
   ]
  },
  {
   "cell_type": "code",
   "execution_count": 35,
   "metadata": {},
   "outputs": [],
   "source": [
    "#using that mask and also add  a condition\n",
    "df_single = df1[single_mask & ((df1['unitcnt'] == 1) | (df1['unitcnt'].isnull()))]"
   ]
  },
  {
   "cell_type": "code",
   "execution_count": 36,
   "metadata": {
    "scrolled": false
   },
   "outputs": [
    {
     "data": {
      "text/html": [
       "<div>\n",
       "<style scoped>\n",
       "    .dataframe tbody tr th:only-of-type {\n",
       "        vertical-align: middle;\n",
       "    }\n",
       "\n",
       "    .dataframe tbody tr th {\n",
       "        vertical-align: top;\n",
       "    }\n",
       "\n",
       "    .dataframe thead th {\n",
       "        text-align: right;\n",
       "    }\n",
       "</style>\n",
       "<table border=\"1\" class=\"dataframe\">\n",
       "  <thead>\n",
       "    <tr style=\"text-align: right;\">\n",
       "      <th></th>\n",
       "      <th>parcelid</th>\n",
       "      <th>basementsqft</th>\n",
       "      <th>bathroomcnt</th>\n",
       "      <th>bedroomcnt</th>\n",
       "      <th>decktypeid</th>\n",
       "      <th>calculatedfinishedsquarefeet</th>\n",
       "      <th>fips</th>\n",
       "      <th>fireplacecnt</th>\n",
       "      <th>garagecarcnt</th>\n",
       "      <th>hashottuborspa</th>\n",
       "      <th>...</th>\n",
       "      <th>storydesc</th>\n",
       "      <th>propertylandusetypeid</th>\n",
       "      <th>propertylandusedesc</th>\n",
       "      <th>typeconstructiontypeid</th>\n",
       "      <th>typeconstructiondesc</th>\n",
       "      <th>unitcnt</th>\n",
       "      <th>taxvaluedollarcnt</th>\n",
       "      <th>taxamount</th>\n",
       "      <th>logerror</th>\n",
       "      <th>transactiondate</th>\n",
       "    </tr>\n",
       "  </thead>\n",
       "  <tbody>\n",
       "    <tr>\n",
       "      <th>0</th>\n",
       "      <td>14297519</td>\n",
       "      <td>NaN</td>\n",
       "      <td>3.5</td>\n",
       "      <td>4.0</td>\n",
       "      <td>NaN</td>\n",
       "      <td>3100.0</td>\n",
       "      <td>6059.0</td>\n",
       "      <td>NaN</td>\n",
       "      <td>2.0</td>\n",
       "      <td>NaN</td>\n",
       "      <td>...</td>\n",
       "      <td>None</td>\n",
       "      <td>261.0</td>\n",
       "      <td>Single Family Residential</td>\n",
       "      <td>NaN</td>\n",
       "      <td>None</td>\n",
       "      <td>NaN</td>\n",
       "      <td>1023282.0</td>\n",
       "      <td>11013.72</td>\n",
       "      <td>0.025595</td>\n",
       "      <td>2017-01-01</td>\n",
       "    </tr>\n",
       "    <tr>\n",
       "      <th>1</th>\n",
       "      <td>17052889</td>\n",
       "      <td>NaN</td>\n",
       "      <td>1.0</td>\n",
       "      <td>2.0</td>\n",
       "      <td>NaN</td>\n",
       "      <td>1465.0</td>\n",
       "      <td>6111.0</td>\n",
       "      <td>1.0</td>\n",
       "      <td>1.0</td>\n",
       "      <td>NaN</td>\n",
       "      <td>...</td>\n",
       "      <td>None</td>\n",
       "      <td>261.0</td>\n",
       "      <td>Single Family Residential</td>\n",
       "      <td>NaN</td>\n",
       "      <td>None</td>\n",
       "      <td>NaN</td>\n",
       "      <td>464000.0</td>\n",
       "      <td>5672.48</td>\n",
       "      <td>0.055619</td>\n",
       "      <td>2017-01-01</td>\n",
       "    </tr>\n",
       "    <tr>\n",
       "      <th>2</th>\n",
       "      <td>14186244</td>\n",
       "      <td>NaN</td>\n",
       "      <td>2.0</td>\n",
       "      <td>3.0</td>\n",
       "      <td>NaN</td>\n",
       "      <td>1243.0</td>\n",
       "      <td>6059.0</td>\n",
       "      <td>NaN</td>\n",
       "      <td>2.0</td>\n",
       "      <td>NaN</td>\n",
       "      <td>...</td>\n",
       "      <td>None</td>\n",
       "      <td>261.0</td>\n",
       "      <td>Single Family Residential</td>\n",
       "      <td>NaN</td>\n",
       "      <td>None</td>\n",
       "      <td>NaN</td>\n",
       "      <td>564778.0</td>\n",
       "      <td>6488.30</td>\n",
       "      <td>0.005383</td>\n",
       "      <td>2017-01-01</td>\n",
       "    </tr>\n",
       "    <tr>\n",
       "      <th>3</th>\n",
       "      <td>12177905</td>\n",
       "      <td>NaN</td>\n",
       "      <td>3.0</td>\n",
       "      <td>4.0</td>\n",
       "      <td>NaN</td>\n",
       "      <td>2376.0</td>\n",
       "      <td>6037.0</td>\n",
       "      <td>NaN</td>\n",
       "      <td>NaN</td>\n",
       "      <td>NaN</td>\n",
       "      <td>...</td>\n",
       "      <td>None</td>\n",
       "      <td>261.0</td>\n",
       "      <td>Single Family Residential</td>\n",
       "      <td>NaN</td>\n",
       "      <td>None</td>\n",
       "      <td>1.0</td>\n",
       "      <td>145143.0</td>\n",
       "      <td>1777.51</td>\n",
       "      <td>-0.103410</td>\n",
       "      <td>2017-01-01</td>\n",
       "    </tr>\n",
       "    <tr>\n",
       "      <th>6</th>\n",
       "      <td>12095076</td>\n",
       "      <td>NaN</td>\n",
       "      <td>3.0</td>\n",
       "      <td>4.0</td>\n",
       "      <td>NaN</td>\n",
       "      <td>2962.0</td>\n",
       "      <td>6037.0</td>\n",
       "      <td>NaN</td>\n",
       "      <td>NaN</td>\n",
       "      <td>NaN</td>\n",
       "      <td>...</td>\n",
       "      <td>None</td>\n",
       "      <td>261.0</td>\n",
       "      <td>Single Family Residential</td>\n",
       "      <td>NaN</td>\n",
       "      <td>None</td>\n",
       "      <td>1.0</td>\n",
       "      <td>773303.0</td>\n",
       "      <td>9516.26</td>\n",
       "      <td>-0.001011</td>\n",
       "      <td>2017-01-01</td>\n",
       "    </tr>\n",
       "  </tbody>\n",
       "</table>\n",
       "<p>5 rows × 35 columns</p>\n",
       "</div>"
      ],
      "text/plain": [
       "   parcelid  basementsqft  bathroomcnt  bedroomcnt  decktypeid  \\\n",
       "0  14297519           NaN          3.5         4.0         NaN   \n",
       "1  17052889           NaN          1.0         2.0         NaN   \n",
       "2  14186244           NaN          2.0         3.0         NaN   \n",
       "3  12177905           NaN          3.0         4.0         NaN   \n",
       "6  12095076           NaN          3.0         4.0         NaN   \n",
       "\n",
       "   calculatedfinishedsquarefeet    fips  fireplacecnt  garagecarcnt  \\\n",
       "0                        3100.0  6059.0           NaN           2.0   \n",
       "1                        1465.0  6111.0           1.0           1.0   \n",
       "2                        1243.0  6059.0           NaN           2.0   \n",
       "3                        2376.0  6037.0           NaN           NaN   \n",
       "6                        2962.0  6037.0           NaN           NaN   \n",
       "\n",
       "   hashottuborspa  ...  storydesc  propertylandusetypeid  \\\n",
       "0             NaN  ...       None                  261.0   \n",
       "1             NaN  ...       None                  261.0   \n",
       "2             NaN  ...       None                  261.0   \n",
       "3             NaN  ...       None                  261.0   \n",
       "6             NaN  ...       None                  261.0   \n",
       "\n",
       "         propertylandusedesc  typeconstructiontypeid  typeconstructiondesc  \\\n",
       "0  Single Family Residential                     NaN                  None   \n",
       "1  Single Family Residential                     NaN                  None   \n",
       "2  Single Family Residential                     NaN                  None   \n",
       "3  Single Family Residential                     NaN                  None   \n",
       "6  Single Family Residential                     NaN                  None   \n",
       "\n",
       "   unitcnt  taxvaluedollarcnt taxamount  logerror transactiondate  \n",
       "0      NaN          1023282.0  11013.72  0.025595      2017-01-01  \n",
       "1      NaN           464000.0   5672.48  0.055619      2017-01-01  \n",
       "2      NaN           564778.0   6488.30  0.005383      2017-01-01  \n",
       "3      1.0           145143.0   1777.51 -0.103410      2017-01-01  \n",
       "6      1.0           773303.0   9516.26 -0.001011      2017-01-01  \n",
       "\n",
       "[5 rows x 35 columns]"
      ]
     },
     "execution_count": 36,
     "metadata": {},
     "output_type": "execute_result"
    }
   ],
   "source": [
    "df_single.head()"
   ]
  },
  {
   "cell_type": "code",
   "execution_count": 37,
   "metadata": {},
   "outputs": [
    {
     "data": {
      "text/plain": [
       "(52350, 35)"
      ]
     },
     "execution_count": 37,
     "metadata": {},
     "output_type": "execute_result"
    }
   ],
   "source": [
    "df_single.shape"
   ]
  },
  {
   "cell_type": "code",
   "execution_count": 38,
   "metadata": {
    "scrolled": true
   },
   "outputs": [
    {
     "data": {
      "text/plain": [
       "1.0    33734\n",
       "NaN    18616\n",
       "Name: unitcnt, dtype: int64"
      ]
     },
     "execution_count": 38,
     "metadata": {},
     "output_type": "execute_result"
    }
   ],
   "source": [
    "df_single['unitcnt'].value_counts(dropna=False)"
   ]
  },
  {
   "cell_type": "code",
   "execution_count": 39,
   "metadata": {
    "scrolled": true
   },
   "outputs": [
    {
     "data": {
      "text/html": [
       "<div>\n",
       "<style scoped>\n",
       "    .dataframe tbody tr th:only-of-type {\n",
       "        vertical-align: middle;\n",
       "    }\n",
       "\n",
       "    .dataframe tbody tr th {\n",
       "        vertical-align: top;\n",
       "    }\n",
       "\n",
       "    .dataframe thead th {\n",
       "        text-align: right;\n",
       "    }\n",
       "</style>\n",
       "<table border=\"1\" class=\"dataframe\">\n",
       "  <thead>\n",
       "    <tr style=\"text-align: right;\">\n",
       "      <th></th>\n",
       "      <th>propertylandusedesc</th>\n",
       "    </tr>\n",
       "  </thead>\n",
       "  <tbody>\n",
       "  </tbody>\n",
       "</table>\n",
       "</div>"
      ],
      "text/plain": [
       "Empty DataFrame\n",
       "Columns: [propertylandusedesc]\n",
       "Index: []"
      ]
     },
     "execution_count": 39,
     "metadata": {},
     "output_type": "execute_result"
    }
   ],
   "source": [
    "#checking if we get unitcnt >1\n",
    "df_single[['propertylandusedesc']][df_single['unitcnt'] > 1]"
   ]
  },
  {
   "cell_type": "markdown",
   "metadata": {},
   "source": [
    "## remove outliers"
   ]
  },
  {
   "cell_type": "markdown",
   "metadata": {},
   "source": [
    "first we are going to check outliers for ['calculatedfinishedsquarefeet', 'bedroomcnt', 'bathroomcnt', taxvaluedollarcnt]"
   ]
  },
  {
   "cell_type": "code",
   "execution_count": 40,
   "metadata": {
    "scrolled": false
   },
   "outputs": [
    {
     "data": {
      "image/png": "[encoded data removed]",
      "text/plain": [
       "<Figure size 576x432 with 1 Axes>"
      ]
     },
     "metadata": {
      "needs_background": "light"
     },
     "output_type": "display_data"
    },
    {
     "data": {
      "image/png": "[encoded data removed]",
      "text/plain": [
       "<Figure size 576x432 with 1 Axes>"
      ]
     },
     "metadata": {
      "needs_background": "light"
     },
     "output_type": "display_data"
    },
    {
     "data": {
      "image/png": "[encoded data removed]",
      "text/plain": [
       "<Figure size 576x432 with 1 Axes>"
      ]
     },
     "metadata": {
      "needs_background": "light"
     },
     "output_type": "display_data"
    },
    {
     "data": {
      "image/png": "[encoded data removed]",
      "text/plain": [
       "<Figure size 576x432 with 1 Axes>"
      ]
     },
     "metadata": {
      "needs_background": "light"
     },
     "output_type": "display_data"
    },
    {
     "data": {
      "image/png": "[encoded data removed]",
      "text/plain": [
       "<Figure size 576x432 with 1 Axes>"
      ]
     },
     "metadata": {
      "needs_background": "light"
     },
     "output_type": "display_data"
    },
    {
     "data": {
      "image/png": "[encoded data removed]",
      "text/plain": [
       "<Figure size 576x432 with 1 Axes>"
      ]
     },
     "metadata": {
      "needs_background": "light"
     },
     "output_type": "display_data"
    },
    {
     "data": {
      "image/png": "[encoded data removed]",
      "text/plain": [
       "<Figure size 576x432 with 1 Axes>"
      ]
     },
     "metadata": {
      "needs_background": "light"
     },
     "output_type": "display_data"
    },
    {
     "data": {
      "image/png": "[encoded data removed]",
      "text/plain": [
       "<Figure size 576x432 with 1 Axes>"
      ]
     },
     "metadata": {
      "needs_background": "light"
     },
     "output_type": "display_data"
    },
    {
     "data": {
      "image/png": "[encoded data removed]",
      "text/plain": [
       "<Figure size 576x432 with 1 Axes>"
      ]
     },
     "metadata": {
      "needs_background": "light"
     },
     "output_type": "display_data"
    },
    {
     "data": {
      "image/png": "[encoded data removed]",
      "text/plain": [
       "<Figure size 576x432 with 1 Axes>"
      ]
     },
     "metadata": {
      "needs_background": "light"
     },
     "output_type": "display_data"
    },
    {
     "data": {
      "image/png": "[encoded data removed]",
      "text/plain": [
       "<Figure size 576x432 with 1 Axes>"
      ]
     },
     "metadata": {
      "needs_background": "light"
     },
     "output_type": "display_data"
    },
    {
     "data": {
      "image/png": "[encoded data removed]",
      "text/plain": [
       "<Figure size 576x432 with 1 Axes>"
      ]
     },
     "metadata": {
      "needs_background": "light"
     },
     "output_type": "display_data"
    },
    {
     "data": {
      "image/png": "[encoded data removed]",
      "text/plain": [
       "<Figure size 576x432 with 1 Axes>"
      ]
     },
     "metadata": {
      "needs_background": "light"
     },
     "output_type": "display_data"
    },
    {
     "data": {
      "image/png": "[encoded data removed]",
      "text/plain": [
       "<Figure size 576x432 with 1 Axes>"
      ]
     },
     "metadata": {
      "needs_background": "light"
     },
     "output_type": "display_data"
    },
    {
     "data": {
      "image/png": "[encoded data removed]",
      "text/plain": [
       "<Figure size 576x432 with 1 Axes>"
      ]
     },
     "metadata": {
      "needs_background": "light"
     },
     "output_type": "display_data"
    },
    {
     "data": {
      "image/png": "[encoded data removed]",
      "text/plain": [
       "<Figure size 576x432 with 1 Axes>"
      ]
     },
     "metadata": {
      "needs_background": "light"
     },
     "output_type": "display_data"
    },
    {
     "data": {
      "image/png": "[encoded data removed]",
      "text/plain": [
       "<Figure size 576x432 with 1 Axes>"
      ]
     },
     "metadata": {
      "needs_background": "light"
     },
     "output_type": "display_data"
    },
    {
     "data": {
      "image/png": "[encoded data removed]",
      "text/plain": [
       "<Figure size 576x432 with 1 Axes>"
      ]
     },
     "metadata": {
      "needs_background": "light"
     },
     "output_type": "display_data"
    },
    {
     "data": {
      "image/png": "[encoded data removed]",
      "text/plain": [
       "<Figure size 576x432 with 1 Axes>"
      ]
     },
     "metadata": {
      "needs_background": "light"
     },
     "output_type": "display_data"
    },
    {
     "data": {
      "image/png": "[encoded data removed]",
      "text/plain": [
       "<Figure size 576x432 with 1 Axes>"
      ]
     },
     "metadata": {
      "needs_background": "light"
     },
     "output_type": "display_data"
    },
    {
     "data": {
      "image/png": "[encoded data removed]",
      "text/plain": [
       "<Figure size 576x432 with 1 Axes>"
      ]
     },
     "metadata": {
      "needs_background": "light"
     },
     "output_type": "display_data"
    },
    {
     "data": {
      "image/png": "[encoded data removed]",
      "text/plain": [
       "<Figure size 576x432 with 1 Axes>"
      ]
     },
     "metadata": {
      "needs_background": "light"
     },
     "output_type": "display_data"
    },
    {
     "data": {
      "image/png": "[encoded data removed]",
      "text/plain": [
       "<Figure size 576x432 with 1 Axes>"
      ]
     },
     "metadata": {
      "needs_background": "light"
     },
     "output_type": "display_data"
    },
    {
     "data": {
      "image/png": "[encoded data removed]",
      "text/plain": [
       "<Figure size 576x432 with 1 Axes>"
      ]
     },
     "metadata": {
      "needs_background": "light"
     },
     "output_type": "display_data"
    },
    {
     "data": {
      "image/png": "[encoded data removed]",
      "text/plain": [
       "<Figure size 576x432 with 1 Axes>"
      ]
     },
     "metadata": {
      "needs_background": "light"
     },
     "output_type": "display_data"
    },
    {
     "data": {
      "image/png": "[encoded data removed]",
      "text/plain": [
       "<Figure size 576x432 with 1 Axes>"
      ]
     },
     "metadata": {
      "needs_background": "light"
     },
     "output_type": "display_data"
    },
    {
     "data": {
      "image/png": "[encoded data removed]",
      "text/plain": [
       "<Figure size 576x432 with 1 Axes>"
      ]
     },
     "metadata": {
      "needs_background": "light"
     },
     "output_type": "display_data"
    }
   ],
   "source": [
    "p.distribution_boxplot(df_single)"
   ]
  },
  {
   "cell_type": "code",
   "execution_count": null,
   "metadata": {},
   "outputs": [],
   "source": []
  },
  {
   "cell_type": "code",
   "execution_count": 41,
   "metadata": {
    "scrolled": false
   },
   "outputs": [
    {
     "data": {
      "text/html": [
       "<div>\n",
       "<style scoped>\n",
       "    .dataframe tbody tr th:only-of-type {\n",
       "        vertical-align: middle;\n",
       "    }\n",
       "\n",
       "    .dataframe tbody tr th {\n",
       "        vertical-align: top;\n",
       "    }\n",
       "\n",
       "    .dataframe thead th {\n",
       "        text-align: right;\n",
       "    }\n",
       "</style>\n",
       "<table border=\"1\" class=\"dataframe\">\n",
       "  <thead>\n",
       "    <tr style=\"text-align: right;\">\n",
       "      <th></th>\n",
       "      <th>parcelid</th>\n",
       "      <th>basementsqft</th>\n",
       "      <th>bathroomcnt</th>\n",
       "      <th>bedroomcnt</th>\n",
       "      <th>decktypeid</th>\n",
       "      <th>calculatedfinishedsquarefeet</th>\n",
       "      <th>fips</th>\n",
       "      <th>fireplacecnt</th>\n",
       "      <th>garagecarcnt</th>\n",
       "      <th>hashottuborspa</th>\n",
       "      <th>...</th>\n",
       "      <th>storydesc</th>\n",
       "      <th>propertylandusetypeid</th>\n",
       "      <th>propertylandusedesc</th>\n",
       "      <th>typeconstructiontypeid</th>\n",
       "      <th>typeconstructiondesc</th>\n",
       "      <th>unitcnt</th>\n",
       "      <th>taxvaluedollarcnt</th>\n",
       "      <th>taxamount</th>\n",
       "      <th>logerror</th>\n",
       "      <th>transactiondate</th>\n",
       "    </tr>\n",
       "  </thead>\n",
       "  <tbody>\n",
       "    <tr>\n",
       "      <th>0</th>\n",
       "      <td>14297519</td>\n",
       "      <td>NaN</td>\n",
       "      <td>3.5</td>\n",
       "      <td>4.0</td>\n",
       "      <td>NaN</td>\n",
       "      <td>3100.0</td>\n",
       "      <td>6059.0</td>\n",
       "      <td>NaN</td>\n",
       "      <td>2.0</td>\n",
       "      <td>NaN</td>\n",
       "      <td>...</td>\n",
       "      <td>None</td>\n",
       "      <td>261.0</td>\n",
       "      <td>Single Family Residential</td>\n",
       "      <td>NaN</td>\n",
       "      <td>None</td>\n",
       "      <td>NaN</td>\n",
       "      <td>1023282.0</td>\n",
       "      <td>11013.72</td>\n",
       "      <td>0.025595</td>\n",
       "      <td>2017-01-01</td>\n",
       "    </tr>\n",
       "    <tr>\n",
       "      <th>1</th>\n",
       "      <td>17052889</td>\n",
       "      <td>NaN</td>\n",
       "      <td>1.0</td>\n",
       "      <td>2.0</td>\n",
       "      <td>NaN</td>\n",
       "      <td>1465.0</td>\n",
       "      <td>6111.0</td>\n",
       "      <td>1.0</td>\n",
       "      <td>1.0</td>\n",
       "      <td>NaN</td>\n",
       "      <td>...</td>\n",
       "      <td>None</td>\n",
       "      <td>261.0</td>\n",
       "      <td>Single Family Residential</td>\n",
       "      <td>NaN</td>\n",
       "      <td>None</td>\n",
       "      <td>NaN</td>\n",
       "      <td>464000.0</td>\n",
       "      <td>5672.48</td>\n",
       "      <td>0.055619</td>\n",
       "      <td>2017-01-01</td>\n",
       "    </tr>\n",
       "    <tr>\n",
       "      <th>2</th>\n",
       "      <td>14186244</td>\n",
       "      <td>NaN</td>\n",
       "      <td>2.0</td>\n",
       "      <td>3.0</td>\n",
       "      <td>NaN</td>\n",
       "      <td>1243.0</td>\n",
       "      <td>6059.0</td>\n",
       "      <td>NaN</td>\n",
       "      <td>2.0</td>\n",
       "      <td>NaN</td>\n",
       "      <td>...</td>\n",
       "      <td>None</td>\n",
       "      <td>261.0</td>\n",
       "      <td>Single Family Residential</td>\n",
       "      <td>NaN</td>\n",
       "      <td>None</td>\n",
       "      <td>NaN</td>\n",
       "      <td>564778.0</td>\n",
       "      <td>6488.30</td>\n",
       "      <td>0.005383</td>\n",
       "      <td>2017-01-01</td>\n",
       "    </tr>\n",
       "    <tr>\n",
       "      <th>3</th>\n",
       "      <td>12177905</td>\n",
       "      <td>NaN</td>\n",
       "      <td>3.0</td>\n",
       "      <td>4.0</td>\n",
       "      <td>NaN</td>\n",
       "      <td>2376.0</td>\n",
       "      <td>6037.0</td>\n",
       "      <td>NaN</td>\n",
       "      <td>NaN</td>\n",
       "      <td>NaN</td>\n",
       "      <td>...</td>\n",
       "      <td>None</td>\n",
       "      <td>261.0</td>\n",
       "      <td>Single Family Residential</td>\n",
       "      <td>NaN</td>\n",
       "      <td>None</td>\n",
       "      <td>1.0</td>\n",
       "      <td>145143.0</td>\n",
       "      <td>1777.51</td>\n",
       "      <td>-0.103410</td>\n",
       "      <td>2017-01-01</td>\n",
       "    </tr>\n",
       "    <tr>\n",
       "      <th>6</th>\n",
       "      <td>12095076</td>\n",
       "      <td>NaN</td>\n",
       "      <td>3.0</td>\n",
       "      <td>4.0</td>\n",
       "      <td>NaN</td>\n",
       "      <td>2962.0</td>\n",
       "      <td>6037.0</td>\n",
       "      <td>NaN</td>\n",
       "      <td>NaN</td>\n",
       "      <td>NaN</td>\n",
       "      <td>...</td>\n",
       "      <td>None</td>\n",
       "      <td>261.0</td>\n",
       "      <td>Single Family Residential</td>\n",
       "      <td>NaN</td>\n",
       "      <td>None</td>\n",
       "      <td>1.0</td>\n",
       "      <td>773303.0</td>\n",
       "      <td>9516.26</td>\n",
       "      <td>-0.001011</td>\n",
       "      <td>2017-01-01</td>\n",
       "    </tr>\n",
       "  </tbody>\n",
       "</table>\n",
       "<p>5 rows × 35 columns</p>\n",
       "</div>"
      ],
      "text/plain": [
       "   parcelid  basementsqft  bathroomcnt  bedroomcnt  decktypeid  \\\n",
       "0  14297519           NaN          3.5         4.0         NaN   \n",
       "1  17052889           NaN          1.0         2.0         NaN   \n",
       "2  14186244           NaN          2.0         3.0         NaN   \n",
       "3  12177905           NaN          3.0         4.0         NaN   \n",
       "6  12095076           NaN          3.0         4.0         NaN   \n",
       "\n",
       "   calculatedfinishedsquarefeet    fips  fireplacecnt  garagecarcnt  \\\n",
       "0                        3100.0  6059.0           NaN           2.0   \n",
       "1                        1465.0  6111.0           1.0           1.0   \n",
       "2                        1243.0  6059.0           NaN           2.0   \n",
       "3                        2376.0  6037.0           NaN           NaN   \n",
       "6                        2962.0  6037.0           NaN           NaN   \n",
       "\n",
       "   hashottuborspa  ...  storydesc  propertylandusetypeid  \\\n",
       "0             NaN  ...       None                  261.0   \n",
       "1             NaN  ...       None                  261.0   \n",
       "2             NaN  ...       None                  261.0   \n",
       "3             NaN  ...       None                  261.0   \n",
       "6             NaN  ...       None                  261.0   \n",
       "\n",
       "         propertylandusedesc  typeconstructiontypeid  typeconstructiondesc  \\\n",
       "0  Single Family Residential                     NaN                  None   \n",
       "1  Single Family Residential                     NaN                  None   \n",
       "2  Single Family Residential                     NaN                  None   \n",
       "3  Single Family Residential                     NaN                  None   \n",
       "6  Single Family Residential                     NaN                  None   \n",
       "\n",
       "   unitcnt  taxvaluedollarcnt taxamount  logerror transactiondate  \n",
       "0      NaN          1023282.0  11013.72  0.025595      2017-01-01  \n",
       "1      NaN           464000.0   5672.48  0.055619      2017-01-01  \n",
       "2      NaN           564778.0   6488.30  0.005383      2017-01-01  \n",
       "3      1.0           145143.0   1777.51 -0.103410      2017-01-01  \n",
       "6      1.0           773303.0   9516.26 -0.001011      2017-01-01  \n",
       "\n",
       "[5 rows x 35 columns]"
      ]
     },
     "execution_count": 41,
     "metadata": {},
     "output_type": "execute_result"
    }
   ],
   "source": [
    "df_single.head()"
   ]
  },
  {
   "cell_type": "code",
   "execution_count": 42,
   "metadata": {
    "scrolled": true
   },
   "outputs": [
    {
     "data": {
      "text/plain": [
       "(52350, 35)"
      ]
     },
     "execution_count": 42,
     "metadata": {},
     "output_type": "execute_result"
    }
   ],
   "source": [
    "df_single.shape"
   ]
  },
  {
   "cell_type": "code",
   "execution_count": 43,
   "metadata": {},
   "outputs": [],
   "source": [
    "col_list =['calculatedfinishedsquarefeet', 'bedroomcnt', 'bathroomcnt']"
   ]
  },
  {
   "cell_type": "code",
   "execution_count": 44,
   "metadata": {},
   "outputs": [],
   "source": [
    "def remove_outliers(df,  col_list , k=1.5):\n",
    "    ''' remove outliers from a list of columns in a dataframe \n",
    "        and return that dataframe\n",
    "    '''\n",
    "    \n",
    "    for col in col_list:\n",
    "\n",
    "        q1, q3 = df[f'{col}'].quantile([.25, .75])  # get quartiles\n",
    "        \n",
    "        iqr = q3 - q1   # calculate interquartile range\n",
    "        \n",
    "        upper_bound = q3 + k * iqr   # get upper bound\n",
    "        lower_bound = q1 - k * iqr   # get lower bound\n",
    "\n",
    "        # return dataframe without outliers\n",
    "        \n",
    "        df = df[(df[f'{col}'] > lower_bound) & (df[f'{col}'] < upper_bound)]\n",
    "        \n",
    "    return df"
   ]
  },
  {
   "cell_type": "code",
   "execution_count": 45,
   "metadata": {},
   "outputs": [],
   "source": [
    "# k = 1.5 is an standard"
   ]
  },
  {
   "cell_type": "code",
   "execution_count": 46,
   "metadata": {},
   "outputs": [],
   "source": [
    "df_single = remove_outliers(df_single,  col_list, 1.5)"
   ]
  },
  {
   "cell_type": "code",
   "execution_count": 47,
   "metadata": {},
   "outputs": [
    {
     "data": {
      "text/plain": [
       "(48246, 35)"
      ]
     },
     "execution_count": 47,
     "metadata": {},
     "output_type": "execute_result"
    }
   ],
   "source": [
    "df_single.shape"
   ]
  },
  {
   "cell_type": "markdown",
   "metadata": {},
   "source": [
    "**2. Create a function that will drop rows or columns based on the percent of values that are missing: handle_missing_values(df, prop_required_column, prop_required_row).**\n",
    "- The input:\n",
    "    - A dataframe\n",
    "        -A number between 0 and 1 that represents the proportion, for each column, of rows with non-missing values required to keep the column. i.e. if prop_required_column = .6, then you are requiring a column to have at least 60% of values not-NA (no more than 40% missing).\n",
    "    - A number between 0 and 1 that represents the proportion, for each row, of columns/variables with non-missing values required to keep the row. For example, if prop_required_row = .75, then you are requiring a row to have at least 75% of variables with a non-missing value (no more that 25% missing).\n",
    "- The output:\n",
    "    - The dataframe with the columns and rows dropped as indicated. Be sure to drop the columns prior to the rows in your function.\n",
    "- hint:\n",
    "    - Look up the dropna documentation.\n",
    "    - You will want to compute a threshold from your input values (prop_required) and total number of rows or columns.\n",
    "    - Make use of inplace, i.e. inplace=True/False.\n"
   ]
  },
  {
   "cell_type": "code",
   "execution_count": 48,
   "metadata": {},
   "outputs": [
    {
     "data": {
      "text/plain": [
       "(77381, 35)"
      ]
     },
     "execution_count": 48,
     "metadata": {},
     "output_type": "execute_result"
    }
   ],
   "source": [
    "df1.shape"
   ]
  },
  {
   "cell_type": "code",
   "execution_count": 49,
   "metadata": {},
   "outputs": [
    {
     "data": {
      "text/plain": [
       "(48246, 35)"
      ]
     },
     "execution_count": 49,
     "metadata": {},
     "output_type": "execute_result"
    }
   ],
   "source": [
    "df_single.shape"
   ]
  },
  {
   "cell_type": "code",
   "execution_count": 50,
   "metadata": {},
   "outputs": [
    {
     "name": "stdout",
     "output_type": "stream",
     "text": [
      "Your selected dataframe has 35 columns.\n",
      "There are 24 columns that have missing values.\n",
      "  \n",
      "** There are 0 duplicate rows that represents 0.0% of total Values**\n"
     ]
    },
    {
     "data": {
      "text/html": [
       "<div>\n",
       "<style scoped>\n",
       "    .dataframe tbody tr th:only-of-type {\n",
       "        vertical-align: middle;\n",
       "    }\n",
       "\n",
       "    .dataframe tbody tr th {\n",
       "        vertical-align: top;\n",
       "    }\n",
       "\n",
       "    .dataframe thead th {\n",
       "        text-align: right;\n",
       "    }\n",
       "</style>\n",
       "<table border=\"1\" class=\"dataframe\">\n",
       "  <thead>\n",
       "    <tr style=\"text-align: right;\">\n",
       "      <th></th>\n",
       "      <th>Missing Values</th>\n",
       "      <th>% of Total Values</th>\n",
       "    </tr>\n",
       "  </thead>\n",
       "  <tbody>\n",
       "    <tr>\n",
       "      <th>buildingclassdesc</th>\n",
       "      <td>48246</td>\n",
       "      <td>100.0</td>\n",
       "    </tr>\n",
       "    <tr>\n",
       "      <th>buildingclasstypeid</th>\n",
       "      <td>48246</td>\n",
       "      <td>100.0</td>\n",
       "    </tr>\n",
       "    <tr>\n",
       "      <th>basementsqft</th>\n",
       "      <td>48209</td>\n",
       "      <td>99.9</td>\n",
       "    </tr>\n",
       "    <tr>\n",
       "      <th>storydesc</th>\n",
       "      <td>48209</td>\n",
       "      <td>99.9</td>\n",
       "    </tr>\n",
       "    <tr>\n",
       "      <th>storytypeid</th>\n",
       "      <td>48209</td>\n",
       "      <td>99.9</td>\n",
       "    </tr>\n",
       "    <tr>\n",
       "      <th>architecturalstyletypeid</th>\n",
       "      <td>48181</td>\n",
       "      <td>99.9</td>\n",
       "    </tr>\n",
       "    <tr>\n",
       "      <th>architecturalstyledesc</th>\n",
       "      <td>48181</td>\n",
       "      <td>99.9</td>\n",
       "    </tr>\n",
       "    <tr>\n",
       "      <th>typeconstructiontypeid</th>\n",
       "      <td>48175</td>\n",
       "      <td>99.9</td>\n",
       "    </tr>\n",
       "    <tr>\n",
       "      <th>typeconstructiondesc</th>\n",
       "      <td>48175</td>\n",
       "      <td>99.9</td>\n",
       "    </tr>\n",
       "    <tr>\n",
       "      <th>decktypeid</th>\n",
       "      <td>47964</td>\n",
       "      <td>99.4</td>\n",
       "    </tr>\n",
       "    <tr>\n",
       "      <th>hashottuborspa</th>\n",
       "      <td>47244</td>\n",
       "      <td>97.9</td>\n",
       "    </tr>\n",
       "    <tr>\n",
       "      <th>fireplacecnt</th>\n",
       "      <td>41543</td>\n",
       "      <td>86.1</td>\n",
       "    </tr>\n",
       "    <tr>\n",
       "      <th>poolcnt</th>\n",
       "      <td>39100</td>\n",
       "      <td>81.0</td>\n",
       "    </tr>\n",
       "    <tr>\n",
       "      <th>airconditioningtypeid</th>\n",
       "      <td>36125</td>\n",
       "      <td>74.9</td>\n",
       "    </tr>\n",
       "    <tr>\n",
       "      <th>airconditioningdesc</th>\n",
       "      <td>36125</td>\n",
       "      <td>74.9</td>\n",
       "    </tr>\n",
       "    <tr>\n",
       "      <th>numberofstories</th>\n",
       "      <td>34552</td>\n",
       "      <td>71.6</td>\n",
       "    </tr>\n",
       "    <tr>\n",
       "      <th>garagecarcnt</th>\n",
       "      <td>31819</td>\n",
       "      <td>66.0</td>\n",
       "    </tr>\n",
       "    <tr>\n",
       "      <th>unitcnt</th>\n",
       "      <td>16835</td>\n",
       "      <td>34.9</td>\n",
       "    </tr>\n",
       "    <tr>\n",
       "      <th>heatingorsystemtypeid</th>\n",
       "      <td>16701</td>\n",
       "      <td>34.6</td>\n",
       "    </tr>\n",
       "    <tr>\n",
       "      <th>heatingorsystemdesc</th>\n",
       "      <td>16701</td>\n",
       "      <td>34.6</td>\n",
       "    </tr>\n",
       "    <tr>\n",
       "      <th>lotsizesquarefeet</th>\n",
       "      <td>250</td>\n",
       "      <td>0.5</td>\n",
       "    </tr>\n",
       "    <tr>\n",
       "      <th>yearbuilt</th>\n",
       "      <td>24</td>\n",
       "      <td>0.0</td>\n",
       "    </tr>\n",
       "    <tr>\n",
       "      <th>taxamount</th>\n",
       "      <td>4</td>\n",
       "      <td>0.0</td>\n",
       "    </tr>\n",
       "    <tr>\n",
       "      <th>taxvaluedollarcnt</th>\n",
       "      <td>1</td>\n",
       "      <td>0.0</td>\n",
       "    </tr>\n",
       "  </tbody>\n",
       "</table>\n",
       "</div>"
      ],
      "text/plain": [
       "                          Missing Values  % of Total Values\n",
       "buildingclassdesc                  48246              100.0\n",
       "buildingclasstypeid                48246              100.0\n",
       "basementsqft                       48209               99.9\n",
       "storydesc                          48209               99.9\n",
       "storytypeid                        48209               99.9\n",
       "architecturalstyletypeid           48181               99.9\n",
       "architecturalstyledesc             48181               99.9\n",
       "typeconstructiontypeid             48175               99.9\n",
       "typeconstructiondesc               48175               99.9\n",
       "decktypeid                         47964               99.4\n",
       "hashottuborspa                     47244               97.9\n",
       "fireplacecnt                       41543               86.1\n",
       "poolcnt                            39100               81.0\n",
       "airconditioningtypeid              36125               74.9\n",
       "airconditioningdesc                36125               74.9\n",
       "numberofstories                    34552               71.6\n",
       "garagecarcnt                       31819               66.0\n",
       "unitcnt                            16835               34.9\n",
       "heatingorsystemtypeid              16701               34.6\n",
       "heatingorsystemdesc                16701               34.6\n",
       "lotsizesquarefeet                    250                0.5\n",
       "yearbuilt                             24                0.0\n",
       "taxamount                              4                0.0\n",
       "taxvaluedollarcnt                      1                0.0"
      ]
     },
     "execution_count": 50,
     "metadata": {},
     "output_type": "execute_result"
    }
   ],
   "source": [
    "a.miss_dup_values(df_single)"
   ]
  },
  {
   "cell_type": "code",
   "execution_count": 51,
   "metadata": {},
   "outputs": [],
   "source": [
    "def handle_missing_values(df, prop_required_columns=0.5, prop_required_row=0.75):\n",
    "    '''\n",
    "    takes in a df and a minimum proportion  acceptable nulls in each column and row\n",
    "    '''\n",
    "    \n",
    "    # get minimum acceptable nulls in each column\n",
    "    threshold = int(round(prop_required_columns * len(df.index),0))\n",
    "    # drop columns based on threshold number\n",
    "    df = df.dropna(axis=1, thresh=threshold)\n",
    "     # get minimum acceptable nulls in each row\n",
    "    threshold = int(round(prop_required_row * len(df.columns),0))\n",
    "    # drop rows based on threshold number\n",
    "    df = df.dropna(axis=0, thresh=threshold)\n",
    "    \n",
    "\n",
    "     \n",
    "    return df"
   ]
  },
  {
   "cell_type": "code",
   "execution_count": null,
   "metadata": {},
   "outputs": [],
   "source": []
  },
  {
   "cell_type": "code",
   "execution_count": 52,
   "metadata": {},
   "outputs": [],
   "source": [
    "df_single= handle_missing_values(df_single, prop_required_columns=0.5, prop_required_row=0.75)"
   ]
  },
  {
   "cell_type": "code",
   "execution_count": 53,
   "metadata": {
    "scrolled": false
   },
   "outputs": [
    {
     "name": "stdout",
     "output_type": "stream",
     "text": [
      "Your selected dataframe has 18 columns.\n",
      "There are 7 columns that have missing values.\n",
      "  \n",
      "** There are 0 duplicate rows that represents 0.0% of total Values**\n"
     ]
    },
    {
     "data": {
      "text/html": [
       "<div>\n",
       "<style scoped>\n",
       "    .dataframe tbody tr th:only-of-type {\n",
       "        vertical-align: middle;\n",
       "    }\n",
       "\n",
       "    .dataframe tbody tr th {\n",
       "        vertical-align: top;\n",
       "    }\n",
       "\n",
       "    .dataframe thead th {\n",
       "        text-align: right;\n",
       "    }\n",
       "</style>\n",
       "<table border=\"1\" class=\"dataframe\">\n",
       "  <thead>\n",
       "    <tr style=\"text-align: right;\">\n",
       "      <th></th>\n",
       "      <th>Missing Values</th>\n",
       "      <th>% of Total Values</th>\n",
       "    </tr>\n",
       "  </thead>\n",
       "  <tbody>\n",
       "    <tr>\n",
       "      <th>unitcnt</th>\n",
       "      <td>16835</td>\n",
       "      <td>34.9</td>\n",
       "    </tr>\n",
       "    <tr>\n",
       "      <th>heatingorsystemtypeid</th>\n",
       "      <td>16701</td>\n",
       "      <td>34.6</td>\n",
       "    </tr>\n",
       "    <tr>\n",
       "      <th>heatingorsystemdesc</th>\n",
       "      <td>16701</td>\n",
       "      <td>34.6</td>\n",
       "    </tr>\n",
       "    <tr>\n",
       "      <th>lotsizesquarefeet</th>\n",
       "      <td>250</td>\n",
       "      <td>0.5</td>\n",
       "    </tr>\n",
       "    <tr>\n",
       "      <th>yearbuilt</th>\n",
       "      <td>24</td>\n",
       "      <td>0.0</td>\n",
       "    </tr>\n",
       "    <tr>\n",
       "      <th>taxamount</th>\n",
       "      <td>4</td>\n",
       "      <td>0.0</td>\n",
       "    </tr>\n",
       "    <tr>\n",
       "      <th>taxvaluedollarcnt</th>\n",
       "      <td>1</td>\n",
       "      <td>0.0</td>\n",
       "    </tr>\n",
       "  </tbody>\n",
       "</table>\n",
       "</div>"
      ],
      "text/plain": [
       "                       Missing Values  % of Total Values\n",
       "unitcnt                         16835               34.9\n",
       "heatingorsystemtypeid           16701               34.6\n",
       "heatingorsystemdesc             16701               34.6\n",
       "lotsizesquarefeet                 250                0.5\n",
       "yearbuilt                          24                0.0\n",
       "taxamount                           4                0.0\n",
       "taxvaluedollarcnt                   1                0.0"
      ]
     },
     "execution_count": 53,
     "metadata": {},
     "output_type": "execute_result"
    }
   ],
   "source": [
    "a.miss_dup_values(df_single)"
   ]
  },
  {
   "cell_type": "markdown",
   "metadata": {},
   "source": [
    "**3. Decide how to handle the remaining missing values:**\n",
    "\n",
    "- Fill with constant value.\n",
    "- Impute with mean, median, mode.\n",
    "- Drop row/column"
   ]
  },
  {
   "cell_type": "code",
   "execution_count": 54,
   "metadata": {},
   "outputs": [],
   "source": [
    "#we can see there are some columns that have a very low missing values, I create a function to drop this low percentage of values"
   ]
  },
  {
   "cell_type": "code",
   "execution_count": 55,
   "metadata": {},
   "outputs": [
    {
     "data": {
      "text/plain": [
       "parcelid                         0.000000\n",
       "bathroomcnt                      0.000000\n",
       "bedroomcnt                       0.000000\n",
       "calculatedfinishedsquarefeet     0.000000\n",
       "fips                             0.000000\n",
       "latitude                         0.000000\n",
       "longitude                        0.000000\n",
       "lotsizesquarefeet                0.518178\n",
       "yearbuilt                        0.049745\n",
       "heatingorsystemtypeid           34.616341\n",
       "heatingorsystemdesc             34.616341\n",
       "propertylandusetypeid            0.000000\n",
       "propertylandusedesc              0.000000\n",
       "unitcnt                         34.894084\n",
       "taxvaluedollarcnt                0.002073\n",
       "taxamount                        0.008291\n",
       "logerror                         0.000000\n",
       "transactiondate                  0.000000\n",
       "dtype: float64"
      ]
     },
     "execution_count": 55,
     "metadata": {},
     "output_type": "execute_result"
    }
   ],
   "source": [
    "#I'm calculating the percentage of missing values\n",
    "((100 * df_single.isnull().sum() / len(df_single))) "
   ]
  },
  {
   "cell_type": "code",
   "execution_count": 56,
   "metadata": {
    "scrolled": true
   },
   "outputs": [],
   "source": [
    "# with this condition I will get the columns that has less that 1% of missing values\n",
    "lis =((100 * df_single.isnull().sum() / len(df_single))> 0) &  ((100 * df_single.isnull().sum() / len(df_single))< 1)"
   ]
  },
  {
   "cell_type": "code",
   "execution_count": 57,
   "metadata": {},
   "outputs": [],
   "source": [
    "#this is the list of columns with misisng values <1%\n",
    "col_drop = list(lis[lis == True].index)"
   ]
  },
  {
   "cell_type": "code",
   "execution_count": 58,
   "metadata": {
    "scrolled": true
   },
   "outputs": [
    {
     "data": {
      "text/plain": [
       "['lotsizesquarefeet', 'yearbuilt', 'taxvaluedollarcnt', 'taxamount']"
      ]
     },
     "execution_count": 58,
     "metadata": {},
     "output_type": "execute_result"
    }
   ],
   "source": [
    "col_drop"
   ]
  },
  {
   "cell_type": "code",
   "execution_count": 59,
   "metadata": {
    "scrolled": true
   },
   "outputs": [
    {
     "name": "stdout",
     "output_type": "stream",
     "text": [
      "Your selected dataframe has 18 columns.\n",
      "There are 7 columns that have missing values.\n",
      "  \n",
      "** There are 0 duplicate rows that represents 0.0% of total Values**\n"
     ]
    },
    {
     "data": {
      "text/html": [
       "<div>\n",
       "<style scoped>\n",
       "    .dataframe tbody tr th:only-of-type {\n",
       "        vertical-align: middle;\n",
       "    }\n",
       "\n",
       "    .dataframe tbody tr th {\n",
       "        vertical-align: top;\n",
       "    }\n",
       "\n",
       "    .dataframe thead th {\n",
       "        text-align: right;\n",
       "    }\n",
       "</style>\n",
       "<table border=\"1\" class=\"dataframe\">\n",
       "  <thead>\n",
       "    <tr style=\"text-align: right;\">\n",
       "      <th></th>\n",
       "      <th>Missing Values</th>\n",
       "      <th>% of Total Values</th>\n",
       "    </tr>\n",
       "  </thead>\n",
       "  <tbody>\n",
       "    <tr>\n",
       "      <th>unitcnt</th>\n",
       "      <td>16835</td>\n",
       "      <td>34.9</td>\n",
       "    </tr>\n",
       "    <tr>\n",
       "      <th>heatingorsystemtypeid</th>\n",
       "      <td>16701</td>\n",
       "      <td>34.6</td>\n",
       "    </tr>\n",
       "    <tr>\n",
       "      <th>heatingorsystemdesc</th>\n",
       "      <td>16701</td>\n",
       "      <td>34.6</td>\n",
       "    </tr>\n",
       "    <tr>\n",
       "      <th>lotsizesquarefeet</th>\n",
       "      <td>250</td>\n",
       "      <td>0.5</td>\n",
       "    </tr>\n",
       "    <tr>\n",
       "      <th>yearbuilt</th>\n",
       "      <td>24</td>\n",
       "      <td>0.0</td>\n",
       "    </tr>\n",
       "    <tr>\n",
       "      <th>taxamount</th>\n",
       "      <td>4</td>\n",
       "      <td>0.0</td>\n",
       "    </tr>\n",
       "    <tr>\n",
       "      <th>taxvaluedollarcnt</th>\n",
       "      <td>1</td>\n",
       "      <td>0.0</td>\n",
       "    </tr>\n",
       "  </tbody>\n",
       "</table>\n",
       "</div>"
      ],
      "text/plain": [
       "                       Missing Values  % of Total Values\n",
       "unitcnt                         16835               34.9\n",
       "heatingorsystemtypeid           16701               34.6\n",
       "heatingorsystemdesc             16701               34.6\n",
       "lotsizesquarefeet                 250                0.5\n",
       "yearbuilt                          24                0.0\n",
       "taxamount                           4                0.0\n",
       "taxvaluedollarcnt                   1                0.0"
      ]
     },
     "execution_count": 59,
     "metadata": {},
     "output_type": "execute_result"
    }
   ],
   "source": [
    "missing = a.miss_dup_values(df_single)\n",
    "missing"
   ]
  },
  {
   "cell_type": "code",
   "execution_count": 60,
   "metadata": {},
   "outputs": [
    {
     "data": {
      "text/plain": [
       "['unitcnt',\n",
       " 'heatingorsystemtypeid',\n",
       " 'heatingorsystemdesc',\n",
       " 'lotsizesquarefeet',\n",
       " 'yearbuilt',\n",
       " 'taxamount',\n",
       " 'taxvaluedollarcnt']"
      ]
     },
     "execution_count": 60,
     "metadata": {},
     "output_type": "execute_result"
    }
   ],
   "source": [
    "#getting only the columns with missing values\n",
    "missing.index.to_list()"
   ]
  },
  {
   "cell_type": "code",
   "execution_count": 61,
   "metadata": {
    "scrolled": false
   },
   "outputs": [
    {
     "data": {
      "text/html": [
       "<div>\n",
       "<style scoped>\n",
       "    .dataframe tbody tr th:only-of-type {\n",
       "        vertical-align: middle;\n",
       "    }\n",
       "\n",
       "    .dataframe tbody tr th {\n",
       "        vertical-align: top;\n",
       "    }\n",
       "\n",
       "    .dataframe thead th {\n",
       "        text-align: right;\n",
       "    }\n",
       "</style>\n",
       "<table border=\"1\" class=\"dataframe\">\n",
       "  <thead>\n",
       "    <tr style=\"text-align: right;\">\n",
       "      <th></th>\n",
       "      <th>count</th>\n",
       "      <th>mean</th>\n",
       "      <th>std</th>\n",
       "      <th>min</th>\n",
       "      <th>25%</th>\n",
       "      <th>50%</th>\n",
       "      <th>75%</th>\n",
       "      <th>max</th>\n",
       "    </tr>\n",
       "  </thead>\n",
       "  <tbody>\n",
       "    <tr>\n",
       "      <th>unitcnt</th>\n",
       "      <td>31411.0</td>\n",
       "      <td>1.000000</td>\n",
       "      <td>0.000000</td>\n",
       "      <td>1.00</td>\n",
       "      <td>1.0000</td>\n",
       "      <td>1.000</td>\n",
       "      <td>1.000</td>\n",
       "      <td>1.00</td>\n",
       "    </tr>\n",
       "    <tr>\n",
       "      <th>heatingorsystemtypeid</th>\n",
       "      <td>31545.0</td>\n",
       "      <td>4.022951</td>\n",
       "      <td>2.558802</td>\n",
       "      <td>1.00</td>\n",
       "      <td>2.0000</td>\n",
       "      <td>2.000</td>\n",
       "      <td>7.000</td>\n",
       "      <td>24.00</td>\n",
       "    </tr>\n",
       "    <tr>\n",
       "      <th>lotsizesquarefeet</th>\n",
       "      <td>47996.0</td>\n",
       "      <td>10233.984103</td>\n",
       "      <td>87848.657735</td>\n",
       "      <td>236.00</td>\n",
       "      <td>5507.0000</td>\n",
       "      <td>6743.000</td>\n",
       "      <td>8378.000</td>\n",
       "      <td>6971010.00</td>\n",
       "    </tr>\n",
       "    <tr>\n",
       "      <th>yearbuilt</th>\n",
       "      <td>48222.0</td>\n",
       "      <td>1962.399216</td>\n",
       "      <td>22.138944</td>\n",
       "      <td>1878.00</td>\n",
       "      <td>1950.0000</td>\n",
       "      <td>1960.000</td>\n",
       "      <td>1977.000</td>\n",
       "      <td>2016.00</td>\n",
       "    </tr>\n",
       "    <tr>\n",
       "      <th>taxamount</th>\n",
       "      <td>48242.0</td>\n",
       "      <td>5437.841941</td>\n",
       "      <td>4843.696883</td>\n",
       "      <td>49.18</td>\n",
       "      <td>2562.7825</td>\n",
       "      <td>4446.105</td>\n",
       "      <td>6778.635</td>\n",
       "      <td>129365.37</td>\n",
       "    </tr>\n",
       "    <tr>\n",
       "      <th>taxvaluedollarcnt</th>\n",
       "      <td>48245.0</td>\n",
       "      <td>441913.314706</td>\n",
       "      <td>419451.707299</td>\n",
       "      <td>1000.00</td>\n",
       "      <td>184690.0000</td>\n",
       "      <td>355000.000</td>\n",
       "      <td>566927.000</td>\n",
       "      <td>11000000.00</td>\n",
       "    </tr>\n",
       "  </tbody>\n",
       "</table>\n",
       "</div>"
      ],
      "text/plain": [
       "                         count           mean            std      min  \\\n",
       "unitcnt                31411.0       1.000000       0.000000     1.00   \n",
       "heatingorsystemtypeid  31545.0       4.022951       2.558802     1.00   \n",
       "lotsizesquarefeet      47996.0   10233.984103   87848.657735   236.00   \n",
       "yearbuilt              48222.0    1962.399216      22.138944  1878.00   \n",
       "taxamount              48242.0    5437.841941    4843.696883    49.18   \n",
       "taxvaluedollarcnt      48245.0  441913.314706  419451.707299  1000.00   \n",
       "\n",
       "                               25%         50%         75%          max  \n",
       "unitcnt                     1.0000       1.000       1.000         1.00  \n",
       "heatingorsystemtypeid       2.0000       2.000       7.000        24.00  \n",
       "lotsizesquarefeet        5507.0000    6743.000    8378.000   6971010.00  \n",
       "yearbuilt                1950.0000    1960.000    1977.000      2016.00  \n",
       "taxamount                2562.7825    4446.105    6778.635    129365.37  \n",
       "taxvaluedollarcnt      184690.0000  355000.000  566927.000  11000000.00  "
      ]
     },
     "execution_count": 61,
     "metadata": {},
     "output_type": "execute_result"
    }
   ],
   "source": [
    "#checking the columns that have missing values\n",
    "df_single[missing.index.to_list()].describe().T"
   ]
  },
  {
   "cell_type": "code",
   "execution_count": 62,
   "metadata": {
    "scrolled": false
   },
   "outputs": [
    {
     "data": {
      "text/html": [
       "<div>\n",
       "<style scoped>\n",
       "    .dataframe tbody tr th:only-of-type {\n",
       "        vertical-align: middle;\n",
       "    }\n",
       "\n",
       "    .dataframe tbody tr th {\n",
       "        vertical-align: top;\n",
       "    }\n",
       "\n",
       "    .dataframe thead th {\n",
       "        text-align: right;\n",
       "    }\n",
       "</style>\n",
       "<table border=\"1\" class=\"dataframe\">\n",
       "  <thead>\n",
       "    <tr style=\"text-align: right;\">\n",
       "      <th></th>\n",
       "      <th>parcelid</th>\n",
       "      <th>bathroomcnt</th>\n",
       "      <th>bedroomcnt</th>\n",
       "      <th>calculatedfinishedsquarefeet</th>\n",
       "      <th>fips</th>\n",
       "      <th>latitude</th>\n",
       "      <th>longitude</th>\n",
       "      <th>lotsizesquarefeet</th>\n",
       "      <th>yearbuilt</th>\n",
       "      <th>heatingorsystemtypeid</th>\n",
       "      <th>heatingorsystemdesc</th>\n",
       "      <th>propertylandusetypeid</th>\n",
       "      <th>propertylandusedesc</th>\n",
       "      <th>unitcnt</th>\n",
       "      <th>taxvaluedollarcnt</th>\n",
       "      <th>taxamount</th>\n",
       "      <th>logerror</th>\n",
       "      <th>transactiondate</th>\n",
       "    </tr>\n",
       "  </thead>\n",
       "  <tbody>\n",
       "  </tbody>\n",
       "</table>\n",
       "</div>"
      ],
      "text/plain": [
       "Empty DataFrame\n",
       "Columns: [parcelid, bathroomcnt, bedroomcnt, calculatedfinishedsquarefeet, fips, latitude, longitude, lotsizesquarefeet, yearbuilt, heatingorsystemtypeid, heatingorsystemdesc, propertylandusetypeid, propertylandusedesc, unitcnt, taxvaluedollarcnt, taxamount, logerror, transactiondate]\n",
       "Index: []"
      ]
     },
     "execution_count": 62,
     "metadata": {},
     "output_type": "execute_result"
    }
   ],
   "source": [
    "#for calculatedfinishedsquarefeet I will check if there any other house with the same # bedrooms and bathrooms\n",
    "df_single[df_single['calculatedfinishedsquarefeet'].isnull()]"
   ]
  },
  {
   "cell_type": "code",
   "execution_count": 63,
   "metadata": {},
   "outputs": [],
   "source": [
    "#checking if there are another properties with same bedrooms, bathrooms and lotsize"
   ]
  },
  {
   "cell_type": "code",
   "execution_count": 64,
   "metadata": {
    "scrolled": true
   },
   "outputs": [
    {
     "data": {
      "text/html": [
       "<div>\n",
       "<style scoped>\n",
       "    .dataframe tbody tr th:only-of-type {\n",
       "        vertical-align: middle;\n",
       "    }\n",
       "\n",
       "    .dataframe tbody tr th {\n",
       "        vertical-align: top;\n",
       "    }\n",
       "\n",
       "    .dataframe thead th {\n",
       "        text-align: right;\n",
       "    }\n",
       "</style>\n",
       "<table border=\"1\" class=\"dataframe\">\n",
       "  <thead>\n",
       "    <tr style=\"text-align: right;\">\n",
       "      <th></th>\n",
       "      <th>parcelid</th>\n",
       "      <th>bathroomcnt</th>\n",
       "      <th>bedroomcnt</th>\n",
       "      <th>calculatedfinishedsquarefeet</th>\n",
       "      <th>fips</th>\n",
       "      <th>latitude</th>\n",
       "      <th>longitude</th>\n",
       "      <th>lotsizesquarefeet</th>\n",
       "      <th>yearbuilt</th>\n",
       "      <th>heatingorsystemtypeid</th>\n",
       "      <th>heatingorsystemdesc</th>\n",
       "      <th>propertylandusetypeid</th>\n",
       "      <th>propertylandusedesc</th>\n",
       "      <th>unitcnt</th>\n",
       "      <th>taxvaluedollarcnt</th>\n",
       "      <th>taxamount</th>\n",
       "      <th>logerror</th>\n",
       "      <th>transactiondate</th>\n",
       "    </tr>\n",
       "  </thead>\n",
       "  <tbody>\n",
       "  </tbody>\n",
       "</table>\n",
       "</div>"
      ],
      "text/plain": [
       "Empty DataFrame\n",
       "Columns: [parcelid, bathroomcnt, bedroomcnt, calculatedfinishedsquarefeet, fips, latitude, longitude, lotsizesquarefeet, yearbuilt, heatingorsystemtypeid, heatingorsystemdesc, propertylandusetypeid, propertylandusedesc, unitcnt, taxvaluedollarcnt, taxamount, logerror, transactiondate]\n",
       "Index: []"
      ]
     },
     "execution_count": 64,
     "metadata": {},
     "output_type": "execute_result"
    }
   ],
   "source": [
    "df_single[(df_single['bathroomcnt'] == 4.5 ) & (df_single['bedroomcnt'] == 5 ) & (df_single['lotsizesquarefeet'] > 200000)]"
   ]
  },
  {
   "cell_type": "markdown",
   "metadata": {},
   "source": [
    "** I decide to drop those rows**"
   ]
  },
  {
   "cell_type": "code",
   "execution_count": 65,
   "metadata": {},
   "outputs": [],
   "source": [
    "#df_clean.dropna(axis=0, subset=['calculatedfinishedsquarefeet'], inplace = True)"
   ]
  },
  {
   "cell_type": "code",
   "execution_count": 66,
   "metadata": {
    "scrolled": true
   },
   "outputs": [],
   "source": [
    "#df_clean[df_clean['calculatedfinishedsquarefeet'].isnull()]"
   ]
  },
  {
   "cell_type": "markdown",
   "metadata": {},
   "source": [
    "**I decided to create a function that  remove the rows that has columuns with missing values less than 1%**"
   ]
  },
  {
   "cell_type": "code",
   "execution_count": 67,
   "metadata": {},
   "outputs": [],
   "source": [
    "def dropp_low_missing_values(df, per = 1 ):\n",
    "    '''\n",
    "    takes in a df and the percentage that you want to drop of rows. the defautl value is 1%\n",
    "     remove the rows that has columuns with missing values less than 1%**\n",
    "    '''\n",
    "    \n",
    "    #drop rows with null values < per %\n",
    "    lis =((100 * df.isnull().sum() / len(df))> 0) &  ((100 * df.isnull().sum() / len(df))< per)\n",
    "    col_drop = list(lis[lis == True].index)\n",
    "    df = df.dropna(axis=0, subset = col_drop)\n",
    "    \n",
    "    return df"
   ]
  },
  {
   "cell_type": "code",
   "execution_count": null,
   "metadata": {},
   "outputs": [],
   "source": []
  },
  {
   "cell_type": "code",
   "execution_count": 68,
   "metadata": {},
   "outputs": [
    {
     "data": {
      "text/plain": [
       "(48246, 18)"
      ]
     },
     "execution_count": 68,
     "metadata": {},
     "output_type": "execute_result"
    }
   ],
   "source": [
    "df_single.shape"
   ]
  },
  {
   "cell_type": "code",
   "execution_count": 69,
   "metadata": {},
   "outputs": [],
   "source": [
    "df_clean= dropp_low_missing_values(df_single, 1)"
   ]
  },
  {
   "cell_type": "code",
   "execution_count": 70,
   "metadata": {},
   "outputs": [
    {
     "data": {
      "text/plain": [
       "(47968, 18)"
      ]
     },
     "execution_count": 70,
     "metadata": {},
     "output_type": "execute_result"
    }
   ],
   "source": [
    "df_clean.shape"
   ]
  },
  {
   "cell_type": "code",
   "execution_count": 71,
   "metadata": {},
   "outputs": [],
   "source": [
    "#for  unitcnt I will add 1 because it is single unit property"
   ]
  },
  {
   "cell_type": "code",
   "execution_count": 72,
   "metadata": {},
   "outputs": [],
   "source": [
    "df_clean['unitcnt'].fillna(1, inplace= True)"
   ]
  },
  {
   "cell_type": "code",
   "execution_count": 73,
   "metadata": {},
   "outputs": [
    {
     "data": {
      "text/plain": [
       "0"
      ]
     },
     "execution_count": 73,
     "metadata": {},
     "output_type": "execute_result"
    }
   ],
   "source": [
    "df_clean['unitcnt'].isnull().sum()"
   ]
  },
  {
   "cell_type": "code",
   "execution_count": 74,
   "metadata": {},
   "outputs": [],
   "source": [
    "#for the rest I will split before impute "
   ]
  },
  {
   "cell_type": "code",
   "execution_count": 75,
   "metadata": {
    "scrolled": true
   },
   "outputs": [
    {
     "name": "stdout",
     "output_type": "stream",
     "text": [
      "Your selected dataframe has 18 columns.\n",
      "There are 2 columns that have missing values.\n",
      "  \n",
      "** There are 0 duplicate rows that represents 0.0% of total Values**\n"
     ]
    },
    {
     "data": {
      "text/html": [
       "<div>\n",
       "<style scoped>\n",
       "    .dataframe tbody tr th:only-of-type {\n",
       "        vertical-align: middle;\n",
       "    }\n",
       "\n",
       "    .dataframe tbody tr th {\n",
       "        vertical-align: top;\n",
       "    }\n",
       "\n",
       "    .dataframe thead th {\n",
       "        text-align: right;\n",
       "    }\n",
       "</style>\n",
       "<table border=\"1\" class=\"dataframe\">\n",
       "  <thead>\n",
       "    <tr style=\"text-align: right;\">\n",
       "      <th></th>\n",
       "      <th>Missing Values</th>\n",
       "      <th>% of Total Values</th>\n",
       "    </tr>\n",
       "  </thead>\n",
       "  <tbody>\n",
       "    <tr>\n",
       "      <th>heatingorsystemtypeid</th>\n",
       "      <td>16648</td>\n",
       "      <td>34.7</td>\n",
       "    </tr>\n",
       "    <tr>\n",
       "      <th>heatingorsystemdesc</th>\n",
       "      <td>16648</td>\n",
       "      <td>34.7</td>\n",
       "    </tr>\n",
       "  </tbody>\n",
       "</table>\n",
       "</div>"
      ],
      "text/plain": [
       "                       Missing Values  % of Total Values\n",
       "heatingorsystemtypeid           16648               34.7\n",
       "heatingorsystemdesc             16648               34.7"
      ]
     },
     "execution_count": 75,
     "metadata": {},
     "output_type": "execute_result"
    }
   ],
   "source": [
    "a.miss_dup_values(df_clean)"
   ]
  },
  {
   "cell_type": "code",
   "execution_count": 76,
   "metadata": {},
   "outputs": [
    {
     "name": "stdout",
     "output_type": "stream",
     "text": [
      "train -> (26861, 18)\n",
      "validate -> (11513, 18)\n",
      "test -> (9594, 18)\n"
     ]
    }
   ],
   "source": [
    "train, validate,  test = p.split_data(df_clean)"
   ]
  },
  {
   "cell_type": "code",
   "execution_count": 77,
   "metadata": {},
   "outputs": [
    {
     "data": {
      "text/plain": [
       "2.0     10492\n",
       "7.0      6791\n",
       "6.0       285\n",
       "20.0       33\n",
       "13.0        9\n",
       "1.0         5\n",
       "18.0        3\n",
       "24.0        1\n",
       "Name: heatingorsystemtypeid, dtype: int64"
      ]
     },
     "execution_count": 77,
     "metadata": {},
     "output_type": "execute_result"
    }
   ],
   "source": [
    "# lets check heatingorsystemtypeid and  heatingorsystemtypeid. they have the same information\n",
    "train['heatingorsystemtypeid'].value_counts()"
   ]
  },
  {
   "cell_type": "code",
   "execution_count": 78,
   "metadata": {
    "scrolled": true
   },
   "outputs": [
    {
     "data": {
      "text/plain": [
       "Central       10492\n",
       "Floor/Wall     6791\n",
       "Forced air      285\n",
       "Solar            33\n",
       "None              9\n",
       "Baseboard         5\n",
       "Radiant           3\n",
       "Yes               1\n",
       "Name: heatingorsystemdesc, dtype: int64"
      ]
     },
     "execution_count": 78,
     "metadata": {},
     "output_type": "execute_result"
    }
   ],
   "source": [
    "train['heatingorsystemdesc'].value_counts()"
   ]
  },
  {
   "cell_type": "code",
   "execution_count": 79,
   "metadata": {},
   "outputs": [],
   "source": [
    "#both columns have the same info I will drop heatingorsystemdesc"
   ]
  },
  {
   "cell_type": "code",
   "execution_count": 80,
   "metadata": {},
   "outputs": [],
   "source": [
    "#I will add with the most frequent value using simple imputer"
   ]
  },
  {
   "cell_type": "code",
   "execution_count": 81,
   "metadata": {},
   "outputs": [],
   "source": [
    "imputer = SimpleImputer(missing_values = np.nan, strategy='most_frequent')"
   ]
  },
  {
   "cell_type": "code",
   "execution_count": 82,
   "metadata": {},
   "outputs": [],
   "source": [
    "imputer = imputer.fit(train[['heatingorsystemtypeid']])"
   ]
  },
  {
   "cell_type": "code",
   "execution_count": 83,
   "metadata": {},
   "outputs": [],
   "source": [
    "train[['heatingorsystemtypeid']] = imputer.transform(train[['heatingorsystemtypeid']])\n",
    "\n",
    "validate[['heatingorsystemtypeid']] = imputer.transform(validate[['heatingorsystemtypeid']])\n",
    "\n",
    "test[['heatingorsystemtypeid']] = imputer.transform(test[['heatingorsystemtypeid']])"
   ]
  },
  {
   "cell_type": "code",
   "execution_count": 84,
   "metadata": {},
   "outputs": [],
   "source": [
    "def fill_nan(train, validate, test, cols,  strategy = 'most_frequent'):\n",
    "    \n",
    "    from sklearn.impute import SimpleImputer\n",
    "    imputer = SimpleImputer(missing_values = np.nan, strategy= strategy)\n",
    "    imputer = imputer.fit(train[cols])\n",
    "    \n",
    "    train[cols] = imputer.transform(train[cols])\n",
    "    validate[cols] = imputer.transform(validate[cols])\n",
    "    test[cols] = imputer.transform(test[cols])\n",
    "    \n",
    "    return train, validate, test"
   ]
  },
  {
   "cell_type": "code",
   "execution_count": 85,
   "metadata": {},
   "outputs": [
    {
     "data": {
      "text/plain": [
       "2.0     19734\n",
       "7.0      6791\n",
       "6.0       285\n",
       "20.0       33\n",
       "13.0        9\n",
       "1.0         5\n",
       "18.0        3\n",
       "24.0        1\n",
       "Name: heatingorsystemtypeid, dtype: int64"
      ]
     },
     "execution_count": 85,
     "metadata": {},
     "output_type": "execute_result"
    }
   ],
   "source": [
    "# Validate that there are no longer any Null values in heatingorsystemtypeid\n",
    "train.heatingorsystemtypeid.value_counts(dropna=False)"
   ]
  },
  {
   "cell_type": "code",
   "execution_count": null,
   "metadata": {
    "scrolled": true
   },
   "outputs": [],
   "source": []
  },
  {
   "cell_type": "code",
   "execution_count": 86,
   "metadata": {},
   "outputs": [],
   "source": [
    "#let's see the columns with missing values"
   ]
  },
  {
   "cell_type": "code",
   "execution_count": 87,
   "metadata": {},
   "outputs": [
    {
     "name": "stdout",
     "output_type": "stream",
     "text": [
      "Your selected dataframe has 18 columns.\n",
      "There are 1 columns that have missing values.\n",
      "  \n",
      "** There are 0 duplicate rows that represents 0.0% of total Values**\n"
     ]
    },
    {
     "data": {
      "text/html": [
       "<div>\n",
       "<style scoped>\n",
       "    .dataframe tbody tr th:only-of-type {\n",
       "        vertical-align: middle;\n",
       "    }\n",
       "\n",
       "    .dataframe tbody tr th {\n",
       "        vertical-align: top;\n",
       "    }\n",
       "\n",
       "    .dataframe thead th {\n",
       "        text-align: right;\n",
       "    }\n",
       "</style>\n",
       "<table border=\"1\" class=\"dataframe\">\n",
       "  <thead>\n",
       "    <tr style=\"text-align: right;\">\n",
       "      <th></th>\n",
       "      <th>Missing Values</th>\n",
       "      <th>% of Total Values</th>\n",
       "    </tr>\n",
       "  </thead>\n",
       "  <tbody>\n",
       "    <tr>\n",
       "      <th>heatingorsystemdesc</th>\n",
       "      <td>9242</td>\n",
       "      <td>34.4</td>\n",
       "    </tr>\n",
       "  </tbody>\n",
       "</table>\n",
       "</div>"
      ],
      "text/plain": [
       "                     Missing Values  % of Total Values\n",
       "heatingorsystemdesc            9242               34.4"
      ]
     },
     "execution_count": 87,
     "metadata": {},
     "output_type": "execute_result"
    }
   ],
   "source": [
    "miss = a.miss_dup_values(train)\n",
    "miss"
   ]
  },
  {
   "cell_type": "markdown",
   "metadata": {},
   "source": [
    "### wrangle_zillow.py\n",
    "**Functions of the work above needed to acquire and prepare a new sample of data.**"
   ]
  },
  {
   "cell_type": "code",
   "execution_count": 109,
   "metadata": {},
   "outputs": [],
   "source": [
    "def wrangle_zillow ( sql_query, prop_required_columns=0.5, prop_required_row=0.75, strategy = 'most_frequent'):\n",
    "    \n",
    "    #acquire data\n",
    "    df= a.get_data_from_sql('zillow',sql_query)\n",
    "    \n",
    "    \n",
    "    #getting the latest transactions \n",
    "    df1 = df.sort_values(by ='transactiondate', ascending=True).drop_duplicates( subset = 'parcelid' ,keep= 'last')\n",
    "   \n",
    "    \n",
    "    #this list has all types of single unit properties\n",
    "    single= ['Single Family Residential',' Mobile Home' , 'Townhouse ', 'Manufactured, Modular, Prefabricated Homes'  ]\n",
    "    #create a mask\n",
    "    single_mask = df1['propertylandusedesc'].isin(single)\n",
    "    #using that mask and also add  a condition\n",
    "    df_single = df1[single_mask & ((df1['unitcnt'] == 1) | (df1['unitcnt'].isnull()))]\n",
    "    \n",
    "    \n",
    "    #remove outliers \n",
    "    col_list =['calculatedfinishedsquarefeet', 'bedroomcnt', 'bathroomcnt']\n",
    "    df_single = p.remove_outliers(df_single, col_list,   k=1.5)\n",
    "    \n",
    "\n",
    "    #missing values\n",
    "    df_clean = handle_missing_values(df_single, prop_required_columns, prop_required_row)\n",
    "\n",
    "    #missing low values\n",
    "    df_clean = dropp_low_missing_values(df_clean)\n",
    "\n",
    "    #drop duplicated rows\n",
    "    df_clean= df_clean.drop(columns = 'heatingorsystemdesc')\n",
    "    \n",
    "    #fill missing values in unitcnt\n",
    "    df_clean['unitcnt'].fillna(1, inplace= True)\n",
    "    print('df  -->', df_clean.shape)\n",
    "    \n",
    "    #split\n",
    "    train, validate,  test = p.split_data(df_clean)\n",
    "    \n",
    "    #fill nan using simple imputer\n",
    "    cols = ['heatingorsystemtypeid']\n",
    "    train, validate, test = fill_nan(train, validate, test, cols,  strategy = 'most_frequent')\n",
    "    \n",
    "    \n",
    "\n",
    "    \n",
    "    return train, validate, test\n",
    "  "
   ]
  },
  {
   "cell_type": "code",
   "execution_count": 110,
   "metadata": {},
   "outputs": [
    {
     "name": "stdout",
     "output_type": "stream",
     "text": [
      "df  --> (47968, 17)\n",
      "train -> (26861, 17)\n",
      "validate -> (11513, 17)\n",
      "test -> (9594, 17)\n"
     ]
    }
   ],
   "source": [
    "train, validate, test = wrangle_zillow ( sql_query, prop_required_columns=0.5, prop_required_row=0.75)"
   ]
  },
  {
   "cell_type": "code",
   "execution_count": null,
   "metadata": {},
   "outputs": [],
   "source": []
  },
  {
   "cell_type": "markdown",
   "metadata": {},
   "source": []
  },
  {
   "cell_type": "markdown",
   "metadata": {},
   "source": [
    "____________________________"
   ]
  },
  {
   "cell_type": "markdown",
   "metadata": {},
   "source": [
    "## Testing my wrangle_zillow funcion"
   ]
  },
  {
   "cell_type": "code",
   "execution_count": 111,
   "metadata": {},
   "outputs": [],
   "source": [
    "import wrangle_zillow as wz"
   ]
  },
  {
   "cell_type": "code",
   "execution_count": 112,
   "metadata": {},
   "outputs": [
    {
     "name": "stdout",
     "output_type": "stream",
     "text": [
      "df --> (47968, 17)\n",
      "train -> (26861, 17)\n",
      "validate -> (11513, 17)\n",
      "test -> (9594, 17)\n"
     ]
    }
   ],
   "source": [
    "train, validate, test = wz.wrangle_zillow()"
   ]
  },
  {
   "cell_type": "code",
   "execution_count": null,
   "metadata": {},
   "outputs": [],
   "source": []
  },
  {
   "cell_type": "markdown",
   "metadata": {},
   "source": [
    "____________________________"
   ]
  }
 ],
 "metadata": {
  "kernelspec": {
   "display_name": "Python 3",
   "language": "python",
   "name": "python3"
  },
  "language_info": {
   "codemirror_mode": {
    "name": "ipython",
    "version": 3
   },
   "file_extension": ".py",
   "mimetype": "text/x-python",
   "name": "python",
   "nbconvert_exporter": "python",
   "pygments_lexer": "ipython3",
   "version": "3.8.5"
  }
 },
 "nbformat": 4,
 "nbformat_minor": 4
}
