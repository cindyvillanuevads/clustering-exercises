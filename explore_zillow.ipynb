{
 "cells": [
  {
   "cell_type": "code",
   "execution_count": 1,
   "metadata": {},
   "outputs": [],
   "source": [
    "import numpy as np\n",
    "import pandas as pd\n",
    "import acquire as a \n",
    "import prepare as p\n",
    "import wrangle_zillow as wz\n",
    "import matplotlib.pyplot as plt\n",
    "import seaborn as sns\n",
    "import scipy.stats as stats\n",
    "from sklearn.impute import SimpleImputer"
   ]
  },
  {
   "cell_type": "code",
   "execution_count": 2,
   "metadata": {},
   "outputs": [
    {
     "name": "stdout",
     "output_type": "stream",
     "text": [
      "df --> (47968, 17)\n",
      "train -> (26861, 17)\n",
      "validate -> (11513, 17)\n",
      "test -> (9594, 17)\n"
     ]
    }
   ],
   "source": [
    "#acquire data\n",
    "train, validate, test =wz.wrangle_zillow()"
   ]
  },
  {
   "cell_type": "markdown",
   "metadata": {},
   "source": [
    "# Exercises\n"
   ]
  },
  {
   "cell_type": "markdown",
   "metadata": {},
   "source": [
    "**1.Ask at least 5 questions about the data, keeping in mind that your target variable is logerror. e.g. Is logerror significantly different for properties in LA County vs Orange County vs Ventura County?**"
   ]
  },
  {
   "cell_type": "code",
   "execution_count": 4,
   "metadata": {},
   "outputs": [
    {
     "name": "stdout",
     "output_type": "stream",
     "text": [
      "Your selected dataframe has 17 columns.\n",
      "There are 0 columns that have missing values.\n",
      "  \n",
      "** There are 0 duplicate rows that represents 0.0% of total Values**\n"
     ]
    },
    {
     "data": {
      "text/html": [
       "<div>\n",
       "<style scoped>\n",
       "    .dataframe tbody tr th:only-of-type {\n",
       "        vertical-align: middle;\n",
       "    }\n",
       "\n",
       "    .dataframe tbody tr th {\n",
       "        vertical-align: top;\n",
       "    }\n",
       "\n",
       "    .dataframe thead th {\n",
       "        text-align: right;\n",
       "    }\n",
       "</style>\n",
       "<table border=\"1\" class=\"dataframe\">\n",
       "  <thead>\n",
       "    <tr style=\"text-align: right;\">\n",
       "      <th></th>\n",
       "      <th>Missing Values</th>\n",
       "      <th>% of Total Values</th>\n",
       "    </tr>\n",
       "  </thead>\n",
       "  <tbody>\n",
       "  </tbody>\n",
       "</table>\n",
       "</div>"
      ],
      "text/plain": [
       "Empty DataFrame\n",
       "Columns: [Missing Values, % of Total Values]\n",
       "Index: []"
      ]
     },
     "execution_count": 4,
     "metadata": {},
     "output_type": "execute_result"
    }
   ],
   "source": [
    "a.miss_dup_values(train)"
   ]
  },
  {
   "cell_type": "code",
   "execution_count": 3,
   "metadata": {},
   "outputs": [
    {
     "data": {
      "text/html": [
       "<div>\n",
       "<style scoped>\n",
       "    .dataframe tbody tr th:only-of-type {\n",
       "        vertical-align: middle;\n",
       "    }\n",
       "\n",
       "    .dataframe tbody tr th {\n",
       "        vertical-align: top;\n",
       "    }\n",
       "\n",
       "    .dataframe thead th {\n",
       "        text-align: right;\n",
       "    }\n",
       "</style>\n",
       "<table border=\"1\" class=\"dataframe\">\n",
       "  <thead>\n",
       "    <tr style=\"text-align: right;\">\n",
       "      <th></th>\n",
       "      <th>parcelid</th>\n",
       "      <th>bathroomcnt</th>\n",
       "      <th>bedroomcnt</th>\n",
       "      <th>calculatedfinishedsquarefeet</th>\n",
       "      <th>fips</th>\n",
       "      <th>latitude</th>\n",
       "      <th>longitude</th>\n",
       "      <th>lotsizesquarefeet</th>\n",
       "      <th>yearbuilt</th>\n",
       "      <th>heatingorsystemtypeid</th>\n",
       "      <th>propertylandusetypeid</th>\n",
       "      <th>propertylandusedesc</th>\n",
       "      <th>unitcnt</th>\n",
       "      <th>taxvaluedollarcnt</th>\n",
       "      <th>taxamount</th>\n",
       "      <th>logerror</th>\n",
       "      <th>transactiondate</th>\n",
       "    </tr>\n",
       "  </thead>\n",
       "  <tbody>\n",
       "    <tr>\n",
       "      <th>33805</th>\n",
       "      <td>13998373</td>\n",
       "      <td>2.0</td>\n",
       "      <td>3.0</td>\n",
       "      <td>1213.0</td>\n",
       "      <td>6059.0</td>\n",
       "      <td>33787029.0</td>\n",
       "      <td>-118021448.0</td>\n",
       "      <td>6300.0</td>\n",
       "      <td>1959.0</td>\n",
       "      <td>2.0</td>\n",
       "      <td>261.0</td>\n",
       "      <td>Single Family Residential</td>\n",
       "      <td>1.0</td>\n",
       "      <td>265294.0</td>\n",
       "      <td>5187.02</td>\n",
       "      <td>-0.019196</td>\n",
       "      <td>2017-05-08</td>\n",
       "    </tr>\n",
       "    <tr>\n",
       "      <th>71483</th>\n",
       "      <td>14367308</td>\n",
       "      <td>2.5</td>\n",
       "      <td>4.0</td>\n",
       "      <td>1796.0</td>\n",
       "      <td>6059.0</td>\n",
       "      <td>33684762.0</td>\n",
       "      <td>-117672114.0</td>\n",
       "      <td>3750.0</td>\n",
       "      <td>1995.0</td>\n",
       "      <td>2.0</td>\n",
       "      <td>261.0</td>\n",
       "      <td>Single Family Residential</td>\n",
       "      <td>1.0</td>\n",
       "      <td>276435.0</td>\n",
       "      <td>3535.70</td>\n",
       "      <td>-0.007649</td>\n",
       "      <td>2017-08-29</td>\n",
       "    </tr>\n",
       "    <tr>\n",
       "      <th>13285</th>\n",
       "      <td>10860228</td>\n",
       "      <td>2.0</td>\n",
       "      <td>3.0</td>\n",
       "      <td>1527.0</td>\n",
       "      <td>6037.0</td>\n",
       "      <td>34159441.0</td>\n",
       "      <td>-118433721.0</td>\n",
       "      <td>5899.0</td>\n",
       "      <td>1948.0</td>\n",
       "      <td>7.0</td>\n",
       "      <td>261.0</td>\n",
       "      <td>Single Family Residential</td>\n",
       "      <td>1.0</td>\n",
       "      <td>837507.0</td>\n",
       "      <td>10126.12</td>\n",
       "      <td>-0.023743</td>\n",
       "      <td>2017-02-28</td>\n",
       "    </tr>\n",
       "    <tr>\n",
       "      <th>49527</th>\n",
       "      <td>11034960</td>\n",
       "      <td>2.0</td>\n",
       "      <td>3.0</td>\n",
       "      <td>1418.0</td>\n",
       "      <td>6037.0</td>\n",
       "      <td>34239930.0</td>\n",
       "      <td>-118437196.0</td>\n",
       "      <td>6238.0</td>\n",
       "      <td>1952.0</td>\n",
       "      <td>7.0</td>\n",
       "      <td>261.0</td>\n",
       "      <td>Single Family Residential</td>\n",
       "      <td>1.0</td>\n",
       "      <td>355336.0</td>\n",
       "      <td>4441.11</td>\n",
       "      <td>0.258737</td>\n",
       "      <td>2017-06-22</td>\n",
       "    </tr>\n",
       "    <tr>\n",
       "      <th>7578</th>\n",
       "      <td>12937593</td>\n",
       "      <td>1.0</td>\n",
       "      <td>3.0</td>\n",
       "      <td>1442.0</td>\n",
       "      <td>6037.0</td>\n",
       "      <td>34072720.0</td>\n",
       "      <td>-117919131.0</td>\n",
       "      <td>9885.0</td>\n",
       "      <td>1952.0</td>\n",
       "      <td>2.0</td>\n",
       "      <td>261.0</td>\n",
       "      <td>Single Family Residential</td>\n",
       "      <td>1.0</td>\n",
       "      <td>308440.0</td>\n",
       "      <td>3952.11</td>\n",
       "      <td>0.029482</td>\n",
       "      <td>2017-02-02</td>\n",
       "    </tr>\n",
       "  </tbody>\n",
       "</table>\n",
       "</div>"
      ],
      "text/plain": [
       "       parcelid  bathroomcnt  bedroomcnt  calculatedfinishedsquarefeet  \\\n",
       "33805  13998373          2.0         3.0                        1213.0   \n",
       "71483  14367308          2.5         4.0                        1796.0   \n",
       "13285  10860228          2.0         3.0                        1527.0   \n",
       "49527  11034960          2.0         3.0                        1418.0   \n",
       "7578   12937593          1.0         3.0                        1442.0   \n",
       "\n",
       "         fips    latitude    longitude  lotsizesquarefeet  yearbuilt  \\\n",
       "33805  6059.0  33787029.0 -118021448.0             6300.0     1959.0   \n",
       "71483  6059.0  33684762.0 -117672114.0             3750.0     1995.0   \n",
       "13285  6037.0  34159441.0 -118433721.0             5899.0     1948.0   \n",
       "49527  6037.0  34239930.0 -118437196.0             6238.0     1952.0   \n",
       "7578   6037.0  34072720.0 -117919131.0             9885.0     1952.0   \n",
       "\n",
       "       heatingorsystemtypeid  propertylandusetypeid  \\\n",
       "33805                    2.0                  261.0   \n",
       "71483                    2.0                  261.0   \n",
       "13285                    7.0                  261.0   \n",
       "49527                    7.0                  261.0   \n",
       "7578                     2.0                  261.0   \n",
       "\n",
       "             propertylandusedesc  unitcnt  taxvaluedollarcnt  taxamount  \\\n",
       "33805  Single Family Residential      1.0           265294.0    5187.02   \n",
       "71483  Single Family Residential      1.0           276435.0    3535.70   \n",
       "13285  Single Family Residential      1.0           837507.0   10126.12   \n",
       "49527  Single Family Residential      1.0           355336.0    4441.11   \n",
       "7578   Single Family Residential      1.0           308440.0    3952.11   \n",
       "\n",
       "       logerror transactiondate  \n",
       "33805 -0.019196      2017-05-08  \n",
       "71483 -0.007649      2017-08-29  \n",
       "13285 -0.023743      2017-02-28  \n",
       "49527  0.258737      2017-06-22  \n",
       "7578   0.029482      2017-02-02  "
      ]
     },
     "execution_count": 3,
     "metadata": {},
     "output_type": "execute_result"
    }
   ],
   "source": [
    "train.head()"
   ]
  },
  {
   "cell_type": "markdown",
   "metadata": {},
   "source": [
    "- I will add a new column with the name of counties \n",
    "-unitcnt can be removed\n"
   ]
  },
  {
   "cell_type": "code",
   "execution_count": 5,
   "metadata": {},
   "outputs": [],
   "source": [
    "counties= {\n",
    "    6037: \"Los Angeles\",\n",
    "    6059: \"Orange\",\n",
    "    6111: \"Ventura\"\n",
    "    }"
   ]
  },
  {
   "cell_type": "code",
   "execution_count": 6,
   "metadata": {},
   "outputs": [],
   "source": [
    "train['county_name'] = train.fips.map(counties)"
   ]
  },
  {
   "cell_type": "code",
   "execution_count": 7,
   "metadata": {
    "scrolled": false
   },
   "outputs": [
    {
     "data": {
      "text/html": [
       "<div>\n",
       "<style scoped>\n",
       "    .dataframe tbody tr th:only-of-type {\n",
       "        vertical-align: middle;\n",
       "    }\n",
       "\n",
       "    .dataframe tbody tr th {\n",
       "        vertical-align: top;\n",
       "    }\n",
       "\n",
       "    .dataframe thead th {\n",
       "        text-align: right;\n",
       "    }\n",
       "</style>\n",
       "<table border=\"1\" class=\"dataframe\">\n",
       "  <thead>\n",
       "    <tr style=\"text-align: right;\">\n",
       "      <th></th>\n",
       "      <th>parcelid</th>\n",
       "      <th>bathroomcnt</th>\n",
       "      <th>bedroomcnt</th>\n",
       "      <th>calculatedfinishedsquarefeet</th>\n",
       "      <th>fips</th>\n",
       "      <th>latitude</th>\n",
       "      <th>longitude</th>\n",
       "      <th>lotsizesquarefeet</th>\n",
       "      <th>yearbuilt</th>\n",
       "      <th>heatingorsystemtypeid</th>\n",
       "      <th>propertylandusetypeid</th>\n",
       "      <th>propertylandusedesc</th>\n",
       "      <th>unitcnt</th>\n",
       "      <th>taxvaluedollarcnt</th>\n",
       "      <th>taxamount</th>\n",
       "      <th>logerror</th>\n",
       "      <th>transactiondate</th>\n",
       "      <th>county_name</th>\n",
       "    </tr>\n",
       "  </thead>\n",
       "  <tbody>\n",
       "    <tr>\n",
       "      <th>33805</th>\n",
       "      <td>13998373</td>\n",
       "      <td>2.0</td>\n",
       "      <td>3.0</td>\n",
       "      <td>1213.0</td>\n",
       "      <td>6059.0</td>\n",
       "      <td>33787029.0</td>\n",
       "      <td>-118021448.0</td>\n",
       "      <td>6300.0</td>\n",
       "      <td>1959.0</td>\n",
       "      <td>2.0</td>\n",
       "      <td>261.0</td>\n",
       "      <td>Single Family Residential</td>\n",
       "      <td>1.0</td>\n",
       "      <td>265294.0</td>\n",
       "      <td>5187.02</td>\n",
       "      <td>-0.019196</td>\n",
       "      <td>2017-05-08</td>\n",
       "      <td>Orange</td>\n",
       "    </tr>\n",
       "    <tr>\n",
       "      <th>71483</th>\n",
       "      <td>14367308</td>\n",
       "      <td>2.5</td>\n",
       "      <td>4.0</td>\n",
       "      <td>1796.0</td>\n",
       "      <td>6059.0</td>\n",
       "      <td>33684762.0</td>\n",
       "      <td>-117672114.0</td>\n",
       "      <td>3750.0</td>\n",
       "      <td>1995.0</td>\n",
       "      <td>2.0</td>\n",
       "      <td>261.0</td>\n",
       "      <td>Single Family Residential</td>\n",
       "      <td>1.0</td>\n",
       "      <td>276435.0</td>\n",
       "      <td>3535.70</td>\n",
       "      <td>-0.007649</td>\n",
       "      <td>2017-08-29</td>\n",
       "      <td>Orange</td>\n",
       "    </tr>\n",
       "    <tr>\n",
       "      <th>13285</th>\n",
       "      <td>10860228</td>\n",
       "      <td>2.0</td>\n",
       "      <td>3.0</td>\n",
       "      <td>1527.0</td>\n",
       "      <td>6037.0</td>\n",
       "      <td>34159441.0</td>\n",
       "      <td>-118433721.0</td>\n",
       "      <td>5899.0</td>\n",
       "      <td>1948.0</td>\n",
       "      <td>7.0</td>\n",
       "      <td>261.0</td>\n",
       "      <td>Single Family Residential</td>\n",
       "      <td>1.0</td>\n",
       "      <td>837507.0</td>\n",
       "      <td>10126.12</td>\n",
       "      <td>-0.023743</td>\n",
       "      <td>2017-02-28</td>\n",
       "      <td>Los Angeles</td>\n",
       "    </tr>\n",
       "    <tr>\n",
       "      <th>49527</th>\n",
       "      <td>11034960</td>\n",
       "      <td>2.0</td>\n",
       "      <td>3.0</td>\n",
       "      <td>1418.0</td>\n",
       "      <td>6037.0</td>\n",
       "      <td>34239930.0</td>\n",
       "      <td>-118437196.0</td>\n",
       "      <td>6238.0</td>\n",
       "      <td>1952.0</td>\n",
       "      <td>7.0</td>\n",
       "      <td>261.0</td>\n",
       "      <td>Single Family Residential</td>\n",
       "      <td>1.0</td>\n",
       "      <td>355336.0</td>\n",
       "      <td>4441.11</td>\n",
       "      <td>0.258737</td>\n",
       "      <td>2017-06-22</td>\n",
       "      <td>Los Angeles</td>\n",
       "    </tr>\n",
       "    <tr>\n",
       "      <th>7578</th>\n",
       "      <td>12937593</td>\n",
       "      <td>1.0</td>\n",
       "      <td>3.0</td>\n",
       "      <td>1442.0</td>\n",
       "      <td>6037.0</td>\n",
       "      <td>34072720.0</td>\n",
       "      <td>-117919131.0</td>\n",
       "      <td>9885.0</td>\n",
       "      <td>1952.0</td>\n",
       "      <td>2.0</td>\n",
       "      <td>261.0</td>\n",
       "      <td>Single Family Residential</td>\n",
       "      <td>1.0</td>\n",
       "      <td>308440.0</td>\n",
       "      <td>3952.11</td>\n",
       "      <td>0.029482</td>\n",
       "      <td>2017-02-02</td>\n",
       "      <td>Los Angeles</td>\n",
       "    </tr>\n",
       "  </tbody>\n",
       "</table>\n",
       "</div>"
      ],
      "text/plain": [
       "       parcelid  bathroomcnt  bedroomcnt  calculatedfinishedsquarefeet  \\\n",
       "33805  13998373          2.0         3.0                        1213.0   \n",
       "71483  14367308          2.5         4.0                        1796.0   \n",
       "13285  10860228          2.0         3.0                        1527.0   \n",
       "49527  11034960          2.0         3.0                        1418.0   \n",
       "7578   12937593          1.0         3.0                        1442.0   \n",
       "\n",
       "         fips    latitude    longitude  lotsizesquarefeet  yearbuilt  \\\n",
       "33805  6059.0  33787029.0 -118021448.0             6300.0     1959.0   \n",
       "71483  6059.0  33684762.0 -117672114.0             3750.0     1995.0   \n",
       "13285  6037.0  34159441.0 -118433721.0             5899.0     1948.0   \n",
       "49527  6037.0  34239930.0 -118437196.0             6238.0     1952.0   \n",
       "7578   6037.0  34072720.0 -117919131.0             9885.0     1952.0   \n",
       "\n",
       "       heatingorsystemtypeid  propertylandusetypeid  \\\n",
       "33805                    2.0                  261.0   \n",
       "71483                    2.0                  261.0   \n",
       "13285                    7.0                  261.0   \n",
       "49527                    7.0                  261.0   \n",
       "7578                     2.0                  261.0   \n",
       "\n",
       "             propertylandusedesc  unitcnt  taxvaluedollarcnt  taxamount  \\\n",
       "33805  Single Family Residential      1.0           265294.0    5187.02   \n",
       "71483  Single Family Residential      1.0           276435.0    3535.70   \n",
       "13285  Single Family Residential      1.0           837507.0   10126.12   \n",
       "49527  Single Family Residential      1.0           355336.0    4441.11   \n",
       "7578   Single Family Residential      1.0           308440.0    3952.11   \n",
       "\n",
       "       logerror transactiondate  county_name  \n",
       "33805 -0.019196      2017-05-08       Orange  \n",
       "71483 -0.007649      2017-08-29       Orange  \n",
       "13285 -0.023743      2017-02-28  Los Angeles  \n",
       "49527  0.258737      2017-06-22  Los Angeles  \n",
       "7578   0.029482      2017-02-02  Los Angeles  "
      ]
     },
     "execution_count": 7,
     "metadata": {},
     "output_type": "execute_result"
    }
   ],
   "source": [
    "train.head()"
   ]
  },
  {
   "cell_type": "markdown",
   "metadata": {},
   "source": [
    "### Questions\n"
   ]
  },
  {
   "cell_type": "markdown",
   "metadata": {},
   "source": [
    "**- 1. Is logerror significantly different for properties in LA County vs Orange County vs Ventura County?**"
   ]
  },
  {
   "cell_type": "code",
   "execution_count": 16,
   "metadata": {
    "scrolled": true
   },
   "outputs": [
    {
     "data": {
      "text/html": [
       "<div>\n",
       "<style scoped>\n",
       "    .dataframe tbody tr th:only-of-type {\n",
       "        vertical-align: middle;\n",
       "    }\n",
       "\n",
       "    .dataframe tbody tr th {\n",
       "        vertical-align: top;\n",
       "    }\n",
       "\n",
       "    .dataframe thead th {\n",
       "        text-align: right;\n",
       "    }\n",
       "</style>\n",
       "<table border=\"1\" class=\"dataframe\">\n",
       "  <thead>\n",
       "    <tr style=\"text-align: right;\">\n",
       "      <th></th>\n",
       "      <th>logerror</th>\n",
       "    </tr>\n",
       "    <tr>\n",
       "      <th>county_name</th>\n",
       "      <th></th>\n",
       "    </tr>\n",
       "  </thead>\n",
       "  <tbody>\n",
       "    <tr>\n",
       "      <th>Los Angeles</th>\n",
       "      <td>0.012751</td>\n",
       "    </tr>\n",
       "    <tr>\n",
       "      <th>Orange</th>\n",
       "      <td>0.023246</td>\n",
       "    </tr>\n",
       "    <tr>\n",
       "      <th>Ventura</th>\n",
       "      <td>0.016612</td>\n",
       "    </tr>\n",
       "  </tbody>\n",
       "</table>\n",
       "</div>"
      ],
      "text/plain": [
       "             logerror\n",
       "county_name          \n",
       "Los Angeles  0.012751\n",
       "Orange       0.023246\n",
       "Ventura      0.016612"
      ]
     },
     "execution_count": 16,
     "metadata": {},
     "output_type": "execute_result"
    }
   ],
   "source": [
    "train[['county_name', 'logerror']].groupby(['county_name']).mean()"
   ]
  },
  {
   "cell_type": "code",
   "execution_count": 27,
   "metadata": {
    "scrolled": false
   },
   "outputs": [
    {
     "data": {
      "image/png": "[encoded data removed]",
      "text/plain": [
       "<Figure size 936x576 with 1 Axes>"
      ]
     },
     "metadata": {
      "needs_background": "light"
     },
     "output_type": "display_data"
    }
   ],
   "source": [
    "plt.figure(figsize=(13,8))\n",
    "sns.barplot(data=train, y='logerror', x='county_name', palette = 'tab10')\n",
    "plt.title('Average logerror by County')\n",
    "plt.show()"
   ]
  },
  {
   "cell_type": "code",
   "execution_count": null,
   "metadata": {},
   "outputs": [],
   "source": [
    "**takeaways**\n",
    "\n",
    "- los angeles has the less average logerror "
   ]
  },
  {
   "cell_type": "code",
   "execution_count": 24,
   "metadata": {
    "scrolled": true
   },
   "outputs": [
    {
     "data": {
      "image/png": "[encoded data removed]",
      "text/plain": [
       "<Figure size 936x936 with 1 Axes>"
      ]
     },
     "metadata": {
      "needs_background": "light"
     },
     "output_type": "display_data"
    }
   ],
   "source": [
    "plt.figure(figsize=(13,13))\n",
    "sns.boxplot(train.county_name, train.logerror)\n",
    "plt.title('Potential difference in logerror across counties?')\n",
    "plt.show()"
   ]
  },
  {
   "cell_type": "code",
   "execution_count": 28,
   "metadata": {},
   "outputs": [],
   "source": [
    "#boxplot does not show clear information"
   ]
  },
  {
   "cell_type": "code",
   "execution_count": null,
   "metadata": {},
   "outputs": [],
   "source": [
    "questions\n",
    "-bin built year\n"
   ]
  },
  {
   "cell_type": "markdown",
   "metadata": {},
   "source": [
    "**2. Answer those questions through a mix of statistical tests and visualizations.**"
   ]
  },
  {
   "cell_type": "markdown",
   "metadata": {},
   "source": [
    "### Bonus:\n",
    "\n",
    "**Compute the mean(logerror) by zipcode and the overall mean(logerror). Write a loop that will run a t-test between the overall mean and the mean for each zip code. We want to identify the zip codes where the error is significantly higher or lower than the expected error.**"
   ]
  },
  {
   "cell_type": "code",
   "execution_count": null,
   "metadata": {},
   "outputs": [],
   "source": []
  }
 ],
 "metadata": {
  "kernelspec": {
   "display_name": "Python 3",
   "language": "python",
   "name": "python3"
  },
  "language_info": {
   "codemirror_mode": {
    "name": "ipython",
    "version": 3
   },
   "file_extension": ".py",
   "mimetype": "text/x-python",
   "name": "python",
   "nbconvert_exporter": "python",
   "pygments_lexer": "ipython3",
   "version": "3.8.5"
  }
 },
 "nbformat": 4,
 "nbformat_minor": 4
}
